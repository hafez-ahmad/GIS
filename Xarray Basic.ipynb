{
 "cells": [
  {
   "cell_type": "code",
   "execution_count": 1,
   "metadata": {},
   "outputs": [
    {
     "ename": "ImportError",
     "evalue": "No module named xarray",
     "output_type": "error",
     "traceback": [
      "\u001b[1;31m---------------------------------------------------------------------------\u001b[0m",
      "\u001b[1;31mImportError\u001b[0m                               Traceback (most recent call last)",
      "\u001b[1;32m<ipython-input-1-f5fe36309f4c>\u001b[0m in \u001b[0;36m<module>\u001b[1;34m()\u001b[0m\n\u001b[0;32m      3\u001b[0m \u001b[1;32mimport\u001b[0m \u001b[0mmatplotlib\u001b[0m\u001b[1;33m.\u001b[0m\u001b[0mpyplot\u001b[0m \u001b[1;32mas\u001b[0m \u001b[0mplt\u001b[0m\u001b[1;33m\u001b[0m\u001b[0m\n\u001b[0;32m      4\u001b[0m \u001b[1;32mimport\u001b[0m \u001b[0mseaborn\u001b[0m \u001b[1;32mas\u001b[0m \u001b[0msn\u001b[0m\u001b[1;33m\u001b[0m\u001b[0m\n\u001b[1;32m----> 5\u001b[1;33m \u001b[1;32mimport\u001b[0m \u001b[0mxarray\u001b[0m \u001b[1;32mas\u001b[0m \u001b[0mxr\u001b[0m\u001b[1;33m\u001b[0m\u001b[0m\n\u001b[0m",
      "\u001b[1;31mImportError\u001b[0m: No module named xarray"
     ]
    }
   ],
   "source": [
    "import numpy as np\n",
    "import pandas as pd\n",
    "import matplotlib.pyplot as plt\n",
    "import seaborn as sn\n",
    "import xarray as xr"
   ]
  },
  {
   "cell_type": "code",
   "execution_count": 75,
   "metadata": {},
   "outputs": [
    {
     "data": {
      "text/plain": [
       "array([[-0.35695182, -1.92181164,  1.08944547,  0.71164006, -0.34970414,\n",
       "        -0.06623631, -1.00986765],\n",
       "       [-1.19416578, -0.81963153,  0.18079556,  1.04191832,  0.47476447,\n",
       "        -0.69379428,  1.05383755],\n",
       "       [ 0.51189103, -0.37506863,  0.6006823 ,  0.51189688, -0.78492515,\n",
       "        -1.04270271, -1.59174817],\n",
       "       [-0.24423463,  0.76841264,  0.03234236,  0.31548365,  0.40476049,\n",
       "         1.10062529, -0.15240091]])"
      ]
     },
     "execution_count": 75,
     "metadata": {},
     "output_type": "execute_result"
    }
   ],
   "source": [
    "hafez=np.random.randn(4,7)\n",
    "hafez"
   ]
  },
  {
   "cell_type": "code",
   "execution_count": 76,
   "metadata": {},
   "outputs": [
    {
     "data": {
      "text/plain": [
       "<xarray.DataArray (dim_0: 4, dim_1: 7)>\n",
       "array([[ 1.323913, -1.561142, -0.197249, -2.000781, -0.362219, -0.1708  ,\n",
       "        -1.467891],\n",
       "       [-1.388788, -1.25471 ,  1.692894, -1.413742, -0.171664, -0.307645,\n",
       "        -0.408325],\n",
       "       [ 0.568119,  0.102251,  0.471141,  0.699472, -0.629105, -0.897112,\n",
       "        -2.129088],\n",
       "       [ 0.622701, -0.043312,  0.86143 ,  0.175849,  0.182654,  1.297528,\n",
       "         1.247212]])\n",
       "Dimensions without coordinates: dim_0, dim_1"
      ]
     },
     "execution_count": 76,
     "metadata": {},
     "output_type": "execute_result"
    }
   ],
   "source": [
    "ami=xr.DataArray(np.random.randn(4,7))\n",
    "ami"
   ]
  },
  {
   "cell_type": "code",
   "execution_count": 78,
   "metadata": {},
   "outputs": [
    {
     "data": {
      "text/plain": [
       "<xarray.DataArray (dim_0: 1)>\n",
       "array([-0.197249])\n",
       "Dimensions without coordinates: dim_0"
      ]
     },
     "execution_count": 78,
     "metadata": {},
     "output_type": "execute_result"
    }
   ],
   "source": [
    "ami[:1,2]\n"
   ]
  },
  {
   "cell_type": "code",
   "execution_count": 80,
   "metadata": {},
   "outputs": [
    {
     "data": {
      "text/plain": [
       "<xarray.DataArray ()>\n",
       "array(1.692893617755346)"
      ]
     },
     "execution_count": 80,
     "metadata": {},
     "output_type": "execute_result"
    }
   ],
   "source": [
    "ami[1,2]\n"
   ]
  },
  {
   "cell_type": "code",
   "execution_count": 21,
   "metadata": {},
   "outputs": [
    {
     "data": {
      "text/plain": [
       "array([[ 2.06698413, -1.56948761,  0.54332342],\n",
       "       [-0.17287761, -1.08054681, -1.21203625]])"
      ]
     },
     "execution_count": 21,
     "metadata": {},
     "output_type": "execute_result"
    }
   ],
   "source": [
    "np.random.randn(2,3)"
   ]
  },
  {
   "cell_type": "code",
   "execution_count": 20,
   "metadata": {},
   "outputs": [
    {
     "data": {
      "text/plain": [
       "<xarray.DataArray (dim_0: 2, dim_1: 3)>\n",
       "array([[ 0.664056,  1.025396,  0.816106],\n",
       "       [ 0.705273,  0.23626 ,  0.36336 ]])\n",
       "Dimensions without coordinates: dim_0, dim_1"
      ]
     },
     "execution_count": 20,
     "metadata": {},
     "output_type": "execute_result"
    }
   ],
   "source": [
    "xr.DataArray(np.random.randn(2,3))\n"
   ]
  },
  {
   "cell_type": "code",
   "execution_count": 7,
   "metadata": {},
   "outputs": [
    {
     "data": {
      "text/plain": [
       "<xarray.DataArray (x: 2, y: 3)>\n",
       "array([[ 0.288535, -1.921001, -1.577924],\n",
       "       [ 0.568268, -1.467722, -0.498705]])\n",
       "Coordinates:\n",
       "  * x        (x) |S1 'a' 'b'\n",
       "Dimensions without coordinates: y"
      ]
     },
     "execution_count": 7,
     "metadata": {},
     "output_type": "execute_result"
    }
   ],
   "source": [
    "data=xr.DataArray(np.random.randn(2,3),coords={'x':['a','b']},dims=('x','y'))\n",
    "data"
   ]
  },
  {
   "cell_type": "code",
   "execution_count": 14,
   "metadata": {},
   "outputs": [
    {
     "data": {
      "text/plain": [
       "a    0\n",
       "b    1\n",
       "c    2\n",
       "d    3\n",
       "Name: hafez, dtype: int64"
      ]
     },
     "execution_count": 14,
     "metadata": {},
     "output_type": "execute_result"
    }
   ],
   "source": [
    "pd.Series(range(4),index=list('abcd'),name=\"hafez\")"
   ]
  },
  {
   "cell_type": "code",
   "execution_count": 15,
   "metadata": {},
   "outputs": [
    {
     "data": {
      "text/plain": [
       "<xarray.DataArray 'hafez' (dim_0: 4)>\n",
       "array([0, 1, 2, 3], dtype=int64)\n",
       "Coordinates:\n",
       "  * dim_0    (dim_0) object 'a' 'b' 'c' 'd'"
      ]
     },
     "execution_count": 15,
     "metadata": {},
     "output_type": "execute_result"
    }
   ],
   "source": [
    "xr.DataArray(pd.Series(range(4),index=list('abcd'),name=\"hafez\"))"
   ]
  },
  {
   "cell_type": "code",
   "execution_count": 16,
   "metadata": {},
   "outputs": [
    {
     "data": {
      "text/plain": [
       "array([[ 0.28853478, -1.92100066, -1.57792375],\n",
       "       [ 0.56826789, -1.46772235, -0.49870464]])"
      ]
     },
     "execution_count": 16,
     "metadata": {},
     "output_type": "execute_result"
    }
   ],
   "source": [
    "data.values"
   ]
  },
  {
   "cell_type": "code",
   "execution_count": 17,
   "metadata": {},
   "outputs": [
    {
     "data": {
      "text/plain": [
       "('x', 'y')"
      ]
     },
     "execution_count": 17,
     "metadata": {},
     "output_type": "execute_result"
    }
   ],
   "source": [
    "data.dims"
   ]
  },
  {
   "cell_type": "code",
   "execution_count": 18,
   "metadata": {},
   "outputs": [
    {
     "data": {
      "text/plain": [
       "Coordinates:\n",
       "  * x        (x) |S1 'a' 'b'"
      ]
     },
     "execution_count": 18,
     "metadata": {},
     "output_type": "execute_result"
    }
   ],
   "source": [
    "data.coords"
   ]
  },
  {
   "cell_type": "code",
   "execution_count": 19,
   "metadata": {},
   "outputs": [
    {
     "data": {
      "text/plain": [
       "OrderedDict()"
      ]
     },
     "execution_count": 19,
     "metadata": {},
     "output_type": "execute_result"
    }
   ],
   "source": [
    "data.attrs"
   ]
  },
  {
   "cell_type": "code",
   "execution_count": 23,
   "metadata": {},
   "outputs": [
    {
     "data": {
      "text/plain": [
       "<xarray.DataArray (x: 2, y: 3)>\n",
       "array([[ 0.288535, -1.921001, -1.577924],\n",
       "       [ 0.568268, -1.467722, -0.498705]])\n",
       "Coordinates:\n",
       "  * x        (x) |S1 'a' 'b'\n",
       "Dimensions without coordinates: y"
      ]
     },
     "execution_count": 23,
     "metadata": {},
     "output_type": "execute_result"
    }
   ],
   "source": [
    "data"
   ]
  },
  {
   "cell_type": "code",
   "execution_count": 26,
   "metadata": {},
   "outputs": [
    {
     "data": {
      "text/plain": [
       "<xarray.DataArray (x: 1, y: 3)>\n",
       "array([[ 0.288535, -1.921001, -1.577924]])\n",
       "Coordinates:\n",
       "  * x        (x) |S1 'a'\n",
       "Dimensions without coordinates: y"
      ]
     },
     "execution_count": 26,
     "metadata": {},
     "output_type": "execute_result"
    }
   ],
   "source": [
    "#indexing\n",
    "data[0:1]"
   ]
  },
  {
   "cell_type": "code",
   "execution_count": 28,
   "metadata": {},
   "outputs": [
    {
     "data": {
      "text/plain": [
       "<xarray.DataArray (x: 2, y: 3)>\n",
       "array([[ 0.288535, -1.921001, -1.577924],\n",
       "       [ 0.568268, -1.467722, -0.498705]])\n",
       "Coordinates:\n",
       "  * x        (x) |S1 'a' 'b'\n",
       "Dimensions without coordinates: y"
      ]
     },
     "execution_count": 28,
     "metadata": {},
     "output_type": "execute_result"
    }
   ],
   "source": [
    "data[[0,1]]"
   ]
  },
  {
   "cell_type": "code",
   "execution_count": 30,
   "metadata": {},
   "outputs": [
    {
     "data": {
      "text/plain": [
       "<xarray.DataArray (x: 2, y: 3)>\n",
       "array([[ 0.288535, -1.921001, -1.577924],\n",
       "       [ 0.568268, -1.467722, -0.498705]])\n",
       "Coordinates:\n",
       "  * x        (x) |S1 'a' 'b'\n",
       "Dimensions without coordinates: y"
      ]
     },
     "execution_count": 30,
     "metadata": {},
     "output_type": "execute_result"
    }
   ],
   "source": [
    "data.loc['a':'b']"
   ]
  },
  {
   "cell_type": "code",
   "execution_count": 31,
   "metadata": {},
   "outputs": [
    {
     "data": {
      "text/plain": [
       "<xarray.DataArray (x: 2, y: 3)>\n",
       "array([[ 0.288535, -1.921001, -1.577924],\n",
       "       [ 0.568268, -1.467722, -0.498705]])\n",
       "Coordinates:\n",
       "  * x        (x) |S1 'a' 'b'\n",
       "Dimensions without coordinates: y"
      ]
     },
     "execution_count": 31,
     "metadata": {},
     "output_type": "execute_result"
    }
   ],
   "source": [
    "data.sel(x=['a','b'])"
   ]
  },
  {
   "cell_type": "code",
   "execution_count": 32,
   "metadata": {},
   "outputs": [
    {
     "data": {
      "text/plain": [
       "<xarray.DataArray (x: 2, y: 3)>\n",
       "array([[ 10.288535,   8.078999,   8.422076],\n",
       "       [ 10.568268,   8.532278,   9.501295]])\n",
       "Coordinates:\n",
       "  * x        (x) |S1 'a' 'b'\n",
       "Dimensions without coordinates: y"
      ]
     },
     "execution_count": 32,
     "metadata": {},
     "output_type": "execute_result"
    }
   ],
   "source": [
    "#ANALYSIS\n",
    "data+10"
   ]
  },
  {
   "cell_type": "code",
   "execution_count": 33,
   "metadata": {},
   "outputs": [
    {
     "data": {
      "text/plain": [
       "<xarray.DataArray (x: 2, y: 3)>\n",
       "array([[ 0.284548, -0.939303, -0.999975],\n",
       "       [ 0.538173, -0.994693, -0.478288]])\n",
       "Coordinates:\n",
       "  * x        (x) |S1 'a' 'b'\n",
       "Dimensions without coordinates: y"
      ]
     },
     "execution_count": 33,
     "metadata": {},
     "output_type": "execute_result"
    }
   ],
   "source": [
    "np.sin(data)"
   ]
  },
  {
   "cell_type": "code",
   "execution_count": 34,
   "metadata": {},
   "outputs": [
    {
     "data": {
      "text/plain": [
       "<xarray.DataArray ()>\n",
       "array(-4.6085487280775626)"
      ]
     },
     "execution_count": 34,
     "metadata": {},
     "output_type": "execute_result"
    }
   ],
   "source": [
    "data.sum()"
   ]
  },
  {
   "cell_type": "code",
   "execution_count": 35,
   "metadata": {},
   "outputs": [
    {
     "data": {
      "text/plain": [
       "<xarray.DataArray (y: 3, x: 2)>\n",
       "array([[ 0.288535,  0.568268],\n",
       "       [-1.921001, -1.467722],\n",
       "       [-1.577924, -0.498705]])\n",
       "Coordinates:\n",
       "  * x        (x) |S1 'a' 'b'\n",
       "Dimensions without coordinates: y"
      ]
     },
     "execution_count": 35,
     "metadata": {},
     "output_type": "execute_result"
    }
   ],
   "source": [
    "data.T"
   ]
  },
  {
   "cell_type": "code",
   "execution_count": 37,
   "metadata": {},
   "outputs": [
    {
     "data": {
      "text/plain": [
       "<xarray.DataArray (y: 3)>\n",
       "array([ 0.428401, -1.694362, -1.038314])\n",
       "Dimensions without coordinates: y"
      ]
     },
     "execution_count": 37,
     "metadata": {},
     "output_type": "execute_result"
    }
   ],
   "source": [
    "data.mean(dim='x')"
   ]
  },
  {
   "cell_type": "code",
   "execution_count": 42,
   "metadata": {},
   "outputs": [
    {
     "data": {
      "text/plain": [
       "<xarray.DataArray 'y' (y: 3)>\n",
       "array([0, 1, 2], dtype=int64)\n",
       "Dimensions without coordinates: y"
      ]
     },
     "execution_count": 42,
     "metadata": {},
     "output_type": "execute_result"
    }
   ],
   "source": [
    "data.coords['y']"
   ]
  },
  {
   "cell_type": "code",
   "execution_count": 44,
   "metadata": {},
   "outputs": [],
   "source": [
    "a=xr.DataArray(np.random.randn(3),[data.coords['y']])"
   ]
  },
  {
   "cell_type": "code",
   "execution_count": 45,
   "metadata": {
    "collapsed": true
   },
   "outputs": [],
   "source": [
    "b=xr.DataArray(np.random.randn(2),dims=('z'))"
   ]
  },
  {
   "cell_type": "code",
   "execution_count": 47,
   "metadata": {},
   "outputs": [
    {
     "data": {
      "text/plain": [
       "<xarray.DataArray (y: 3, z: 2)>\n",
       "array([[ 0.15956 ,  1.43023 ],\n",
       "       [-1.69531 , -0.42464 ],\n",
       "       [ 0.216469,  1.487138]])\n",
       "Coordinates:\n",
       "  * y        (y) int64 0 1 2\n",
       "Dimensions without coordinates: z"
      ]
     },
     "execution_count": 47,
     "metadata": {},
     "output_type": "execute_result"
    }
   ],
   "source": [
    "a+b"
   ]
  },
  {
   "cell_type": "code",
   "execution_count": 48,
   "metadata": {},
   "outputs": [
    {
     "data": {
      "text/plain": [
       "<xarray.Dataset>\n",
       "Dimensions:  (x: 2, y: 3)\n",
       "Coordinates:\n",
       "  * x        (x) |S1 'a' 'b'\n",
       "Dimensions without coordinates: y\n",
       "Data variables:\n",
       "    bar      (x) int32 1 2\n",
       "    ok       (x, y) float64 0.2885 -1.921 -1.578 0.5683 -1.468 -0.4987\n",
       "    baz      float64 3.142"
      ]
     },
     "execution_count": 48,
     "metadata": {},
     "output_type": "execute_result"
    }
   ],
   "source": [
    "ds=xr.Dataset({'ok':data,'bar':('x',[1,2]),'baz':np.pi})\n",
    "ds"
   ]
  },
  {
   "cell_type": "code",
   "execution_count": 53,
   "metadata": {},
   "outputs": [
    {
     "data": {
      "text/plain": [
       "<xarray.Dataset>\n",
       "Dimensions:   (depth: 40, lat: 6, lon: 8)\n",
       "Coordinates:\n",
       "  * depth     (depth) float32 5.0 15.0 25.0 35.0 45.0 55.0 65.0 75.0 85.0 ...\n",
       "  * lat       (lat) float32 -9.8338 -8.16714 -6.50049 -4.83384 -3.16718 -1.50052\n",
       "  * lon       (lon) float32 0.5 325.5 330.5 335.5 340.5 345.5 350.5 355.5\n",
       "    time      datetime64[ns] 1984-12-01\n",
       "Data variables:\n",
       "    salinity  (depth, lat, lon) float64 35.99 36.72 36.43 36.47 36.32 36.34 ...\n",
       "    theta     (depth, lat, lon) float64 297.1 300.5 300.1 299.3 298.7 298.2 ...\n",
       "Attributes:\n",
       "    Conventions:  CF-1.5"
      ]
     },
     "execution_count": 53,
     "metadata": {},
     "output_type": "execute_result"
    }
   ],
   "source": [
    "ds=xr.open_dataset('atlantic_profiles.nc')\n",
    "ds"
   ]
  },
  {
   "cell_type": "code",
   "execution_count": 56,
   "metadata": {},
   "outputs": [
    {
     "data": {
      "text/plain": [
       "<xarray.DataArray 'salinity' (depth: 40, lat: 6, lon: 8)>\n",
       "array([[[ 35.988953,  36.721397, ...,  36.217842,  36.068302],\n",
       "        [ 35.96759 ,  36.577957, ...,  35.995056,  35.940121],\n",
       "        ..., \n",
       "        [ 35.598316,  35.937073, ...,  35.445724,  35.592213],\n",
       "        [ 35.470135,  35.982849, ...,  35.244301,  35.403   ]],\n",
       "\n",
       "       [[ 35.988953,  36.718346, ...,  36.220894,  36.06525 ],\n",
       "        [ 35.96759 ,  36.584064, ...,  35.995056,  35.940121],\n",
       "        ..., \n",
       "        [ 35.62273 ,  35.937073, ...,  35.451824,  35.598316],\n",
       "        [ 35.479294,  35.982849, ...,  35.250404,  35.406048]],\n",
       "\n",
       "       ..., \n",
       "       [[ 34.856716,        nan, ...,  34.856716,  34.829247],\n",
       "        [ 34.86282 ,        nan, ...,  34.838406,  34.841457],\n",
       "        ..., \n",
       "        [ 34.875027,        nan, ...,  34.856716,  34.871975],\n",
       "        [ 34.875027,  34.884186, ...,  34.86282 ,  34.875027]],\n",
       "\n",
       "       [[ 34.820095,        nan, ...,        nan,  34.798729],\n",
       "        [ 34.826199,        nan, ...,        nan,  34.807888],\n",
       "        ..., \n",
       "        [ 34.850613,        nan, ...,        nan,  34.838406],\n",
       "        [ 34.856716,        nan, ...,  34.847561,  34.847561]]])\n",
       "Coordinates:\n",
       "  * depth    (depth) float32 5.0 15.0 25.0 35.0 45.0 55.0 65.0 75.0 85.0 ...\n",
       "  * lat      (lat) float32 -9.8338 -8.16714 -6.50049 -4.83384 -3.16718 -1.50052\n",
       "  * lon      (lon) float32 0.5 325.5 330.5 335.5 340.5 345.5 350.5 355.5\n",
       "    time     datetime64[ns] 1984-12-01\n",
       "Attributes:\n",
       "    standard_name:  sea_water_practical_salinity\n",
       "    units:          1e-3"
      ]
     },
     "execution_count": 56,
     "metadata": {},
     "output_type": "execute_result"
    }
   ],
   "source": [
    "ds['salinity']\n"
   ]
  },
  {
   "cell_type": "code",
   "execution_count": 57,
   "metadata": {},
   "outputs": [
    {
     "data": {
      "text/plain": [
       "Frozen(SortedKeysDict({u'lat': 6, u'depth': 40, u'lon': 8}))"
      ]
     },
     "execution_count": 57,
     "metadata": {},
     "output_type": "execute_result"
    }
   ],
   "source": [
    "ds.dims"
   ]
  },
  {
   "cell_type": "code",
   "execution_count": 58,
   "metadata": {},
   "outputs": [
    {
     "data": {
      "text/plain": [
       "OrderedDict([(u'Conventions', u'CF-1.5')])"
      ]
     },
     "execution_count": 58,
     "metadata": {},
     "output_type": "execute_result"
    }
   ],
   "source": [
    "ds.attrs"
   ]
  },
  {
   "cell_type": "code",
   "execution_count": 59,
   "metadata": {},
   "outputs": [
    {
     "data": {
      "text/plain": [
       "Coordinates:\n",
       "  * depth    (depth) float32 5.0 15.0 25.0 35.0 45.0 55.0 65.0 75.0 85.0 ...\n",
       "  * lat      (lat) float32 -9.8338 -8.16714 -6.50049 -4.83384 -3.16718 -1.50052\n",
       "  * lon      (lon) float32 0.5 325.5 330.5 335.5 340.5 345.5 350.5 355.5\n",
       "    time     datetime64[ns] 1984-12-01"
      ]
     },
     "execution_count": 59,
     "metadata": {},
     "output_type": "execute_result"
    }
   ],
   "source": [
    "ds.coords"
   ]
  },
  {
   "cell_type": "code",
   "execution_count": 60,
   "metadata": {},
   "outputs": [
    {
     "data": {
      "text/plain": [
       "<bound method Dataset.groupby of <xarray.Dataset>\n",
       "Dimensions:   (depth: 40, lat: 6, lon: 8)\n",
       "Coordinates:\n",
       "  * depth     (depth) float32 5.0 15.0 25.0 35.0 45.0 55.0 65.0 75.0 85.0 ...\n",
       "  * lat       (lat) float32 -9.8338 -8.16714 -6.50049 -4.83384 -3.16718 -1.50052\n",
       "  * lon       (lon) float32 0.5 325.5 330.5 335.5 340.5 345.5 350.5 355.5\n",
       "    time      datetime64[ns] 1984-12-01\n",
       "Data variables:\n",
       "    salinity  (depth, lat, lon) float64 35.99 36.72 36.43 36.47 36.32 36.34 ...\n",
       "    theta     (depth, lat, lon) float64 297.1 300.5 300.1 299.3 298.7 298.2 ...\n",
       "Attributes:\n",
       "    Conventions:  CF-1.5>"
      ]
     },
     "execution_count": 60,
     "metadata": {},
     "output_type": "execute_result"
    }
   ],
   "source": [
    "ds.groupby"
   ]
  },
  {
   "cell_type": "code",
   "execution_count": 62,
   "metadata": {},
   "outputs": [
    {
     "data": {
      "text/plain": [
       "array([[[ 35.98895264,  36.7213974 ,  36.43146896, ...,  36.33991623,\n",
       "          36.2178421 ,  36.06830215],\n",
       "        [ 35.96759033,  36.57795715,  36.29718781, ...,  36.14764786,\n",
       "          35.99505615,  35.9401207 ],\n",
       "        [ 35.86993027,  36.4803009 ,  36.23310089, ...,  36.14154434,\n",
       "          35.88824081,  35.81499863],\n",
       "        [ 35.76922226,  36.25751495,  35.93707275, ...,  35.98284912,\n",
       "          35.80583954,  35.69597244],\n",
       "        [ 35.59831619,  35.93707275,  35.72039032, ...,  35.51896667,\n",
       "          35.44572449,  35.59221268],\n",
       "        [ 35.47013474,  35.98284912,  35.78448105, ...,  35.29007721,\n",
       "          35.24430084,  35.40299988]],\n",
       "\n",
       "       [[ 35.98895264,  36.71834564,  36.42841721, ...,  36.33991623,\n",
       "          36.22089386,  36.0652504 ],\n",
       "        [ 35.96759033,  36.58406448,  36.29718781, ...,  36.1445961 ,\n",
       "          35.99505615,  35.9401207 ],\n",
       "        [ 35.86687851,  36.47724915,  36.23004913, ...,  36.14154434,\n",
       "          35.88824081,  35.81194687],\n",
       "        [ 35.78752899,  36.25141144,  35.934021  , ...,  35.97979736,\n",
       "          35.80583954,  35.6990242 ],\n",
       "        [ 35.62273026,  35.93707275,  35.72344208, ...,  35.52812195,\n",
       "          35.45182419,  35.59831619],\n",
       "        [ 35.47929382,  35.98284912,  35.79363251, ...,  35.29618454,\n",
       "          35.25040436,  35.40604782]],\n",
       "\n",
       "       [[ 35.97979736,  36.72444916,  36.43146896, ...,  36.34296799,\n",
       "          36.22699356,  36.06830215],\n",
       "        [ 35.96759033,  36.590168  ,  36.29718781, ...,  36.14764786,\n",
       "          35.99505615,  35.9401207 ],\n",
       "        [ 35.86687851,  36.4803009 ,  36.23004913, ...,  36.14154434,\n",
       "          35.88824081,  35.81499863],\n",
       "        [ 35.77532196,  36.24530792,  35.93707275, ...,  35.98895264,\n",
       "          35.81194687,  35.70207977],\n",
       "        [ 35.64409256,  35.93707275,  35.72649384, ...,  35.56779861,\n",
       "          35.48539734,  35.60136795],\n",
       "        [ 35.5098114 ,  35.98284912,  35.79668808, ...,  35.34806442,\n",
       "          35.30839157,  35.41215134]],\n",
       "\n",
       "       ..., \n",
       "       [[ 34.88723373,          nan,  34.90554428, ...,          nan,\n",
       "          34.88113022,  34.8750267 ],\n",
       "        [ 34.89333725,          nan,  34.90554428, ...,  34.89638901,\n",
       "          34.88418579,  34.88418579],\n",
       "        [ 34.89333725,          nan,  34.90859604, ...,  34.90249252,\n",
       "          34.88723373,  34.89638901],\n",
       "        [ 34.89638901,          nan,  34.90859604, ...,  34.90554428,\n",
       "          34.89028549,  34.89944458],\n",
       "        [ 34.89944458,  34.91775131,  34.90859604, ...,  34.90554428,\n",
       "          34.89028549,  34.89944458],\n",
       "        [ 34.90249252,  34.91470337,  34.9116478 , ...,  34.90859604,\n",
       "          34.89944458,  34.90249252]],\n",
       "\n",
       "       [[ 34.85671616,          nan,  34.87807846, ...,          nan,\n",
       "          34.85671616,  34.82924652],\n",
       "        [ 34.86281967,          nan,  34.88113022, ...,          nan,\n",
       "          34.83840561,  34.84145737],\n",
       "        [ 34.86587143,          nan,  34.88418579, ...,  34.88723373,\n",
       "          34.84450912,  34.86281967],\n",
       "        [ 34.86892319,          nan,  34.88418579, ...,  34.89028549,\n",
       "          34.86587143,  34.86587143],\n",
       "        [ 34.8750267 ,          nan,  34.88418579, ...,  34.88723373,\n",
       "          34.85671616,  34.87197495],\n",
       "        [ 34.8750267 ,  34.88418579,  34.88113022, ...,  34.88723373,\n",
       "          34.86281967,  34.8750267 ]],\n",
       "\n",
       "       [[ 34.82009506,          nan,  34.85671616, ...,          nan,\n",
       "                  nan,  34.79872894],\n",
       "        [ 34.82619858,          nan,  34.86281967, ...,          nan,\n",
       "                  nan,  34.80788803],\n",
       "        [ 34.83229828,          nan,  34.86587143, ...,          nan,\n",
       "                  nan,  34.82009506],\n",
       "        [ 34.83840561,          nan,  34.86892319, ...,          nan,\n",
       "                  nan,  34.82924652],\n",
       "        [ 34.85061264,          nan,  34.86892319, ...,          nan,\n",
       "                  nan,  34.83840561],\n",
       "        [ 34.85671616,          nan,  34.86587143, ...,          nan,\n",
       "          34.84756088,  34.84756088]]])"
      ]
     },
     "execution_count": 62,
     "metadata": {},
     "output_type": "execute_result"
    }
   ],
   "source": [
    "ds.salinity.values"
   ]
  },
  {
   "cell_type": "code",
   "execution_count": 65,
   "metadata": {},
   "outputs": [],
   "source": [
    "salinity=ds.salinity.mean(dim='depth')"
   ]
  },
  {
   "cell_type": "code",
   "execution_count": 66,
   "metadata": {},
   "outputs": [
    {
     "data": {
      "text/plain": [
       "<matplotlib.collections.QuadMesh at 0x97e88f0>"
      ]
     },
     "execution_count": 66,
     "metadata": {},
     "output_type": "execute_result"
    }
   ],
   "source": [
    "salinity.plot()"
   ]
  },
  {
   "cell_type": "code",
   "execution_count": 67,
   "metadata": {},
   "outputs": [
    {
     "data": {
      "image/png": "[encoded data removed]",
      "text/plain": [
       "<matplotlib.figure.Figure at 0x9592d70>"
      ]
     },
     "metadata": {},
     "output_type": "display_data"
    }
   ],
   "source": [
    "plt.show()"
   ]
  },
  {
   "cell_type": "code",
   "execution_count": 69,
   "metadata": {},
   "outputs": [],
   "source": [
    "salinity=ds.salinity.mean(dim='lat')"
   ]
  },
  {
   "cell_type": "code",
   "execution_count": 70,
   "metadata": {},
   "outputs": [
    {
     "data": {
      "image/png": "[encoded data removed]",
      "text/plain": [
       "<matplotlib.figure.Figure at 0x9947eb0>"
      ]
     },
     "metadata": {},
     "output_type": "display_data"
    }
   ],
   "source": [
    "salinity.plot()\n",
    "plt.show()"
   ]
  },
  {
   "cell_type": "code",
   "execution_count": 81,
   "metadata": {},
   "outputs": [
    {
     "data": {
      "text/plain": [
       "<xarray.DataArray 'salinity' (depth: 1, lon: 8)>\n",
       "array([[ 35.86993 ,  36.480301,  36.233101,  36.272774,  36.242252,  36.141544,\n",
       "         35.888241,  35.814999]])\n",
       "Coordinates:\n",
       "  * depth    (depth) float32 5.0\n",
       "    lat      float32 -6.50049\n",
       "  * lon      (lon) float32 0.5 325.5 330.5 335.5 340.5 345.5 350.5 355.5\n",
       "    time     datetime64[ns] 1984-12-01\n",
       "Attributes:\n",
       "    standard_name:  sea_water_practical_salinity\n",
       "    units:          1e-3"
      ]
     },
     "execution_count": 81,
     "metadata": {},
     "output_type": "execute_result"
    }
   ],
   "source": [
    "ds.salinity[:1,2]"
   ]
  },
  {
   "cell_type": "code",
   "execution_count": 82,
   "metadata": {},
   "outputs": [
    {
     "data": {
      "text/plain": [
       "<xarray.DataArray 'salinity' (lon: 8)>\n",
       "array([ 35.866879,  36.477249,  36.230049,  36.269726,  36.242252,  36.141544,\n",
       "        35.888241,  35.811947])\n",
       "Coordinates:\n",
       "    depth    float32 15.0\n",
       "    lat      float32 -6.50049\n",
       "  * lon      (lon) float32 0.5 325.5 330.5 335.5 340.5 345.5 350.5 355.5\n",
       "    time     datetime64[ns] 1984-12-01\n",
       "Attributes:\n",
       "    standard_name:  sea_water_practical_salinity\n",
       "    units:          1e-3"
      ]
     },
     "execution_count": 82,
     "metadata": {},
     "output_type": "execute_result"
    }
   ],
   "source": [
    "ds.salinity[1,2]"
   ]
  },
  {
   "cell_type": "code",
   "execution_count": 84,
   "metadata": {},
   "outputs": [
    {
     "data": {
      "image/png": "[encoded data removed]",
      "text/plain": [
       "<matplotlib.figure.Figure at 0x9cdf650>"
      ]
     },
     "metadata": {},
     "output_type": "display_data"
    }
   ],
   "source": [
    "ds.salinity[:,1,2].plot();\n",
    "plt.legend()\n",
    "plt.show()"
   ]
  },
  {
   "cell_type": "code",
   "execution_count": 83,
   "metadata": {},
   "outputs": [
    {
     "data": {
      "image/png": "[encoded data removed]",
      "text/plain": [
       "<matplotlib.figure.Figure at 0x9ac8990>"
      ]
     },
     "metadata": {},
     "output_type": "display_data"
    }
   ],
   "source": [
    "ds.salinity.mean(dim=['lat','lon']).plot();\n",
    "plt.show()"
   ]
  },
  {
   "cell_type": "code",
   "execution_count": 85,
   "metadata": {},
   "outputs": [
    {
     "data": {
      "image/png": "[encoded data removed]",
      "text/plain": [
       "<matplotlib.figure.Figure at 0x9d16450>"
      ]
     },
     "metadata": {},
     "output_type": "display_data"
    }
   ],
   "source": [
    "ds.salinity.mean(dim=['lon','lat']).plot();\n",
    "plt.show()"
   ]
  },
  {
   "cell_type": "code",
   "execution_count": 86,
   "metadata": {},
   "outputs": [
    {
     "data": {
      "image/png": "[encoded data removed]",
      "text/plain": [
       "<matplotlib.figure.Figure at 0x9dcdcd0>"
      ]
     },
     "metadata": {},
     "output_type": "display_data"
    }
   ],
   "source": [
    "ds.salinity.median(dim=['lon','lat']).plot();\n",
    "plt.show()"
   ]
  },
  {
   "cell_type": "code",
   "execution_count": 92,
   "metadata": {},
   "outputs": [
    {
     "data": {
      "image/png": "[encoded data removed]",
      "text/plain": [
       "<matplotlib.figure.Figure at 0xa0194f0>"
      ]
     },
     "metadata": {},
     "output_type": "display_data"
    }
   ],
   "source": [
    "ds1=salinity.mean(dim=['depth'])\n",
    "ds1.where(ds1<35.5).plot();\n",
    "plt.show()"
   ]
  },
  {
   "cell_type": "code",
   "execution_count": 100,
   "metadata": {},
   "outputs": [],
   "source": [
    "ds1=salinity.mean(dim=['depth'])"
   ]
  },
  {
   "cell_type": "code",
   "execution_count": 101,
   "metadata": {},
   "outputs": [
    {
     "data": {
      "text/plain": [
       "(u'lon',)"
      ]
     },
     "execution_count": 101,
     "metadata": {},
     "output_type": "execute_result"
    }
   ],
   "source": [
    "ds1.dims"
   ]
  },
  {
   "cell_type": "code",
   "execution_count": 108,
   "metadata": {},
   "outputs": [
    {
     "data": {
      "image/png": "[encoded data removed]",
      "text/plain": [
       "<matplotlib.figure.Figure at 0xa0a0c50>"
      ]
     },
     "metadata": {},
     "output_type": "display_data"
    }
   ],
   "source": [
    "ds3=ds.salinity.mean(dim='lat')\n",
    "ds3.plot.contourf();\n",
    "plt.show()"
   ]
  },
  {
   "cell_type": "code",
   "execution_count": 110,
   "metadata": {},
   "outputs": [
    {
     "data": {
      "image/png": "[encoded data removed]",
      "text/plain": [
       "<matplotlib.figure.Figure at 0x9a8e9d0>"
      ]
     },
     "metadata": {},
     "output_type": "display_data"
    }
   ],
   "source": [
    "ds3=ds.salinity.mean(dim='lat')\n",
    "ds3.plot.contourf(cmap='BrBG_r',lavels=22,center=False);\n",
    "plt.show()"
   ]
  },
  {
   "cell_type": "code",
   "execution_count": 111,
   "metadata": {
    "collapsed": true
   },
   "outputs": [],
   "source": [
    "import cartopy.crs as ccrs"
   ]
  },
  {
   "cell_type": "code",
   "execution_count": 114,
   "metadata": {},
   "outputs": [
    {
     "ename": "AttributeError",
     "evalue": "'module' object has no attribute 'plateCarree'",
     "output_type": "error",
     "traceback": [
      "\u001b[0;31m---------------------------------------------------------------------------\u001b[0m",
      "\u001b[0;31mAttributeError\u001b[0m                            Traceback (most recent call last)",
      "\u001b[0;32m<ipython-input-114-78e087dfcbc2>\u001b[0m in \u001b[0;36m<module>\u001b[0;34m()\u001b[0m\n\u001b[1;32m      1\u001b[0m \u001b[0mf\u001b[0m\u001b[1;33m=\u001b[0m\u001b[0mplt\u001b[0m\u001b[1;33m.\u001b[0m\u001b[0mfigure\u001b[0m\u001b[1;33m(\u001b[0m\u001b[0mfigsize\u001b[0m\u001b[1;33m=\u001b[0m\u001b[1;33m(\u001b[0m\u001b[1;36m8\u001b[0m\u001b[1;33m,\u001b[0m\u001b[1;36m6\u001b[0m\u001b[1;33m)\u001b[0m\u001b[1;33m)\u001b[0m\u001b[1;33m\u001b[0m\u001b[0m\n\u001b[1;32m      2\u001b[0m \u001b[0max\u001b[0m \u001b[1;33m=\u001b[0m \u001b[0mplt\u001b[0m\u001b[1;33m.\u001b[0m\u001b[0maxes\u001b[0m\u001b[1;33m(\u001b[0m\u001b[0mprojection\u001b[0m\u001b[1;33m=\u001b[0m\u001b[0mccrs\u001b[0m\u001b[1;33m.\u001b[0m\u001b[0mPlateCarree\u001b[0m\u001b[1;33m(\u001b[0m\u001b[1;33m)\u001b[0m\u001b[1;33m)\u001b[0m\u001b[1;33m\u001b[0m\u001b[0m\n\u001b[0;32m----> 3\u001b[0;31m \u001b[0mds1\u001b[0m\u001b[1;33m.\u001b[0m\u001b[0mplot\u001b[0m\u001b[1;33m(\u001b[0m\u001b[0max\u001b[0m\u001b[1;33m=\u001b[0m\u001b[0max\u001b[0m\u001b[1;33m,\u001b[0m\u001b[0mtransform\u001b[0m\u001b[1;33m=\u001b[0m\u001b[0mccrs\u001b[0m\u001b[1;33m.\u001b[0m\u001b[0mplateCarree\u001b[0m\u001b[1;33m(\u001b[0m\u001b[1;33m)\u001b[0m\u001b[1;33m)\u001b[0m\u001b[1;33m\u001b[0m\u001b[0m\n\u001b[0m\u001b[1;32m      4\u001b[0m \u001b[0max\u001b[0m\u001b[1;33m.\u001b[0m\u001b[0mcoastlines\u001b[0m\u001b[1;33m(\u001b[0m\u001b[1;33m)\u001b[0m\u001b[1;33m;\u001b[0m\u001b[0max\u001b[0m\u001b[1;33m.\u001b[0m\u001b[0mgridlines\u001b[0m\u001b[1;33m(\u001b[0m\u001b[1;33m)\u001b[0m\u001b[1;33m;\u001b[0m\u001b[1;33m\u001b[0m\u001b[0m\n",
      "\u001b[0;31mAttributeError\u001b[0m: 'module' object has no attribute 'plateCarree'"
     ]
    }
   ],
   "source": [
    "f=plt.figure(figsize=(8,6))\n",
    "lat='-8'\n",
    "lon='330'\n",
    "ax = plt.axes(projection=ccrs.PlateCarree())\n",
    "ds1.plot(ax=ax,transform=ccrs.plateCarree())\n",
    "ax.coastlines();ax.gridlines();"
   ]
  },
  {
   "cell_type": "code",
   "execution_count": null,
   "metadata": {
    "collapsed": true
   },
   "outputs": [],
   "source": []
  }
 ],
 "metadata": {
  "kernelspec": {
   "display_name": "Python 2",
   "language": "python",
   "name": "python2"
  },
  "language_info": {
   "codemirror_mode": {
    "name": "ipython",
    "version": 2
   },
   "file_extension": ".py",
   "mimetype": "text/x-python",
   "name": "python",
   "nbconvert_exporter": "python",
   "pygments_lexer": "ipython2",
   "version": "2.7.14"
  }
 },
 "nbformat": 4,
 "nbformat_minor": 2
}
