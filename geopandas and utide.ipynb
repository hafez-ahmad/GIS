{
 "cells": [
  {
   "cell_type": "code",
   "execution_count": null,
   "metadata": {
    "collapsed": false
   },
   "outputs": [],
   "source": []
  },
  {
   "cell_type": "code",
   "execution_count": 12,
   "metadata": {
    "collapsed": true
   },
   "outputs": [],
   "source": [
    "import pandas as pd\n",
    "w= pd.read_csv('LCD_sample_csv.csv')"
   ]
  },
  {
   "cell_type": "code",
   "execution_count": 13,
   "metadata": {
    "collapsed": false
   },
   "outputs": [
    {
     "data": {
      "text/html": [
       "<div>\n",
       "<table border=\"1\" class=\"dataframe\">\n",
       "  <thead>\n",
       "    <tr style=\"text-align: right;\">\n",
       "      <th></th>\n",
       "      <th>STATION</th>\n",
       "      <th>STATION_NAME</th>\n",
       "      <th>ELEVATION</th>\n",
       "      <th>LATITUDE</th>\n",
       "      <th>LONGITUDE</th>\n",
       "      <th>DATE</th>\n",
       "      <th>reportType</th>\n",
       "      <th>HourlySkyConditions</th>\n",
       "      <th>HourlyVisibility</th>\n",
       "      <th>HourlyPresentWeatherType</th>\n",
       "      <th>...</th>\n",
       "      <th>MonthlyMaxSeaLevelPressureValue</th>\n",
       "      <th>MonthlyMaxSeaLevelPressureValueDate</th>\n",
       "      <th>MonthlyMaxSeaLevelPressureValueTime</th>\n",
       "      <th>MonthlyMinSeaLevelPressureValue</th>\n",
       "      <th>MonthlyMinSeaLevelPressureValueDate</th>\n",
       "      <th>MonthlyMinSeaLevelPressureValueTime</th>\n",
       "      <th>MonthlyTotalHeatingDegreeDays</th>\n",
       "      <th>MonthlyTotalCoolingDegreeDays</th>\n",
       "      <th>MonthlyDepartureFromNormalHeatingDD</th>\n",
       "      <th>MonthlyDepartureFromNormalCoolingDD</th>\n",
       "    </tr>\n",
       "  </thead>\n",
       "  <tbody>\n",
       "    <tr>\n",
       "      <th>0</th>\n",
       "      <td>WBAN:94846</td>\n",
       "      <td>CHICAGO OHARE INTERNATIONAL AIRPORT IL US</td>\n",
       "      <td>201.8</td>\n",
       "      <td>41.995</td>\n",
       "      <td>-87.9336</td>\n",
       "      <td>2014-03-01 00:51</td>\n",
       "      <td>FM-15</td>\n",
       "      <td>SCT:04 70 OVC:08 90</td>\n",
       "      <td>10.00</td>\n",
       "      <td>NaN</td>\n",
       "      <td>...</td>\n",
       "      <td>NaN</td>\n",
       "      <td>NaN</td>\n",
       "      <td>NaN</td>\n",
       "      <td>NaN</td>\n",
       "      <td>NaN</td>\n",
       "      <td>NaN</td>\n",
       "      <td>NaN</td>\n",
       "      <td>NaN</td>\n",
       "      <td>NaN</td>\n",
       "      <td>NaN</td>\n",
       "    </tr>\n",
       "    <tr>\n",
       "      <th>1</th>\n",
       "      <td>WBAN:94846</td>\n",
       "      <td>CHICAGO OHARE INTERNATIONAL AIRPORT IL US</td>\n",
       "      <td>201.8</td>\n",
       "      <td>41.995</td>\n",
       "      <td>-87.9336</td>\n",
       "      <td>2014-03-01 01:51</td>\n",
       "      <td>FM-15</td>\n",
       "      <td>OVC:08 50</td>\n",
       "      <td>10.00</td>\n",
       "      <td>NaN</td>\n",
       "      <td>...</td>\n",
       "      <td>NaN</td>\n",
       "      <td>NaN</td>\n",
       "      <td>NaN</td>\n",
       "      <td>NaN</td>\n",
       "      <td>NaN</td>\n",
       "      <td>NaN</td>\n",
       "      <td>NaN</td>\n",
       "      <td>NaN</td>\n",
       "      <td>NaN</td>\n",
       "      <td>NaN</td>\n",
       "    </tr>\n",
       "    <tr>\n",
       "      <th>2</th>\n",
       "      <td>WBAN:94846</td>\n",
       "      <td>CHICAGO OHARE INTERNATIONAL AIRPORT IL US</td>\n",
       "      <td>201.8</td>\n",
       "      <td>41.995</td>\n",
       "      <td>-87.9336</td>\n",
       "      <td>2014-03-01 02:51</td>\n",
       "      <td>FM-15</td>\n",
       "      <td>OVC:08 29</td>\n",
       "      <td>6.00</td>\n",
       "      <td>-SN:03 |SN:71 |</td>\n",
       "      <td>...</td>\n",
       "      <td>NaN</td>\n",
       "      <td>NaN</td>\n",
       "      <td>NaN</td>\n",
       "      <td>NaN</td>\n",
       "      <td>NaN</td>\n",
       "      <td>NaN</td>\n",
       "      <td>NaN</td>\n",
       "      <td>NaN</td>\n",
       "      <td>NaN</td>\n",
       "      <td>NaN</td>\n",
       "    </tr>\n",
       "    <tr>\n",
       "      <th>3</th>\n",
       "      <td>WBAN:94846</td>\n",
       "      <td>CHICAGO OHARE INTERNATIONAL AIRPORT IL US</td>\n",
       "      <td>201.8</td>\n",
       "      <td>41.995</td>\n",
       "      <td>-87.9336</td>\n",
       "      <td>2014-03-01 03:51</td>\n",
       "      <td>FM-15</td>\n",
       "      <td>VV:09 9</td>\n",
       "      <td>0.75</td>\n",
       "      <td>-SN:03 |SN:71 |</td>\n",
       "      <td>...</td>\n",
       "      <td>NaN</td>\n",
       "      <td>NaN</td>\n",
       "      <td>NaN</td>\n",
       "      <td>NaN</td>\n",
       "      <td>NaN</td>\n",
       "      <td>NaN</td>\n",
       "      <td>NaN</td>\n",
       "      <td>NaN</td>\n",
       "      <td>NaN</td>\n",
       "      <td>NaN</td>\n",
       "    </tr>\n",
       "    <tr>\n",
       "      <th>4</th>\n",
       "      <td>WBAN:94846</td>\n",
       "      <td>CHICAGO OHARE INTERNATIONAL AIRPORT IL US</td>\n",
       "      <td>201.8</td>\n",
       "      <td>41.995</td>\n",
       "      <td>-87.9336</td>\n",
       "      <td>2014-03-01 04:51</td>\n",
       "      <td>FM-15</td>\n",
       "      <td>OVC:08 8</td>\n",
       "      <td>10.00</td>\n",
       "      <td>NaN</td>\n",
       "      <td>...</td>\n",
       "      <td>NaN</td>\n",
       "      <td>NaN</td>\n",
       "      <td>NaN</td>\n",
       "      <td>NaN</td>\n",
       "      <td>NaN</td>\n",
       "      <td>NaN</td>\n",
       "      <td>NaN</td>\n",
       "      <td>NaN</td>\n",
       "      <td>NaN</td>\n",
       "      <td>NaN</td>\n",
       "    </tr>\n",
       "    <tr>\n",
       "      <th>5</th>\n",
       "      <td>WBAN:94846</td>\n",
       "      <td>CHICAGO OHARE INTERNATIONAL AIRPORT IL US</td>\n",
       "      <td>201.8</td>\n",
       "      <td>41.995</td>\n",
       "      <td>-87.9336</td>\n",
       "      <td>2014-03-01 05:51</td>\n",
       "      <td>FM-15</td>\n",
       "      <td>BKN:07 10 OVC:08 20</td>\n",
       "      <td>10.00</td>\n",
       "      <td>NaN</td>\n",
       "      <td>...</td>\n",
       "      <td>NaN</td>\n",
       "      <td>NaN</td>\n",
       "      <td>NaN</td>\n",
       "      <td>NaN</td>\n",
       "      <td>NaN</td>\n",
       "      <td>NaN</td>\n",
       "      <td>NaN</td>\n",
       "      <td>NaN</td>\n",
       "      <td>NaN</td>\n",
       "      <td>NaN</td>\n",
       "    </tr>\n",
       "    <tr>\n",
       "      <th>6</th>\n",
       "      <td>WBAN:94846</td>\n",
       "      <td>CHICAGO OHARE INTERNATIONAL AIRPORT IL US</td>\n",
       "      <td>201.8</td>\n",
       "      <td>41.995</td>\n",
       "      <td>-87.9336</td>\n",
       "      <td>2014-03-01 06:51</td>\n",
       "      <td>FM-15</td>\n",
       "      <td>BKN:07 12 OVC:08 20</td>\n",
       "      <td>5.00</td>\n",
       "      <td>HZ:7 |FU:05 |HZ:05</td>\n",
       "      <td>...</td>\n",
       "      <td>NaN</td>\n",
       "      <td>NaN</td>\n",
       "      <td>NaN</td>\n",
       "      <td>NaN</td>\n",
       "      <td>NaN</td>\n",
       "      <td>NaN</td>\n",
       "      <td>NaN</td>\n",
       "      <td>NaN</td>\n",
       "      <td>NaN</td>\n",
       "      <td>NaN</td>\n",
       "    </tr>\n",
       "    <tr>\n",
       "      <th>7</th>\n",
       "      <td>WBAN:94846</td>\n",
       "      <td>CHICAGO OHARE INTERNATIONAL AIRPORT IL US</td>\n",
       "      <td>201.8</td>\n",
       "      <td>41.995</td>\n",
       "      <td>-87.9336</td>\n",
       "      <td>2014-03-01 07:51</td>\n",
       "      <td>FM-15</td>\n",
       "      <td>BKN:07 14 OVC:08 25</td>\n",
       "      <td>10.00</td>\n",
       "      <td>NaN</td>\n",
       "      <td>...</td>\n",
       "      <td>NaN</td>\n",
       "      <td>NaN</td>\n",
       "      <td>NaN</td>\n",
       "      <td>NaN</td>\n",
       "      <td>NaN</td>\n",
       "      <td>NaN</td>\n",
       "      <td>NaN</td>\n",
       "      <td>NaN</td>\n",
       "      <td>NaN</td>\n",
       "      <td>NaN</td>\n",
       "    </tr>\n",
       "    <tr>\n",
       "      <th>8</th>\n",
       "      <td>WBAN:94846</td>\n",
       "      <td>CHICAGO OHARE INTERNATIONAL AIRPORT IL US</td>\n",
       "      <td>201.8</td>\n",
       "      <td>41.995</td>\n",
       "      <td>-87.9336</td>\n",
       "      <td>2014-03-01 08:51</td>\n",
       "      <td>FM-15</td>\n",
       "      <td>OVC:08 27</td>\n",
       "      <td>9.00</td>\n",
       "      <td>NaN</td>\n",
       "      <td>...</td>\n",
       "      <td>NaN</td>\n",
       "      <td>NaN</td>\n",
       "      <td>NaN</td>\n",
       "      <td>NaN</td>\n",
       "      <td>NaN</td>\n",
       "      <td>NaN</td>\n",
       "      <td>NaN</td>\n",
       "      <td>NaN</td>\n",
       "      <td>NaN</td>\n",
       "      <td>NaN</td>\n",
       "    </tr>\n",
       "    <tr>\n",
       "      <th>9</th>\n",
       "      <td>WBAN:94846</td>\n",
       "      <td>CHICAGO OHARE INTERNATIONAL AIRPORT IL US</td>\n",
       "      <td>201.8</td>\n",
       "      <td>41.995</td>\n",
       "      <td>-87.9336</td>\n",
       "      <td>2014-03-01 09:51</td>\n",
       "      <td>FM-15</td>\n",
       "      <td>SCT:04 27 OVC:08 35</td>\n",
       "      <td>10.00</td>\n",
       "      <td>NaN</td>\n",
       "      <td>...</td>\n",
       "      <td>NaN</td>\n",
       "      <td>NaN</td>\n",
       "      <td>NaN</td>\n",
       "      <td>NaN</td>\n",
       "      <td>NaN</td>\n",
       "      <td>NaN</td>\n",
       "      <td>NaN</td>\n",
       "      <td>NaN</td>\n",
       "      <td>NaN</td>\n",
       "      <td>NaN</td>\n",
       "    </tr>\n",
       "    <tr>\n",
       "      <th>10</th>\n",
       "      <td>WBAN:94846</td>\n",
       "      <td>CHICAGO OHARE INTERNATIONAL AIRPORT IL US</td>\n",
       "      <td>201.8</td>\n",
       "      <td>41.995</td>\n",
       "      <td>-87.9336</td>\n",
       "      <td>2014-03-01 10:51</td>\n",
       "      <td>FM-15</td>\n",
       "      <td>BKN:07 35 OVC:08 150</td>\n",
       "      <td>10.00</td>\n",
       "      <td>NaN</td>\n",
       "      <td>...</td>\n",
       "      <td>NaN</td>\n",
       "      <td>NaN</td>\n",
       "      <td>NaN</td>\n",
       "      <td>NaN</td>\n",
       "      <td>NaN</td>\n",
       "      <td>NaN</td>\n",
       "      <td>NaN</td>\n",
       "      <td>NaN</td>\n",
       "      <td>NaN</td>\n",
       "      <td>NaN</td>\n",
       "    </tr>\n",
       "    <tr>\n",
       "      <th>11</th>\n",
       "      <td>WBAN:94846</td>\n",
       "      <td>CHICAGO OHARE INTERNATIONAL AIRPORT IL US</td>\n",
       "      <td>201.8</td>\n",
       "      <td>41.995</td>\n",
       "      <td>-87.9336</td>\n",
       "      <td>2014-03-01 11:51</td>\n",
       "      <td>FM-15</td>\n",
       "      <td>SCT:04 45 BKN:07 65 OVC:08 80</td>\n",
       "      <td>10.00</td>\n",
       "      <td>NaN</td>\n",
       "      <td>...</td>\n",
       "      <td>NaN</td>\n",
       "      <td>NaN</td>\n",
       "      <td>NaN</td>\n",
       "      <td>NaN</td>\n",
       "      <td>NaN</td>\n",
       "      <td>NaN</td>\n",
       "      <td>NaN</td>\n",
       "      <td>NaN</td>\n",
       "      <td>NaN</td>\n",
       "      <td>NaN</td>\n",
       "    </tr>\n",
       "    <tr>\n",
       "      <th>12</th>\n",
       "      <td>WBAN:94846</td>\n",
       "      <td>CHICAGO OHARE INTERNATIONAL AIRPORT IL US</td>\n",
       "      <td>201.8</td>\n",
       "      <td>41.995</td>\n",
       "      <td>-87.9336</td>\n",
       "      <td>2014-03-01 12:51</td>\n",
       "      <td>FM-15</td>\n",
       "      <td>BKN:07 45 BKN:07 100</td>\n",
       "      <td>10.00</td>\n",
       "      <td>NaN</td>\n",
       "      <td>...</td>\n",
       "      <td>NaN</td>\n",
       "      <td>NaN</td>\n",
       "      <td>NaN</td>\n",
       "      <td>NaN</td>\n",
       "      <td>NaN</td>\n",
       "      <td>NaN</td>\n",
       "      <td>NaN</td>\n",
       "      <td>NaN</td>\n",
       "      <td>NaN</td>\n",
       "      <td>NaN</td>\n",
       "    </tr>\n",
       "    <tr>\n",
       "      <th>13</th>\n",
       "      <td>WBAN:94846</td>\n",
       "      <td>CHICAGO OHARE INTERNATIONAL AIRPORT IL US</td>\n",
       "      <td>201.8</td>\n",
       "      <td>41.995</td>\n",
       "      <td>-87.9336</td>\n",
       "      <td>2014-03-01 13:51</td>\n",
       "      <td>FM-15</td>\n",
       "      <td>BKN:07 55 BKN:07 75 OVC:08 150</td>\n",
       "      <td>10.00</td>\n",
       "      <td>NaN</td>\n",
       "      <td>...</td>\n",
       "      <td>NaN</td>\n",
       "      <td>NaN</td>\n",
       "      <td>NaN</td>\n",
       "      <td>NaN</td>\n",
       "      <td>NaN</td>\n",
       "      <td>NaN</td>\n",
       "      <td>NaN</td>\n",
       "      <td>NaN</td>\n",
       "      <td>NaN</td>\n",
       "      <td>NaN</td>\n",
       "    </tr>\n",
       "    <tr>\n",
       "      <th>14</th>\n",
       "      <td>WBAN:94846</td>\n",
       "      <td>CHICAGO OHARE INTERNATIONAL AIRPORT IL US</td>\n",
       "      <td>201.8</td>\n",
       "      <td>41.995</td>\n",
       "      <td>-87.9336</td>\n",
       "      <td>2014-03-01 14:51</td>\n",
       "      <td>FM-15</td>\n",
       "      <td>FEW:02 25 BKN:07 60 OVC:08 150</td>\n",
       "      <td>10.00</td>\n",
       "      <td>-SN:03 |SN:71 |</td>\n",
       "      <td>...</td>\n",
       "      <td>NaN</td>\n",
       "      <td>NaN</td>\n",
       "      <td>NaN</td>\n",
       "      <td>NaN</td>\n",
       "      <td>NaN</td>\n",
       "      <td>NaN</td>\n",
       "      <td>NaN</td>\n",
       "      <td>NaN</td>\n",
       "      <td>NaN</td>\n",
       "      <td>NaN</td>\n",
       "    </tr>\n",
       "    <tr>\n",
       "      <th>15</th>\n",
       "      <td>WBAN:94846</td>\n",
       "      <td>CHICAGO OHARE INTERNATIONAL AIRPORT IL US</td>\n",
       "      <td>201.8</td>\n",
       "      <td>41.995</td>\n",
       "      <td>-87.9336</td>\n",
       "      <td>2014-03-01 15:51</td>\n",
       "      <td>FM-15</td>\n",
       "      <td>BKN:07 18 OVC:08 50</td>\n",
       "      <td>6.00</td>\n",
       "      <td>-SN:03 |SN:71 |</td>\n",
       "      <td>...</td>\n",
       "      <td>NaN</td>\n",
       "      <td>NaN</td>\n",
       "      <td>NaN</td>\n",
       "      <td>NaN</td>\n",
       "      <td>NaN</td>\n",
       "      <td>NaN</td>\n",
       "      <td>NaN</td>\n",
       "      <td>NaN</td>\n",
       "      <td>NaN</td>\n",
       "      <td>NaN</td>\n",
       "    </tr>\n",
       "    <tr>\n",
       "      <th>16</th>\n",
       "      <td>WBAN:94846</td>\n",
       "      <td>CHICAGO OHARE INTERNATIONAL AIRPORT IL US</td>\n",
       "      <td>201.8</td>\n",
       "      <td>41.995</td>\n",
       "      <td>-87.9336</td>\n",
       "      <td>2014-03-01 16:51</td>\n",
       "      <td>FM-15</td>\n",
       "      <td>SCT:04 12 BKN:07 30 OVC:08 60</td>\n",
       "      <td>5.00</td>\n",
       "      <td>-SN:03 |SN:71 |</td>\n",
       "      <td>...</td>\n",
       "      <td>NaN</td>\n",
       "      <td>NaN</td>\n",
       "      <td>NaN</td>\n",
       "      <td>NaN</td>\n",
       "      <td>NaN</td>\n",
       "      <td>NaN</td>\n",
       "      <td>NaN</td>\n",
       "      <td>NaN</td>\n",
       "      <td>NaN</td>\n",
       "      <td>NaN</td>\n",
       "    </tr>\n",
       "    <tr>\n",
       "      <th>17</th>\n",
       "      <td>WBAN:94846</td>\n",
       "      <td>CHICAGO OHARE INTERNATIONAL AIRPORT IL US</td>\n",
       "      <td>201.8</td>\n",
       "      <td>41.995</td>\n",
       "      <td>-87.9336</td>\n",
       "      <td>2014-03-01 17:51</td>\n",
       "      <td>FM-15</td>\n",
       "      <td>VV:09 10</td>\n",
       "      <td>0.50</td>\n",
       "      <td>SN:03 |SN:72 s |</td>\n",
       "      <td>...</td>\n",
       "      <td>NaN</td>\n",
       "      <td>NaN</td>\n",
       "      <td>NaN</td>\n",
       "      <td>NaN</td>\n",
       "      <td>NaN</td>\n",
       "      <td>NaN</td>\n",
       "      <td>NaN</td>\n",
       "      <td>NaN</td>\n",
       "      <td>NaN</td>\n",
       "      <td>NaN</td>\n",
       "    </tr>\n",
       "    <tr>\n",
       "      <th>18</th>\n",
       "      <td>WBAN:94846</td>\n",
       "      <td>CHICAGO OHARE INTERNATIONAL AIRPORT IL US</td>\n",
       "      <td>201.8</td>\n",
       "      <td>41.995</td>\n",
       "      <td>-87.9336</td>\n",
       "      <td>2014-03-01 18:51</td>\n",
       "      <td>FM-15</td>\n",
       "      <td>VV:09 11</td>\n",
       "      <td>1.00</td>\n",
       "      <td>-SN:03 |SN:71 |</td>\n",
       "      <td>...</td>\n",
       "      <td>NaN</td>\n",
       "      <td>NaN</td>\n",
       "      <td>NaN</td>\n",
       "      <td>NaN</td>\n",
       "      <td>NaN</td>\n",
       "      <td>NaN</td>\n",
       "      <td>NaN</td>\n",
       "      <td>NaN</td>\n",
       "      <td>NaN</td>\n",
       "      <td>NaN</td>\n",
       "    </tr>\n",
       "    <tr>\n",
       "      <th>19</th>\n",
       "      <td>WBAN:94846</td>\n",
       "      <td>CHICAGO OHARE INTERNATIONAL AIRPORT IL US</td>\n",
       "      <td>201.8</td>\n",
       "      <td>41.995</td>\n",
       "      <td>-87.9336</td>\n",
       "      <td>2014-03-01 19:51</td>\n",
       "      <td>FM-15</td>\n",
       "      <td>OVC:08 17</td>\n",
       "      <td>1.50</td>\n",
       "      <td>-SN:03 |SN:71 |</td>\n",
       "      <td>...</td>\n",
       "      <td>NaN</td>\n",
       "      <td>NaN</td>\n",
       "      <td>NaN</td>\n",
       "      <td>NaN</td>\n",
       "      <td>NaN</td>\n",
       "      <td>NaN</td>\n",
       "      <td>NaN</td>\n",
       "      <td>NaN</td>\n",
       "      <td>NaN</td>\n",
       "      <td>NaN</td>\n",
       "    </tr>\n",
       "    <tr>\n",
       "      <th>20</th>\n",
       "      <td>WBAN:94846</td>\n",
       "      <td>CHICAGO OHARE INTERNATIONAL AIRPORT IL US</td>\n",
       "      <td>201.8</td>\n",
       "      <td>41.995</td>\n",
       "      <td>-87.9336</td>\n",
       "      <td>2014-03-01 20:51</td>\n",
       "      <td>FM-15</td>\n",
       "      <td>OVC:08 25</td>\n",
       "      <td>2.00</td>\n",
       "      <td>-SN:03 |SN:71 |</td>\n",
       "      <td>...</td>\n",
       "      <td>NaN</td>\n",
       "      <td>NaN</td>\n",
       "      <td>NaN</td>\n",
       "      <td>NaN</td>\n",
       "      <td>NaN</td>\n",
       "      <td>NaN</td>\n",
       "      <td>NaN</td>\n",
       "      <td>NaN</td>\n",
       "      <td>NaN</td>\n",
       "      <td>NaN</td>\n",
       "    </tr>\n",
       "    <tr>\n",
       "      <th>21</th>\n",
       "      <td>WBAN:94846</td>\n",
       "      <td>CHICAGO OHARE INTERNATIONAL AIRPORT IL US</td>\n",
       "      <td>201.8</td>\n",
       "      <td>41.995</td>\n",
       "      <td>-87.9336</td>\n",
       "      <td>2014-03-01 21:51</td>\n",
       "      <td>FM-15</td>\n",
       "      <td>VV:09 15</td>\n",
       "      <td>0.75</td>\n",
       "      <td>-SN:03 |SN:71 |</td>\n",
       "      <td>...</td>\n",
       "      <td>NaN</td>\n",
       "      <td>NaN</td>\n",
       "      <td>NaN</td>\n",
       "      <td>NaN</td>\n",
       "      <td>NaN</td>\n",
       "      <td>NaN</td>\n",
       "      <td>NaN</td>\n",
       "      <td>NaN</td>\n",
       "      <td>NaN</td>\n",
       "      <td>NaN</td>\n",
       "    </tr>\n",
       "    <tr>\n",
       "      <th>22</th>\n",
       "      <td>WBAN:94846</td>\n",
       "      <td>CHICAGO OHARE INTERNATIONAL AIRPORT IL US</td>\n",
       "      <td>201.8</td>\n",
       "      <td>41.995</td>\n",
       "      <td>-87.9336</td>\n",
       "      <td>2014-03-01 22:51</td>\n",
       "      <td>FM-15</td>\n",
       "      <td>BKN:07 20 OVC:08 31</td>\n",
       "      <td>2.00</td>\n",
       "      <td>-SN:03 |SN:71 |</td>\n",
       "      <td>...</td>\n",
       "      <td>NaN</td>\n",
       "      <td>NaN</td>\n",
       "      <td>NaN</td>\n",
       "      <td>NaN</td>\n",
       "      <td>NaN</td>\n",
       "      <td>NaN</td>\n",
       "      <td>NaN</td>\n",
       "      <td>NaN</td>\n",
       "      <td>NaN</td>\n",
       "      <td>NaN</td>\n",
       "    </tr>\n",
       "    <tr>\n",
       "      <th>23</th>\n",
       "      <td>WBAN:94846</td>\n",
       "      <td>CHICAGO OHARE INTERNATIONAL AIRPORT IL US</td>\n",
       "      <td>201.8</td>\n",
       "      <td>41.995</td>\n",
       "      <td>-87.9336</td>\n",
       "      <td>2014-03-01 23:51</td>\n",
       "      <td>FM-15</td>\n",
       "      <td>OVC:08 34</td>\n",
       "      <td>2.50</td>\n",
       "      <td>-SN:03 |SN:71 |</td>\n",
       "      <td>...</td>\n",
       "      <td>NaN</td>\n",
       "      <td>NaN</td>\n",
       "      <td>NaN</td>\n",
       "      <td>NaN</td>\n",
       "      <td>NaN</td>\n",
       "      <td>NaN</td>\n",
       "      <td>NaN</td>\n",
       "      <td>NaN</td>\n",
       "      <td>NaN</td>\n",
       "      <td>NaN</td>\n",
       "    </tr>\n",
       "    <tr>\n",
       "      <th>24</th>\n",
       "      <td>WBAN:94846</td>\n",
       "      <td>CHICAGO OHARE INTERNATIONAL AIRPORT IL US</td>\n",
       "      <td>201.8</td>\n",
       "      <td>41.995</td>\n",
       "      <td>-87.9336</td>\n",
       "      <td>2014-03-01 23:59</td>\n",
       "      <td>SOD</td>\n",
       "      <td>NaN</td>\n",
       "      <td>NaN</td>\n",
       "      <td>NaN</td>\n",
       "      <td>...</td>\n",
       "      <td>NaN</td>\n",
       "      <td>NaN</td>\n",
       "      <td>NaN</td>\n",
       "      <td>NaN</td>\n",
       "      <td>NaN</td>\n",
       "      <td>NaN</td>\n",
       "      <td>NaN</td>\n",
       "      <td>NaN</td>\n",
       "      <td>NaN</td>\n",
       "      <td>NaN</td>\n",
       "    </tr>\n",
       "    <tr>\n",
       "      <th>25</th>\n",
       "      <td>WBAN:94846</td>\n",
       "      <td>CHICAGO OHARE INTERNATIONAL AIRPORT IL US</td>\n",
       "      <td>201.8</td>\n",
       "      <td>41.995</td>\n",
       "      <td>-87.9336</td>\n",
       "      <td>2014-03-02 00:51</td>\n",
       "      <td>FM-15</td>\n",
       "      <td>OVC:08 15</td>\n",
       "      <td>1.50</td>\n",
       "      <td>-SN:03 |SN:71 |</td>\n",
       "      <td>...</td>\n",
       "      <td>NaN</td>\n",
       "      <td>NaN</td>\n",
       "      <td>NaN</td>\n",
       "      <td>NaN</td>\n",
       "      <td>NaN</td>\n",
       "      <td>NaN</td>\n",
       "      <td>NaN</td>\n",
       "      <td>NaN</td>\n",
       "      <td>NaN</td>\n",
       "      <td>NaN</td>\n",
       "    </tr>\n",
       "    <tr>\n",
       "      <th>26</th>\n",
       "      <td>WBAN:94846</td>\n",
       "      <td>CHICAGO OHARE INTERNATIONAL AIRPORT IL US</td>\n",
       "      <td>201.8</td>\n",
       "      <td>41.995</td>\n",
       "      <td>-87.9336</td>\n",
       "      <td>2014-03-02 01:51</td>\n",
       "      <td>FM-15</td>\n",
       "      <td>FEW:02 18 SCT:04 23 OVC:08 36</td>\n",
       "      <td>4.00</td>\n",
       "      <td>-SN:03 |SN:71 |</td>\n",
       "      <td>...</td>\n",
       "      <td>NaN</td>\n",
       "      <td>NaN</td>\n",
       "      <td>NaN</td>\n",
       "      <td>NaN</td>\n",
       "      <td>NaN</td>\n",
       "      <td>NaN</td>\n",
       "      <td>NaN</td>\n",
       "      <td>NaN</td>\n",
       "      <td>NaN</td>\n",
       "      <td>NaN</td>\n",
       "    </tr>\n",
       "    <tr>\n",
       "      <th>27</th>\n",
       "      <td>WBAN:94846</td>\n",
       "      <td>CHICAGO OHARE INTERNATIONAL AIRPORT IL US</td>\n",
       "      <td>201.8</td>\n",
       "      <td>41.995</td>\n",
       "      <td>-87.9336</td>\n",
       "      <td>2014-03-02 02:51</td>\n",
       "      <td>FM-15</td>\n",
       "      <td>SCT:04 23 OVC:08 39</td>\n",
       "      <td>2.00</td>\n",
       "      <td>-SN:03 |SN:71 |</td>\n",
       "      <td>...</td>\n",
       "      <td>NaN</td>\n",
       "      <td>NaN</td>\n",
       "      <td>NaN</td>\n",
       "      <td>NaN</td>\n",
       "      <td>NaN</td>\n",
       "      <td>NaN</td>\n",
       "      <td>NaN</td>\n",
       "      <td>NaN</td>\n",
       "      <td>NaN</td>\n",
       "      <td>NaN</td>\n",
       "    </tr>\n",
       "    <tr>\n",
       "      <th>28</th>\n",
       "      <td>WBAN:94846</td>\n",
       "      <td>CHICAGO OHARE INTERNATIONAL AIRPORT IL US</td>\n",
       "      <td>201.8</td>\n",
       "      <td>41.995</td>\n",
       "      <td>-87.9336</td>\n",
       "      <td>2014-03-02 03:51</td>\n",
       "      <td>FM-15</td>\n",
       "      <td>OVC:08 45</td>\n",
       "      <td>4.00</td>\n",
       "      <td>-SN:03 |SN:71 |</td>\n",
       "      <td>...</td>\n",
       "      <td>NaN</td>\n",
       "      <td>NaN</td>\n",
       "      <td>NaN</td>\n",
       "      <td>NaN</td>\n",
       "      <td>NaN</td>\n",
       "      <td>NaN</td>\n",
       "      <td>NaN</td>\n",
       "      <td>NaN</td>\n",
       "      <td>NaN</td>\n",
       "      <td>NaN</td>\n",
       "    </tr>\n",
       "    <tr>\n",
       "      <th>29</th>\n",
       "      <td>WBAN:94846</td>\n",
       "      <td>CHICAGO OHARE INTERNATIONAL AIRPORT IL US</td>\n",
       "      <td>201.8</td>\n",
       "      <td>41.995</td>\n",
       "      <td>-87.9336</td>\n",
       "      <td>2014-03-02 04:51</td>\n",
       "      <td>FM-15</td>\n",
       "      <td>FEW:02 25 OVC:08 65</td>\n",
       "      <td>9.00</td>\n",
       "      <td>-SN:03 |SN:71 |</td>\n",
       "      <td>...</td>\n",
       "      <td>NaN</td>\n",
       "      <td>NaN</td>\n",
       "      <td>NaN</td>\n",
       "      <td>NaN</td>\n",
       "      <td>NaN</td>\n",
       "      <td>NaN</td>\n",
       "      <td>NaN</td>\n",
       "      <td>NaN</td>\n",
       "      <td>NaN</td>\n",
       "      <td>NaN</td>\n",
       "    </tr>\n",
       "    <tr>\n",
       "      <th>...</th>\n",
       "      <td>...</td>\n",
       "      <td>...</td>\n",
       "      <td>...</td>\n",
       "      <td>...</td>\n",
       "      <td>...</td>\n",
       "      <td>...</td>\n",
       "      <td>...</td>\n",
       "      <td>...</td>\n",
       "      <td>...</td>\n",
       "      <td>...</td>\n",
       "      <td>...</td>\n",
       "      <td>...</td>\n",
       "      <td>...</td>\n",
       "      <td>...</td>\n",
       "      <td>...</td>\n",
       "      <td>...</td>\n",
       "      <td>...</td>\n",
       "      <td>...</td>\n",
       "      <td>...</td>\n",
       "      <td>...</td>\n",
       "      <td>...</td>\n",
       "    </tr>\n",
       "    <tr>\n",
       "      <th>742</th>\n",
       "      <td>WBAN:94846</td>\n",
       "      <td>CHICAGO OHARE INTERNATIONAL AIRPORT IL US</td>\n",
       "      <td>201.8</td>\n",
       "      <td>41.995</td>\n",
       "      <td>-87.9336</td>\n",
       "      <td>2014-03-30 17:51</td>\n",
       "      <td>FM-15</td>\n",
       "      <td>FEW:02 200 BKN:07 250</td>\n",
       "      <td>10.00</td>\n",
       "      <td>NaN</td>\n",
       "      <td>...</td>\n",
       "      <td>NaN</td>\n",
       "      <td>NaN</td>\n",
       "      <td>NaN</td>\n",
       "      <td>NaN</td>\n",
       "      <td>NaN</td>\n",
       "      <td>NaN</td>\n",
       "      <td>NaN</td>\n",
       "      <td>NaN</td>\n",
       "      <td>NaN</td>\n",
       "      <td>NaN</td>\n",
       "    </tr>\n",
       "    <tr>\n",
       "      <th>743</th>\n",
       "      <td>WBAN:94846</td>\n",
       "      <td>CHICAGO OHARE INTERNATIONAL AIRPORT IL US</td>\n",
       "      <td>201.8</td>\n",
       "      <td>41.995</td>\n",
       "      <td>-87.9336</td>\n",
       "      <td>2014-03-30 18:51</td>\n",
       "      <td>FM-15</td>\n",
       "      <td>FEW:02 200 BKN:07 250</td>\n",
       "      <td>10.00</td>\n",
       "      <td>NaN</td>\n",
       "      <td>...</td>\n",
       "      <td>NaN</td>\n",
       "      <td>NaN</td>\n",
       "      <td>NaN</td>\n",
       "      <td>NaN</td>\n",
       "      <td>NaN</td>\n",
       "      <td>NaN</td>\n",
       "      <td>NaN</td>\n",
       "      <td>NaN</td>\n",
       "      <td>NaN</td>\n",
       "      <td>NaN</td>\n",
       "    </tr>\n",
       "    <tr>\n",
       "      <th>744</th>\n",
       "      <td>WBAN:94846</td>\n",
       "      <td>CHICAGO OHARE INTERNATIONAL AIRPORT IL US</td>\n",
       "      <td>201.8</td>\n",
       "      <td>41.995</td>\n",
       "      <td>-87.9336</td>\n",
       "      <td>2014-03-30 19:51</td>\n",
       "      <td>FM-15</td>\n",
       "      <td>SCT:04 250</td>\n",
       "      <td>10.00</td>\n",
       "      <td>NaN</td>\n",
       "      <td>...</td>\n",
       "      <td>NaN</td>\n",
       "      <td>NaN</td>\n",
       "      <td>NaN</td>\n",
       "      <td>NaN</td>\n",
       "      <td>NaN</td>\n",
       "      <td>NaN</td>\n",
       "      <td>NaN</td>\n",
       "      <td>NaN</td>\n",
       "      <td>NaN</td>\n",
       "      <td>NaN</td>\n",
       "    </tr>\n",
       "    <tr>\n",
       "      <th>745</th>\n",
       "      <td>WBAN:94846</td>\n",
       "      <td>CHICAGO OHARE INTERNATIONAL AIRPORT IL US</td>\n",
       "      <td>201.8</td>\n",
       "      <td>41.995</td>\n",
       "      <td>-87.9336</td>\n",
       "      <td>2014-03-30 20:51</td>\n",
       "      <td>FM-15</td>\n",
       "      <td>SCT:04 200 BKN:07 250</td>\n",
       "      <td>10.00</td>\n",
       "      <td>NaN</td>\n",
       "      <td>...</td>\n",
       "      <td>NaN</td>\n",
       "      <td>NaN</td>\n",
       "      <td>NaN</td>\n",
       "      <td>NaN</td>\n",
       "      <td>NaN</td>\n",
       "      <td>NaN</td>\n",
       "      <td>NaN</td>\n",
       "      <td>NaN</td>\n",
       "      <td>NaN</td>\n",
       "      <td>NaN</td>\n",
       "    </tr>\n",
       "    <tr>\n",
       "      <th>746</th>\n",
       "      <td>WBAN:94846</td>\n",
       "      <td>CHICAGO OHARE INTERNATIONAL AIRPORT IL US</td>\n",
       "      <td>201.8</td>\n",
       "      <td>41.995</td>\n",
       "      <td>-87.9336</td>\n",
       "      <td>2014-03-30 21:51</td>\n",
       "      <td>FM-15</td>\n",
       "      <td>SCT:04 200 BKN:07 250</td>\n",
       "      <td>10.00</td>\n",
       "      <td>NaN</td>\n",
       "      <td>...</td>\n",
       "      <td>NaN</td>\n",
       "      <td>NaN</td>\n",
       "      <td>NaN</td>\n",
       "      <td>NaN</td>\n",
       "      <td>NaN</td>\n",
       "      <td>NaN</td>\n",
       "      <td>NaN</td>\n",
       "      <td>NaN</td>\n",
       "      <td>NaN</td>\n",
       "      <td>NaN</td>\n",
       "    </tr>\n",
       "    <tr>\n",
       "      <th>747</th>\n",
       "      <td>WBAN:94846</td>\n",
       "      <td>CHICAGO OHARE INTERNATIONAL AIRPORT IL US</td>\n",
       "      <td>201.8</td>\n",
       "      <td>41.995</td>\n",
       "      <td>-87.9336</td>\n",
       "      <td>2014-03-30 22:51</td>\n",
       "      <td>FM-15</td>\n",
       "      <td>SCT:04 250</td>\n",
       "      <td>10.00</td>\n",
       "      <td>NaN</td>\n",
       "      <td>...</td>\n",
       "      <td>NaN</td>\n",
       "      <td>NaN</td>\n",
       "      <td>NaN</td>\n",
       "      <td>NaN</td>\n",
       "      <td>NaN</td>\n",
       "      <td>NaN</td>\n",
       "      <td>NaN</td>\n",
       "      <td>NaN</td>\n",
       "      <td>NaN</td>\n",
       "      <td>NaN</td>\n",
       "    </tr>\n",
       "    <tr>\n",
       "      <th>748</th>\n",
       "      <td>WBAN:94846</td>\n",
       "      <td>CHICAGO OHARE INTERNATIONAL AIRPORT IL US</td>\n",
       "      <td>201.8</td>\n",
       "      <td>41.995</td>\n",
       "      <td>-87.9336</td>\n",
       "      <td>2014-03-30 23:51</td>\n",
       "      <td>FM-15</td>\n",
       "      <td>BKN:07 250</td>\n",
       "      <td>10.00</td>\n",
       "      <td>NaN</td>\n",
       "      <td>...</td>\n",
       "      <td>NaN</td>\n",
       "      <td>NaN</td>\n",
       "      <td>NaN</td>\n",
       "      <td>NaN</td>\n",
       "      <td>NaN</td>\n",
       "      <td>NaN</td>\n",
       "      <td>NaN</td>\n",
       "      <td>NaN</td>\n",
       "      <td>NaN</td>\n",
       "      <td>NaN</td>\n",
       "    </tr>\n",
       "    <tr>\n",
       "      <th>749</th>\n",
       "      <td>WBAN:94846</td>\n",
       "      <td>CHICAGO OHARE INTERNATIONAL AIRPORT IL US</td>\n",
       "      <td>201.8</td>\n",
       "      <td>41.995</td>\n",
       "      <td>-87.9336</td>\n",
       "      <td>2014-03-30 23:59</td>\n",
       "      <td>SOD</td>\n",
       "      <td>NaN</td>\n",
       "      <td>NaN</td>\n",
       "      <td>NaN</td>\n",
       "      <td>...</td>\n",
       "      <td>NaN</td>\n",
       "      <td>NaN</td>\n",
       "      <td>NaN</td>\n",
       "      <td>NaN</td>\n",
       "      <td>NaN</td>\n",
       "      <td>NaN</td>\n",
       "      <td>NaN</td>\n",
       "      <td>NaN</td>\n",
       "      <td>NaN</td>\n",
       "      <td>NaN</td>\n",
       "    </tr>\n",
       "    <tr>\n",
       "      <th>750</th>\n",
       "      <td>WBAN:94846</td>\n",
       "      <td>CHICAGO OHARE INTERNATIONAL AIRPORT IL US</td>\n",
       "      <td>201.8</td>\n",
       "      <td>41.995</td>\n",
       "      <td>-87.9336</td>\n",
       "      <td>2014-03-31 00:51</td>\n",
       "      <td>FM-15</td>\n",
       "      <td>BKN:07 250</td>\n",
       "      <td>10.00</td>\n",
       "      <td>NaN</td>\n",
       "      <td>...</td>\n",
       "      <td>NaN</td>\n",
       "      <td>NaN</td>\n",
       "      <td>NaN</td>\n",
       "      <td>NaN</td>\n",
       "      <td>NaN</td>\n",
       "      <td>NaN</td>\n",
       "      <td>NaN</td>\n",
       "      <td>NaN</td>\n",
       "      <td>NaN</td>\n",
       "      <td>NaN</td>\n",
       "    </tr>\n",
       "    <tr>\n",
       "      <th>751</th>\n",
       "      <td>WBAN:94846</td>\n",
       "      <td>CHICAGO OHARE INTERNATIONAL AIRPORT IL US</td>\n",
       "      <td>201.8</td>\n",
       "      <td>41.995</td>\n",
       "      <td>-87.9336</td>\n",
       "      <td>2014-03-31 01:51</td>\n",
       "      <td>FM-15</td>\n",
       "      <td>SCT:04 150 BKN:07 250</td>\n",
       "      <td>10.00</td>\n",
       "      <td>NaN</td>\n",
       "      <td>...</td>\n",
       "      <td>NaN</td>\n",
       "      <td>NaN</td>\n",
       "      <td>NaN</td>\n",
       "      <td>NaN</td>\n",
       "      <td>NaN</td>\n",
       "      <td>NaN</td>\n",
       "      <td>NaN</td>\n",
       "      <td>NaN</td>\n",
       "      <td>NaN</td>\n",
       "      <td>NaN</td>\n",
       "    </tr>\n",
       "    <tr>\n",
       "      <th>752</th>\n",
       "      <td>WBAN:94846</td>\n",
       "      <td>CHICAGO OHARE INTERNATIONAL AIRPORT IL US</td>\n",
       "      <td>201.8</td>\n",
       "      <td>41.995</td>\n",
       "      <td>-87.9336</td>\n",
       "      <td>2014-03-31 02:51</td>\n",
       "      <td>FM-15</td>\n",
       "      <td>BKN:07 140 BKN:07 250</td>\n",
       "      <td>10.00</td>\n",
       "      <td>NaN</td>\n",
       "      <td>...</td>\n",
       "      <td>NaN</td>\n",
       "      <td>NaN</td>\n",
       "      <td>NaN</td>\n",
       "      <td>NaN</td>\n",
       "      <td>NaN</td>\n",
       "      <td>NaN</td>\n",
       "      <td>NaN</td>\n",
       "      <td>NaN</td>\n",
       "      <td>NaN</td>\n",
       "      <td>NaN</td>\n",
       "    </tr>\n",
       "    <tr>\n",
       "      <th>753</th>\n",
       "      <td>WBAN:94846</td>\n",
       "      <td>CHICAGO OHARE INTERNATIONAL AIRPORT IL US</td>\n",
       "      <td>201.8</td>\n",
       "      <td>41.995</td>\n",
       "      <td>-87.9336</td>\n",
       "      <td>2014-03-31 03:51</td>\n",
       "      <td>FM-15</td>\n",
       "      <td>BKN:07 110 BKN:07 250</td>\n",
       "      <td>10.00</td>\n",
       "      <td>NaN</td>\n",
       "      <td>...</td>\n",
       "      <td>NaN</td>\n",
       "      <td>NaN</td>\n",
       "      <td>NaN</td>\n",
       "      <td>NaN</td>\n",
       "      <td>NaN</td>\n",
       "      <td>NaN</td>\n",
       "      <td>NaN</td>\n",
       "      <td>NaN</td>\n",
       "      <td>NaN</td>\n",
       "      <td>NaN</td>\n",
       "    </tr>\n",
       "    <tr>\n",
       "      <th>754</th>\n",
       "      <td>WBAN:94846</td>\n",
       "      <td>CHICAGO OHARE INTERNATIONAL AIRPORT IL US</td>\n",
       "      <td>201.8</td>\n",
       "      <td>41.995</td>\n",
       "      <td>-87.9336</td>\n",
       "      <td>2014-03-31 04:51</td>\n",
       "      <td>FM-15</td>\n",
       "      <td>SCT:04 110 BKN:07 250</td>\n",
       "      <td>10.00</td>\n",
       "      <td>NaN</td>\n",
       "      <td>...</td>\n",
       "      <td>NaN</td>\n",
       "      <td>NaN</td>\n",
       "      <td>NaN</td>\n",
       "      <td>NaN</td>\n",
       "      <td>NaN</td>\n",
       "      <td>NaN</td>\n",
       "      <td>NaN</td>\n",
       "      <td>NaN</td>\n",
       "      <td>NaN</td>\n",
       "      <td>NaN</td>\n",
       "    </tr>\n",
       "    <tr>\n",
       "      <th>755</th>\n",
       "      <td>WBAN:94846</td>\n",
       "      <td>CHICAGO OHARE INTERNATIONAL AIRPORT IL US</td>\n",
       "      <td>201.8</td>\n",
       "      <td>41.995</td>\n",
       "      <td>-87.9336</td>\n",
       "      <td>2014-03-31 05:51</td>\n",
       "      <td>FM-15</td>\n",
       "      <td>BKN:07 120 BKN:07 250</td>\n",
       "      <td>10.00</td>\n",
       "      <td>NaN</td>\n",
       "      <td>...</td>\n",
       "      <td>NaN</td>\n",
       "      <td>NaN</td>\n",
       "      <td>NaN</td>\n",
       "      <td>NaN</td>\n",
       "      <td>NaN</td>\n",
       "      <td>NaN</td>\n",
       "      <td>NaN</td>\n",
       "      <td>NaN</td>\n",
       "      <td>NaN</td>\n",
       "      <td>NaN</td>\n",
       "    </tr>\n",
       "    <tr>\n",
       "      <th>756</th>\n",
       "      <td>WBAN:94846</td>\n",
       "      <td>CHICAGO OHARE INTERNATIONAL AIRPORT IL US</td>\n",
       "      <td>201.8</td>\n",
       "      <td>41.995</td>\n",
       "      <td>-87.9336</td>\n",
       "      <td>2014-03-31 06:51</td>\n",
       "      <td>FM-15</td>\n",
       "      <td>FEW:02 120 BKN:07 250</td>\n",
       "      <td>10.00</td>\n",
       "      <td>NaN</td>\n",
       "      <td>...</td>\n",
       "      <td>NaN</td>\n",
       "      <td>NaN</td>\n",
       "      <td>NaN</td>\n",
       "      <td>NaN</td>\n",
       "      <td>NaN</td>\n",
       "      <td>NaN</td>\n",
       "      <td>NaN</td>\n",
       "      <td>NaN</td>\n",
       "      <td>NaN</td>\n",
       "      <td>NaN</td>\n",
       "    </tr>\n",
       "    <tr>\n",
       "      <th>757</th>\n",
       "      <td>WBAN:94846</td>\n",
       "      <td>CHICAGO OHARE INTERNATIONAL AIRPORT IL US</td>\n",
       "      <td>201.8</td>\n",
       "      <td>41.995</td>\n",
       "      <td>-87.9336</td>\n",
       "      <td>2014-03-31 07:51</td>\n",
       "      <td>FM-15</td>\n",
       "      <td>FEW:02 140 BKN:07 250</td>\n",
       "      <td>10.00</td>\n",
       "      <td>NaN</td>\n",
       "      <td>...</td>\n",
       "      <td>NaN</td>\n",
       "      <td>NaN</td>\n",
       "      <td>NaN</td>\n",
       "      <td>NaN</td>\n",
       "      <td>NaN</td>\n",
       "      <td>NaN</td>\n",
       "      <td>NaN</td>\n",
       "      <td>NaN</td>\n",
       "      <td>NaN</td>\n",
       "      <td>NaN</td>\n",
       "    </tr>\n",
       "    <tr>\n",
       "      <th>758</th>\n",
       "      <td>WBAN:94846</td>\n",
       "      <td>CHICAGO OHARE INTERNATIONAL AIRPORT IL US</td>\n",
       "      <td>201.8</td>\n",
       "      <td>41.995</td>\n",
       "      <td>-87.9336</td>\n",
       "      <td>2014-03-31 08:51</td>\n",
       "      <td>FM-15</td>\n",
       "      <td>BKN:07 250</td>\n",
       "      <td>10.00</td>\n",
       "      <td>NaN</td>\n",
       "      <td>...</td>\n",
       "      <td>NaN</td>\n",
       "      <td>NaN</td>\n",
       "      <td>NaN</td>\n",
       "      <td>NaN</td>\n",
       "      <td>NaN</td>\n",
       "      <td>NaN</td>\n",
       "      <td>NaN</td>\n",
       "      <td>NaN</td>\n",
       "      <td>NaN</td>\n",
       "      <td>NaN</td>\n",
       "    </tr>\n",
       "    <tr>\n",
       "      <th>759</th>\n",
       "      <td>WBAN:94846</td>\n",
       "      <td>CHICAGO OHARE INTERNATIONAL AIRPORT IL US</td>\n",
       "      <td>201.8</td>\n",
       "      <td>41.995</td>\n",
       "      <td>-87.9336</td>\n",
       "      <td>2014-03-31 09:51</td>\n",
       "      <td>FM-15</td>\n",
       "      <td>FEW:02 180 BKN:07 250</td>\n",
       "      <td>10.00</td>\n",
       "      <td>NaN</td>\n",
       "      <td>...</td>\n",
       "      <td>NaN</td>\n",
       "      <td>NaN</td>\n",
       "      <td>NaN</td>\n",
       "      <td>NaN</td>\n",
       "      <td>NaN</td>\n",
       "      <td>NaN</td>\n",
       "      <td>NaN</td>\n",
       "      <td>NaN</td>\n",
       "      <td>NaN</td>\n",
       "      <td>NaN</td>\n",
       "    </tr>\n",
       "    <tr>\n",
       "      <th>760</th>\n",
       "      <td>WBAN:94846</td>\n",
       "      <td>CHICAGO OHARE INTERNATIONAL AIRPORT IL US</td>\n",
       "      <td>201.8</td>\n",
       "      <td>41.995</td>\n",
       "      <td>-87.9336</td>\n",
       "      <td>2014-03-31 10:51</td>\n",
       "      <td>FM-15</td>\n",
       "      <td>FEW:02 140 BKN:07 250</td>\n",
       "      <td>10.00</td>\n",
       "      <td>NaN</td>\n",
       "      <td>...</td>\n",
       "      <td>NaN</td>\n",
       "      <td>NaN</td>\n",
       "      <td>NaN</td>\n",
       "      <td>NaN</td>\n",
       "      <td>NaN</td>\n",
       "      <td>NaN</td>\n",
       "      <td>NaN</td>\n",
       "      <td>NaN</td>\n",
       "      <td>NaN</td>\n",
       "      <td>NaN</td>\n",
       "    </tr>\n",
       "    <tr>\n",
       "      <th>761</th>\n",
       "      <td>WBAN:94846</td>\n",
       "      <td>CHICAGO OHARE INTERNATIONAL AIRPORT IL US</td>\n",
       "      <td>201.8</td>\n",
       "      <td>41.995</td>\n",
       "      <td>-87.9336</td>\n",
       "      <td>2014-03-31 11:51</td>\n",
       "      <td>FM-15</td>\n",
       "      <td>BKN:07 250</td>\n",
       "      <td>10.00</td>\n",
       "      <td>NaN</td>\n",
       "      <td>...</td>\n",
       "      <td>NaN</td>\n",
       "      <td>NaN</td>\n",
       "      <td>NaN</td>\n",
       "      <td>NaN</td>\n",
       "      <td>NaN</td>\n",
       "      <td>NaN</td>\n",
       "      <td>NaN</td>\n",
       "      <td>NaN</td>\n",
       "      <td>NaN</td>\n",
       "      <td>NaN</td>\n",
       "    </tr>\n",
       "    <tr>\n",
       "      <th>762</th>\n",
       "      <td>WBAN:94846</td>\n",
       "      <td>CHICAGO OHARE INTERNATIONAL AIRPORT IL US</td>\n",
       "      <td>201.8</td>\n",
       "      <td>41.995</td>\n",
       "      <td>-87.9336</td>\n",
       "      <td>2014-03-31 12:51</td>\n",
       "      <td>FM-15</td>\n",
       "      <td>FEW:02 180 BKN:07 250</td>\n",
       "      <td>10.00</td>\n",
       "      <td>NaN</td>\n",
       "      <td>...</td>\n",
       "      <td>NaN</td>\n",
       "      <td>NaN</td>\n",
       "      <td>NaN</td>\n",
       "      <td>NaN</td>\n",
       "      <td>NaN</td>\n",
       "      <td>NaN</td>\n",
       "      <td>NaN</td>\n",
       "      <td>NaN</td>\n",
       "      <td>NaN</td>\n",
       "      <td>NaN</td>\n",
       "    </tr>\n",
       "    <tr>\n",
       "      <th>763</th>\n",
       "      <td>WBAN:94846</td>\n",
       "      <td>CHICAGO OHARE INTERNATIONAL AIRPORT IL US</td>\n",
       "      <td>201.8</td>\n",
       "      <td>41.995</td>\n",
       "      <td>-87.9336</td>\n",
       "      <td>2014-03-31 13:51</td>\n",
       "      <td>FM-15</td>\n",
       "      <td>FEW:02 180 SCT:04 220 OVC:08 250</td>\n",
       "      <td>10.00</td>\n",
       "      <td>NaN</td>\n",
       "      <td>...</td>\n",
       "      <td>NaN</td>\n",
       "      <td>NaN</td>\n",
       "      <td>NaN</td>\n",
       "      <td>NaN</td>\n",
       "      <td>NaN</td>\n",
       "      <td>NaN</td>\n",
       "      <td>NaN</td>\n",
       "      <td>NaN</td>\n",
       "      <td>NaN</td>\n",
       "      <td>NaN</td>\n",
       "    </tr>\n",
       "    <tr>\n",
       "      <th>764</th>\n",
       "      <td>WBAN:94846</td>\n",
       "      <td>CHICAGO OHARE INTERNATIONAL AIRPORT IL US</td>\n",
       "      <td>201.8</td>\n",
       "      <td>41.995</td>\n",
       "      <td>-87.9336</td>\n",
       "      <td>2014-03-31 14:51</td>\n",
       "      <td>FM-15</td>\n",
       "      <td>SCT:04 120 BKN:07 140 OVC:08 250</td>\n",
       "      <td>10.00</td>\n",
       "      <td>NaN</td>\n",
       "      <td>...</td>\n",
       "      <td>NaN</td>\n",
       "      <td>NaN</td>\n",
       "      <td>NaN</td>\n",
       "      <td>NaN</td>\n",
       "      <td>NaN</td>\n",
       "      <td>NaN</td>\n",
       "      <td>NaN</td>\n",
       "      <td>NaN</td>\n",
       "      <td>NaN</td>\n",
       "      <td>NaN</td>\n",
       "    </tr>\n",
       "    <tr>\n",
       "      <th>765</th>\n",
       "      <td>WBAN:94846</td>\n",
       "      <td>CHICAGO OHARE INTERNATIONAL AIRPORT IL US</td>\n",
       "      <td>201.8</td>\n",
       "      <td>41.995</td>\n",
       "      <td>-87.9336</td>\n",
       "      <td>2014-03-31 15:51</td>\n",
       "      <td>FM-15</td>\n",
       "      <td>FEW:02 140 BKN:07 220 OVC:08 250</td>\n",
       "      <td>10.00</td>\n",
       "      <td>NaN</td>\n",
       "      <td>...</td>\n",
       "      <td>NaN</td>\n",
       "      <td>NaN</td>\n",
       "      <td>NaN</td>\n",
       "      <td>NaN</td>\n",
       "      <td>NaN</td>\n",
       "      <td>NaN</td>\n",
       "      <td>NaN</td>\n",
       "      <td>NaN</td>\n",
       "      <td>NaN</td>\n",
       "      <td>NaN</td>\n",
       "    </tr>\n",
       "    <tr>\n",
       "      <th>766</th>\n",
       "      <td>WBAN:94846</td>\n",
       "      <td>CHICAGO OHARE INTERNATIONAL AIRPORT IL US</td>\n",
       "      <td>201.8</td>\n",
       "      <td>41.995</td>\n",
       "      <td>-87.9336</td>\n",
       "      <td>2014-03-31 16:51</td>\n",
       "      <td>FM-15</td>\n",
       "      <td>BKN:07 110 BKN:07 230</td>\n",
       "      <td>10.00</td>\n",
       "      <td>NaN</td>\n",
       "      <td>...</td>\n",
       "      <td>NaN</td>\n",
       "      <td>NaN</td>\n",
       "      <td>NaN</td>\n",
       "      <td>NaN</td>\n",
       "      <td>NaN</td>\n",
       "      <td>NaN</td>\n",
       "      <td>NaN</td>\n",
       "      <td>NaN</td>\n",
       "      <td>NaN</td>\n",
       "      <td>NaN</td>\n",
       "    </tr>\n",
       "    <tr>\n",
       "      <th>767</th>\n",
       "      <td>WBAN:94846</td>\n",
       "      <td>CHICAGO OHARE INTERNATIONAL AIRPORT IL US</td>\n",
       "      <td>201.8</td>\n",
       "      <td>41.995</td>\n",
       "      <td>-87.9336</td>\n",
       "      <td>2014-03-31 17:51</td>\n",
       "      <td>FM-15</td>\n",
       "      <td>SCT:04 100 BKN:07 120 BKN:07 220</td>\n",
       "      <td>10.00</td>\n",
       "      <td>NaN</td>\n",
       "      <td>...</td>\n",
       "      <td>NaN</td>\n",
       "      <td>NaN</td>\n",
       "      <td>NaN</td>\n",
       "      <td>NaN</td>\n",
       "      <td>NaN</td>\n",
       "      <td>NaN</td>\n",
       "      <td>NaN</td>\n",
       "      <td>NaN</td>\n",
       "      <td>NaN</td>\n",
       "      <td>NaN</td>\n",
       "    </tr>\n",
       "    <tr>\n",
       "      <th>768</th>\n",
       "      <td>WBAN:94846</td>\n",
       "      <td>CHICAGO OHARE INTERNATIONAL AIRPORT IL US</td>\n",
       "      <td>201.8</td>\n",
       "      <td>41.995</td>\n",
       "      <td>-87.9336</td>\n",
       "      <td>2014-03-31 18:51</td>\n",
       "      <td>FM-15</td>\n",
       "      <td>SCT:04 85 OVC:08 100</td>\n",
       "      <td>10.00</td>\n",
       "      <td>NaN</td>\n",
       "      <td>...</td>\n",
       "      <td>NaN</td>\n",
       "      <td>NaN</td>\n",
       "      <td>NaN</td>\n",
       "      <td>NaN</td>\n",
       "      <td>NaN</td>\n",
       "      <td>NaN</td>\n",
       "      <td>NaN</td>\n",
       "      <td>NaN</td>\n",
       "      <td>NaN</td>\n",
       "      <td>NaN</td>\n",
       "    </tr>\n",
       "    <tr>\n",
       "      <th>769</th>\n",
       "      <td>WBAN:94846</td>\n",
       "      <td>CHICAGO OHARE INTERNATIONAL AIRPORT IL US</td>\n",
       "      <td>201.8</td>\n",
       "      <td>41.995</td>\n",
       "      <td>-87.9336</td>\n",
       "      <td>2014-03-31 19:51</td>\n",
       "      <td>FM-15</td>\n",
       "      <td>FEW:02 55 OVC:08 80</td>\n",
       "      <td>10.00</td>\n",
       "      <td>-RA:02 |RA:61 |</td>\n",
       "      <td>...</td>\n",
       "      <td>NaN</td>\n",
       "      <td>NaN</td>\n",
       "      <td>NaN</td>\n",
       "      <td>NaN</td>\n",
       "      <td>NaN</td>\n",
       "      <td>NaN</td>\n",
       "      <td>NaN</td>\n",
       "      <td>NaN</td>\n",
       "      <td>NaN</td>\n",
       "      <td>NaN</td>\n",
       "    </tr>\n",
       "    <tr>\n",
       "      <th>770</th>\n",
       "      <td>WBAN:94846</td>\n",
       "      <td>CHICAGO OHARE INTERNATIONAL AIRPORT IL US</td>\n",
       "      <td>201.8</td>\n",
       "      <td>41.995</td>\n",
       "      <td>-87.9336</td>\n",
       "      <td>2014-03-31 20:51</td>\n",
       "      <td>FM-15</td>\n",
       "      <td>OVC:08 85</td>\n",
       "      <td>10.00</td>\n",
       "      <td>NaN</td>\n",
       "      <td>...</td>\n",
       "      <td>NaN</td>\n",
       "      <td>NaN</td>\n",
       "      <td>NaN</td>\n",
       "      <td>NaN</td>\n",
       "      <td>NaN</td>\n",
       "      <td>NaN</td>\n",
       "      <td>NaN</td>\n",
       "      <td>NaN</td>\n",
       "      <td>NaN</td>\n",
       "      <td>NaN</td>\n",
       "    </tr>\n",
       "    <tr>\n",
       "      <th>771</th>\n",
       "      <td>WBAN:94846</td>\n",
       "      <td>CHICAGO OHARE INTERNATIONAL AIRPORT IL US</td>\n",
       "      <td>201.8</td>\n",
       "      <td>41.995</td>\n",
       "      <td>-87.9336</td>\n",
       "      <td>2014-03-31 21:51</td>\n",
       "      <td>FM-15</td>\n",
       "      <td>FEW:02 60 BKN:07 80 BKN:07 100</td>\n",
       "      <td>10.00</td>\n",
       "      <td>NaN</td>\n",
       "      <td>...</td>\n",
       "      <td>NaN</td>\n",
       "      <td>NaN</td>\n",
       "      <td>NaN</td>\n",
       "      <td>NaN</td>\n",
       "      <td>NaN</td>\n",
       "      <td>NaN</td>\n",
       "      <td>NaN</td>\n",
       "      <td>NaN</td>\n",
       "      <td>NaN</td>\n",
       "      <td>NaN</td>\n",
       "    </tr>\n",
       "  </tbody>\n",
       "</table>\n",
       "<p>772 rows × 86 columns</p>\n",
       "</div>"
      ],
      "text/plain": [
       "        STATION                               STATION_NAME  ELEVATION  \\\n",
       "0    WBAN:94846  CHICAGO OHARE INTERNATIONAL AIRPORT IL US      201.8   \n",
       "1    WBAN:94846  CHICAGO OHARE INTERNATIONAL AIRPORT IL US      201.8   \n",
       "2    WBAN:94846  CHICAGO OHARE INTERNATIONAL AIRPORT IL US      201.8   \n",
       "3    WBAN:94846  CHICAGO OHARE INTERNATIONAL AIRPORT IL US      201.8   \n",
       "4    WBAN:94846  CHICAGO OHARE INTERNATIONAL AIRPORT IL US      201.8   \n",
       "5    WBAN:94846  CHICAGO OHARE INTERNATIONAL AIRPORT IL US      201.8   \n",
       "6    WBAN:94846  CHICAGO OHARE INTERNATIONAL AIRPORT IL US      201.8   \n",
       "7    WBAN:94846  CHICAGO OHARE INTERNATIONAL AIRPORT IL US      201.8   \n",
       "8    WBAN:94846  CHICAGO OHARE INTERNATIONAL AIRPORT IL US      201.8   \n",
       "9    WBAN:94846  CHICAGO OHARE INTERNATIONAL AIRPORT IL US      201.8   \n",
       "10   WBAN:94846  CHICAGO OHARE INTERNATIONAL AIRPORT IL US      201.8   \n",
       "11   WBAN:94846  CHICAGO OHARE INTERNATIONAL AIRPORT IL US      201.8   \n",
       "12   WBAN:94846  CHICAGO OHARE INTERNATIONAL AIRPORT IL US      201.8   \n",
       "13   WBAN:94846  CHICAGO OHARE INTERNATIONAL AIRPORT IL US      201.8   \n",
       "14   WBAN:94846  CHICAGO OHARE INTERNATIONAL AIRPORT IL US      201.8   \n",
       "15   WBAN:94846  CHICAGO OHARE INTERNATIONAL AIRPORT IL US      201.8   \n",
       "16   WBAN:94846  CHICAGO OHARE INTERNATIONAL AIRPORT IL US      201.8   \n",
       "17   WBAN:94846  CHICAGO OHARE INTERNATIONAL AIRPORT IL US      201.8   \n",
       "18   WBAN:94846  CHICAGO OHARE INTERNATIONAL AIRPORT IL US      201.8   \n",
       "19   WBAN:94846  CHICAGO OHARE INTERNATIONAL AIRPORT IL US      201.8   \n",
       "20   WBAN:94846  CHICAGO OHARE INTERNATIONAL AIRPORT IL US      201.8   \n",
       "21   WBAN:94846  CHICAGO OHARE INTERNATIONAL AIRPORT IL US      201.8   \n",
       "22   WBAN:94846  CHICAGO OHARE INTERNATIONAL AIRPORT IL US      201.8   \n",
       "23   WBAN:94846  CHICAGO OHARE INTERNATIONAL AIRPORT IL US      201.8   \n",
       "24   WBAN:94846  CHICAGO OHARE INTERNATIONAL AIRPORT IL US      201.8   \n",
       "25   WBAN:94846  CHICAGO OHARE INTERNATIONAL AIRPORT IL US      201.8   \n",
       "26   WBAN:94846  CHICAGO OHARE INTERNATIONAL AIRPORT IL US      201.8   \n",
       "27   WBAN:94846  CHICAGO OHARE INTERNATIONAL AIRPORT IL US      201.8   \n",
       "28   WBAN:94846  CHICAGO OHARE INTERNATIONAL AIRPORT IL US      201.8   \n",
       "29   WBAN:94846  CHICAGO OHARE INTERNATIONAL AIRPORT IL US      201.8   \n",
       "..          ...                                        ...        ...   \n",
       "742  WBAN:94846  CHICAGO OHARE INTERNATIONAL AIRPORT IL US      201.8   \n",
       "743  WBAN:94846  CHICAGO OHARE INTERNATIONAL AIRPORT IL US      201.8   \n",
       "744  WBAN:94846  CHICAGO OHARE INTERNATIONAL AIRPORT IL US      201.8   \n",
       "745  WBAN:94846  CHICAGO OHARE INTERNATIONAL AIRPORT IL US      201.8   \n",
       "746  WBAN:94846  CHICAGO OHARE INTERNATIONAL AIRPORT IL US      201.8   \n",
       "747  WBAN:94846  CHICAGO OHARE INTERNATIONAL AIRPORT IL US      201.8   \n",
       "748  WBAN:94846  CHICAGO OHARE INTERNATIONAL AIRPORT IL US      201.8   \n",
       "749  WBAN:94846  CHICAGO OHARE INTERNATIONAL AIRPORT IL US      201.8   \n",
       "750  WBAN:94846  CHICAGO OHARE INTERNATIONAL AIRPORT IL US      201.8   \n",
       "751  WBAN:94846  CHICAGO OHARE INTERNATIONAL AIRPORT IL US      201.8   \n",
       "752  WBAN:94846  CHICAGO OHARE INTERNATIONAL AIRPORT IL US      201.8   \n",
       "753  WBAN:94846  CHICAGO OHARE INTERNATIONAL AIRPORT IL US      201.8   \n",
       "754  WBAN:94846  CHICAGO OHARE INTERNATIONAL AIRPORT IL US      201.8   \n",
       "755  WBAN:94846  CHICAGO OHARE INTERNATIONAL AIRPORT IL US      201.8   \n",
       "756  WBAN:94846  CHICAGO OHARE INTERNATIONAL AIRPORT IL US      201.8   \n",
       "757  WBAN:94846  CHICAGO OHARE INTERNATIONAL AIRPORT IL US      201.8   \n",
       "758  WBAN:94846  CHICAGO OHARE INTERNATIONAL AIRPORT IL US      201.8   \n",
       "759  WBAN:94846  CHICAGO OHARE INTERNATIONAL AIRPORT IL US      201.8   \n",
       "760  WBAN:94846  CHICAGO OHARE INTERNATIONAL AIRPORT IL US      201.8   \n",
       "761  WBAN:94846  CHICAGO OHARE INTERNATIONAL AIRPORT IL US      201.8   \n",
       "762  WBAN:94846  CHICAGO OHARE INTERNATIONAL AIRPORT IL US      201.8   \n",
       "763  WBAN:94846  CHICAGO OHARE INTERNATIONAL AIRPORT IL US      201.8   \n",
       "764  WBAN:94846  CHICAGO OHARE INTERNATIONAL AIRPORT IL US      201.8   \n",
       "765  WBAN:94846  CHICAGO OHARE INTERNATIONAL AIRPORT IL US      201.8   \n",
       "766  WBAN:94846  CHICAGO OHARE INTERNATIONAL AIRPORT IL US      201.8   \n",
       "767  WBAN:94846  CHICAGO OHARE INTERNATIONAL AIRPORT IL US      201.8   \n",
       "768  WBAN:94846  CHICAGO OHARE INTERNATIONAL AIRPORT IL US      201.8   \n",
       "769  WBAN:94846  CHICAGO OHARE INTERNATIONAL AIRPORT IL US      201.8   \n",
       "770  WBAN:94846  CHICAGO OHARE INTERNATIONAL AIRPORT IL US      201.8   \n",
       "771  WBAN:94846  CHICAGO OHARE INTERNATIONAL AIRPORT IL US      201.8   \n",
       "\n",
       "     LATITUDE  LONGITUDE              DATE reportType  \\\n",
       "0      41.995   -87.9336  2014-03-01 00:51      FM-15   \n",
       "1      41.995   -87.9336  2014-03-01 01:51      FM-15   \n",
       "2      41.995   -87.9336  2014-03-01 02:51      FM-15   \n",
       "3      41.995   -87.9336  2014-03-01 03:51      FM-15   \n",
       "4      41.995   -87.9336  2014-03-01 04:51      FM-15   \n",
       "5      41.995   -87.9336  2014-03-01 05:51      FM-15   \n",
       "6      41.995   -87.9336  2014-03-01 06:51      FM-15   \n",
       "7      41.995   -87.9336  2014-03-01 07:51      FM-15   \n",
       "8      41.995   -87.9336  2014-03-01 08:51      FM-15   \n",
       "9      41.995   -87.9336  2014-03-01 09:51      FM-15   \n",
       "10     41.995   -87.9336  2014-03-01 10:51      FM-15   \n",
       "11     41.995   -87.9336  2014-03-01 11:51      FM-15   \n",
       "12     41.995   -87.9336  2014-03-01 12:51      FM-15   \n",
       "13     41.995   -87.9336  2014-03-01 13:51      FM-15   \n",
       "14     41.995   -87.9336  2014-03-01 14:51      FM-15   \n",
       "15     41.995   -87.9336  2014-03-01 15:51      FM-15   \n",
       "16     41.995   -87.9336  2014-03-01 16:51      FM-15   \n",
       "17     41.995   -87.9336  2014-03-01 17:51      FM-15   \n",
       "18     41.995   -87.9336  2014-03-01 18:51      FM-15   \n",
       "19     41.995   -87.9336  2014-03-01 19:51      FM-15   \n",
       "20     41.995   -87.9336  2014-03-01 20:51      FM-15   \n",
       "21     41.995   -87.9336  2014-03-01 21:51      FM-15   \n",
       "22     41.995   -87.9336  2014-03-01 22:51      FM-15   \n",
       "23     41.995   -87.9336  2014-03-01 23:51      FM-15   \n",
       "24     41.995   -87.9336  2014-03-01 23:59        SOD   \n",
       "25     41.995   -87.9336  2014-03-02 00:51      FM-15   \n",
       "26     41.995   -87.9336  2014-03-02 01:51      FM-15   \n",
       "27     41.995   -87.9336  2014-03-02 02:51      FM-15   \n",
       "28     41.995   -87.9336  2014-03-02 03:51      FM-15   \n",
       "29     41.995   -87.9336  2014-03-02 04:51      FM-15   \n",
       "..        ...        ...               ...        ...   \n",
       "742    41.995   -87.9336  2014-03-30 17:51      FM-15   \n",
       "743    41.995   -87.9336  2014-03-30 18:51      FM-15   \n",
       "744    41.995   -87.9336  2014-03-30 19:51      FM-15   \n",
       "745    41.995   -87.9336  2014-03-30 20:51      FM-15   \n",
       "746    41.995   -87.9336  2014-03-30 21:51      FM-15   \n",
       "747    41.995   -87.9336  2014-03-30 22:51      FM-15   \n",
       "748    41.995   -87.9336  2014-03-30 23:51      FM-15   \n",
       "749    41.995   -87.9336  2014-03-30 23:59        SOD   \n",
       "750    41.995   -87.9336  2014-03-31 00:51      FM-15   \n",
       "751    41.995   -87.9336  2014-03-31 01:51      FM-15   \n",
       "752    41.995   -87.9336  2014-03-31 02:51      FM-15   \n",
       "753    41.995   -87.9336  2014-03-31 03:51      FM-15   \n",
       "754    41.995   -87.9336  2014-03-31 04:51      FM-15   \n",
       "755    41.995   -87.9336  2014-03-31 05:51      FM-15   \n",
       "756    41.995   -87.9336  2014-03-31 06:51      FM-15   \n",
       "757    41.995   -87.9336  2014-03-31 07:51      FM-15   \n",
       "758    41.995   -87.9336  2014-03-31 08:51      FM-15   \n",
       "759    41.995   -87.9336  2014-03-31 09:51      FM-15   \n",
       "760    41.995   -87.9336  2014-03-31 10:51      FM-15   \n",
       "761    41.995   -87.9336  2014-03-31 11:51      FM-15   \n",
       "762    41.995   -87.9336  2014-03-31 12:51      FM-15   \n",
       "763    41.995   -87.9336  2014-03-31 13:51      FM-15   \n",
       "764    41.995   -87.9336  2014-03-31 14:51      FM-15   \n",
       "765    41.995   -87.9336  2014-03-31 15:51      FM-15   \n",
       "766    41.995   -87.9336  2014-03-31 16:51      FM-15   \n",
       "767    41.995   -87.9336  2014-03-31 17:51      FM-15   \n",
       "768    41.995   -87.9336  2014-03-31 18:51      FM-15   \n",
       "769    41.995   -87.9336  2014-03-31 19:51      FM-15   \n",
       "770    41.995   -87.9336  2014-03-31 20:51      FM-15   \n",
       "771    41.995   -87.9336  2014-03-31 21:51      FM-15   \n",
       "\n",
       "                  HourlySkyConditions  HourlyVisibility  \\\n",
       "0                 SCT:04 70 OVC:08 90             10.00   \n",
       "1                           OVC:08 50             10.00   \n",
       "2                           OVC:08 29              6.00   \n",
       "3                             VV:09 9              0.75   \n",
       "4                            OVC:08 8             10.00   \n",
       "5                 BKN:07 10 OVC:08 20             10.00   \n",
       "6                 BKN:07 12 OVC:08 20              5.00   \n",
       "7                 BKN:07 14 OVC:08 25             10.00   \n",
       "8                           OVC:08 27              9.00   \n",
       "9                 SCT:04 27 OVC:08 35             10.00   \n",
       "10               BKN:07 35 OVC:08 150             10.00   \n",
       "11      SCT:04 45 BKN:07 65 OVC:08 80             10.00   \n",
       "12               BKN:07 45 BKN:07 100             10.00   \n",
       "13     BKN:07 55 BKN:07 75 OVC:08 150             10.00   \n",
       "14     FEW:02 25 BKN:07 60 OVC:08 150             10.00   \n",
       "15                BKN:07 18 OVC:08 50              6.00   \n",
       "16      SCT:04 12 BKN:07 30 OVC:08 60              5.00   \n",
       "17                           VV:09 10              0.50   \n",
       "18                           VV:09 11              1.00   \n",
       "19                          OVC:08 17              1.50   \n",
       "20                          OVC:08 25              2.00   \n",
       "21                           VV:09 15              0.75   \n",
       "22                BKN:07 20 OVC:08 31              2.00   \n",
       "23                          OVC:08 34              2.50   \n",
       "24                                NaN               NaN   \n",
       "25                          OVC:08 15              1.50   \n",
       "26      FEW:02 18 SCT:04 23 OVC:08 36              4.00   \n",
       "27                SCT:04 23 OVC:08 39              2.00   \n",
       "28                          OVC:08 45              4.00   \n",
       "29                FEW:02 25 OVC:08 65              9.00   \n",
       "..                                ...               ...   \n",
       "742             FEW:02 200 BKN:07 250             10.00   \n",
       "743             FEW:02 200 BKN:07 250             10.00   \n",
       "744                        SCT:04 250             10.00   \n",
       "745             SCT:04 200 BKN:07 250             10.00   \n",
       "746             SCT:04 200 BKN:07 250             10.00   \n",
       "747                        SCT:04 250             10.00   \n",
       "748                        BKN:07 250             10.00   \n",
       "749                               NaN               NaN   \n",
       "750                        BKN:07 250             10.00   \n",
       "751             SCT:04 150 BKN:07 250             10.00   \n",
       "752             BKN:07 140 BKN:07 250             10.00   \n",
       "753             BKN:07 110 BKN:07 250             10.00   \n",
       "754             SCT:04 110 BKN:07 250             10.00   \n",
       "755             BKN:07 120 BKN:07 250             10.00   \n",
       "756             FEW:02 120 BKN:07 250             10.00   \n",
       "757             FEW:02 140 BKN:07 250             10.00   \n",
       "758                        BKN:07 250             10.00   \n",
       "759             FEW:02 180 BKN:07 250             10.00   \n",
       "760             FEW:02 140 BKN:07 250             10.00   \n",
       "761                        BKN:07 250             10.00   \n",
       "762             FEW:02 180 BKN:07 250             10.00   \n",
       "763  FEW:02 180 SCT:04 220 OVC:08 250             10.00   \n",
       "764  SCT:04 120 BKN:07 140 OVC:08 250             10.00   \n",
       "765  FEW:02 140 BKN:07 220 OVC:08 250             10.00   \n",
       "766             BKN:07 110 BKN:07 230             10.00   \n",
       "767  SCT:04 100 BKN:07 120 BKN:07 220             10.00   \n",
       "768              SCT:04 85 OVC:08 100             10.00   \n",
       "769               FEW:02 55 OVC:08 80             10.00   \n",
       "770                         OVC:08 85             10.00   \n",
       "771    FEW:02 60 BKN:07 80 BKN:07 100             10.00   \n",
       "\n",
       "    HourlyPresentWeatherType                 ...                   \\\n",
       "0                        NaN                 ...                    \n",
       "1                        NaN                 ...                    \n",
       "2            -SN:03 |SN:71 |                 ...                    \n",
       "3            -SN:03 |SN:71 |                 ...                    \n",
       "4                        NaN                 ...                    \n",
       "5                        NaN                 ...                    \n",
       "6         HZ:7 |FU:05 |HZ:05                 ...                    \n",
       "7                        NaN                 ...                    \n",
       "8                        NaN                 ...                    \n",
       "9                        NaN                 ...                    \n",
       "10                       NaN                 ...                    \n",
       "11                       NaN                 ...                    \n",
       "12                       NaN                 ...                    \n",
       "13                       NaN                 ...                    \n",
       "14           -SN:03 |SN:71 |                 ...                    \n",
       "15           -SN:03 |SN:71 |                 ...                    \n",
       "16           -SN:03 |SN:71 |                 ...                    \n",
       "17          SN:03 |SN:72 s |                 ...                    \n",
       "18           -SN:03 |SN:71 |                 ...                    \n",
       "19           -SN:03 |SN:71 |                 ...                    \n",
       "20           -SN:03 |SN:71 |                 ...                    \n",
       "21           -SN:03 |SN:71 |                 ...                    \n",
       "22           -SN:03 |SN:71 |                 ...                    \n",
       "23           -SN:03 |SN:71 |                 ...                    \n",
       "24                       NaN                 ...                    \n",
       "25           -SN:03 |SN:71 |                 ...                    \n",
       "26           -SN:03 |SN:71 |                 ...                    \n",
       "27           -SN:03 |SN:71 |                 ...                    \n",
       "28           -SN:03 |SN:71 |                 ...                    \n",
       "29           -SN:03 |SN:71 |                 ...                    \n",
       "..                       ...                 ...                    \n",
       "742                      NaN                 ...                    \n",
       "743                      NaN                 ...                    \n",
       "744                      NaN                 ...                    \n",
       "745                      NaN                 ...                    \n",
       "746                      NaN                 ...                    \n",
       "747                      NaN                 ...                    \n",
       "748                      NaN                 ...                    \n",
       "749                      NaN                 ...                    \n",
       "750                      NaN                 ...                    \n",
       "751                      NaN                 ...                    \n",
       "752                      NaN                 ...                    \n",
       "753                      NaN                 ...                    \n",
       "754                      NaN                 ...                    \n",
       "755                      NaN                 ...                    \n",
       "756                      NaN                 ...                    \n",
       "757                      NaN                 ...                    \n",
       "758                      NaN                 ...                    \n",
       "759                      NaN                 ...                    \n",
       "760                      NaN                 ...                    \n",
       "761                      NaN                 ...                    \n",
       "762                      NaN                 ...                    \n",
       "763                      NaN                 ...                    \n",
       "764                      NaN                 ...                    \n",
       "765                      NaN                 ...                    \n",
       "766                      NaN                 ...                    \n",
       "767                      NaN                 ...                    \n",
       "768                      NaN                 ...                    \n",
       "769          -RA:02 |RA:61 |                 ...                    \n",
       "770                      NaN                 ...                    \n",
       "771                      NaN                 ...                    \n",
       "\n",
       "     MonthlyMaxSeaLevelPressureValue  MonthlyMaxSeaLevelPressureValueDate  \\\n",
       "0                                NaN                                  NaN   \n",
       "1                                NaN                                  NaN   \n",
       "2                                NaN                                  NaN   \n",
       "3                                NaN                                  NaN   \n",
       "4                                NaN                                  NaN   \n",
       "5                                NaN                                  NaN   \n",
       "6                                NaN                                  NaN   \n",
       "7                                NaN                                  NaN   \n",
       "8                                NaN                                  NaN   \n",
       "9                                NaN                                  NaN   \n",
       "10                               NaN                                  NaN   \n",
       "11                               NaN                                  NaN   \n",
       "12                               NaN                                  NaN   \n",
       "13                               NaN                                  NaN   \n",
       "14                               NaN                                  NaN   \n",
       "15                               NaN                                  NaN   \n",
       "16                               NaN                                  NaN   \n",
       "17                               NaN                                  NaN   \n",
       "18                               NaN                                  NaN   \n",
       "19                               NaN                                  NaN   \n",
       "20                               NaN                                  NaN   \n",
       "21                               NaN                                  NaN   \n",
       "22                               NaN                                  NaN   \n",
       "23                               NaN                                  NaN   \n",
       "24                               NaN                                  NaN   \n",
       "25                               NaN                                  NaN   \n",
       "26                               NaN                                  NaN   \n",
       "27                               NaN                                  NaN   \n",
       "28                               NaN                                  NaN   \n",
       "29                               NaN                                  NaN   \n",
       "..                               ...                                  ...   \n",
       "742                              NaN                                  NaN   \n",
       "743                              NaN                                  NaN   \n",
       "744                              NaN                                  NaN   \n",
       "745                              NaN                                  NaN   \n",
       "746                              NaN                                  NaN   \n",
       "747                              NaN                                  NaN   \n",
       "748                              NaN                                  NaN   \n",
       "749                              NaN                                  NaN   \n",
       "750                              NaN                                  NaN   \n",
       "751                              NaN                                  NaN   \n",
       "752                              NaN                                  NaN   \n",
       "753                              NaN                                  NaN   \n",
       "754                              NaN                                  NaN   \n",
       "755                              NaN                                  NaN   \n",
       "756                              NaN                                  NaN   \n",
       "757                              NaN                                  NaN   \n",
       "758                              NaN                                  NaN   \n",
       "759                              NaN                                  NaN   \n",
       "760                              NaN                                  NaN   \n",
       "761                              NaN                                  NaN   \n",
       "762                              NaN                                  NaN   \n",
       "763                              NaN                                  NaN   \n",
       "764                              NaN                                  NaN   \n",
       "765                              NaN                                  NaN   \n",
       "766                              NaN                                  NaN   \n",
       "767                              NaN                                  NaN   \n",
       "768                              NaN                                  NaN   \n",
       "769                              NaN                                  NaN   \n",
       "770                              NaN                                  NaN   \n",
       "771                              NaN                                  NaN   \n",
       "\n",
       "     MonthlyMaxSeaLevelPressureValueTime  MonthlyMinSeaLevelPressureValue  \\\n",
       "0                                    NaN                              NaN   \n",
       "1                                    NaN                              NaN   \n",
       "2                                    NaN                              NaN   \n",
       "3                                    NaN                              NaN   \n",
       "4                                    NaN                              NaN   \n",
       "5                                    NaN                              NaN   \n",
       "6                                    NaN                              NaN   \n",
       "7                                    NaN                              NaN   \n",
       "8                                    NaN                              NaN   \n",
       "9                                    NaN                              NaN   \n",
       "10                                   NaN                              NaN   \n",
       "11                                   NaN                              NaN   \n",
       "12                                   NaN                              NaN   \n",
       "13                                   NaN                              NaN   \n",
       "14                                   NaN                              NaN   \n",
       "15                                   NaN                              NaN   \n",
       "16                                   NaN                              NaN   \n",
       "17                                   NaN                              NaN   \n",
       "18                                   NaN                              NaN   \n",
       "19                                   NaN                              NaN   \n",
       "20                                   NaN                              NaN   \n",
       "21                                   NaN                              NaN   \n",
       "22                                   NaN                              NaN   \n",
       "23                                   NaN                              NaN   \n",
       "24                                   NaN                              NaN   \n",
       "25                                   NaN                              NaN   \n",
       "26                                   NaN                              NaN   \n",
       "27                                   NaN                              NaN   \n",
       "28                                   NaN                              NaN   \n",
       "29                                   NaN                              NaN   \n",
       "..                                   ...                              ...   \n",
       "742                                  NaN                              NaN   \n",
       "743                                  NaN                              NaN   \n",
       "744                                  NaN                              NaN   \n",
       "745                                  NaN                              NaN   \n",
       "746                                  NaN                              NaN   \n",
       "747                                  NaN                              NaN   \n",
       "748                                  NaN                              NaN   \n",
       "749                                  NaN                              NaN   \n",
       "750                                  NaN                              NaN   \n",
       "751                                  NaN                              NaN   \n",
       "752                                  NaN                              NaN   \n",
       "753                                  NaN                              NaN   \n",
       "754                                  NaN                              NaN   \n",
       "755                                  NaN                              NaN   \n",
       "756                                  NaN                              NaN   \n",
       "757                                  NaN                              NaN   \n",
       "758                                  NaN                              NaN   \n",
       "759                                  NaN                              NaN   \n",
       "760                                  NaN                              NaN   \n",
       "761                                  NaN                              NaN   \n",
       "762                                  NaN                              NaN   \n",
       "763                                  NaN                              NaN   \n",
       "764                                  NaN                              NaN   \n",
       "765                                  NaN                              NaN   \n",
       "766                                  NaN                              NaN   \n",
       "767                                  NaN                              NaN   \n",
       "768                                  NaN                              NaN   \n",
       "769                                  NaN                              NaN   \n",
       "770                                  NaN                              NaN   \n",
       "771                                  NaN                              NaN   \n",
       "\n",
       "     MonthlyMinSeaLevelPressureValueDate  MonthlyMinSeaLevelPressureValueTime  \\\n",
       "0                                    NaN                                  NaN   \n",
       "1                                    NaN                                  NaN   \n",
       "2                                    NaN                                  NaN   \n",
       "3                                    NaN                                  NaN   \n",
       "4                                    NaN                                  NaN   \n",
       "5                                    NaN                                  NaN   \n",
       "6                                    NaN                                  NaN   \n",
       "7                                    NaN                                  NaN   \n",
       "8                                    NaN                                  NaN   \n",
       "9                                    NaN                                  NaN   \n",
       "10                                   NaN                                  NaN   \n",
       "11                                   NaN                                  NaN   \n",
       "12                                   NaN                                  NaN   \n",
       "13                                   NaN                                  NaN   \n",
       "14                                   NaN                                  NaN   \n",
       "15                                   NaN                                  NaN   \n",
       "16                                   NaN                                  NaN   \n",
       "17                                   NaN                                  NaN   \n",
       "18                                   NaN                                  NaN   \n",
       "19                                   NaN                                  NaN   \n",
       "20                                   NaN                                  NaN   \n",
       "21                                   NaN                                  NaN   \n",
       "22                                   NaN                                  NaN   \n",
       "23                                   NaN                                  NaN   \n",
       "24                                   NaN                                  NaN   \n",
       "25                                   NaN                                  NaN   \n",
       "26                                   NaN                                  NaN   \n",
       "27                                   NaN                                  NaN   \n",
       "28                                   NaN                                  NaN   \n",
       "29                                   NaN                                  NaN   \n",
       "..                                   ...                                  ...   \n",
       "742                                  NaN                                  NaN   \n",
       "743                                  NaN                                  NaN   \n",
       "744                                  NaN                                  NaN   \n",
       "745                                  NaN                                  NaN   \n",
       "746                                  NaN                                  NaN   \n",
       "747                                  NaN                                  NaN   \n",
       "748                                  NaN                                  NaN   \n",
       "749                                  NaN                                  NaN   \n",
       "750                                  NaN                                  NaN   \n",
       "751                                  NaN                                  NaN   \n",
       "752                                  NaN                                  NaN   \n",
       "753                                  NaN                                  NaN   \n",
       "754                                  NaN                                  NaN   \n",
       "755                                  NaN                                  NaN   \n",
       "756                                  NaN                                  NaN   \n",
       "757                                  NaN                                  NaN   \n",
       "758                                  NaN                                  NaN   \n",
       "759                                  NaN                                  NaN   \n",
       "760                                  NaN                                  NaN   \n",
       "761                                  NaN                                  NaN   \n",
       "762                                  NaN                                  NaN   \n",
       "763                                  NaN                                  NaN   \n",
       "764                                  NaN                                  NaN   \n",
       "765                                  NaN                                  NaN   \n",
       "766                                  NaN                                  NaN   \n",
       "767                                  NaN                                  NaN   \n",
       "768                                  NaN                                  NaN   \n",
       "769                                  NaN                                  NaN   \n",
       "770                                  NaN                                  NaN   \n",
       "771                                  NaN                                  NaN   \n",
       "\n",
       "     MonthlyTotalHeatingDegreeDays  MonthlyTotalCoolingDegreeDays  \\\n",
       "0                              NaN                            NaN   \n",
       "1                              NaN                            NaN   \n",
       "2                              NaN                            NaN   \n",
       "3                              NaN                            NaN   \n",
       "4                              NaN                            NaN   \n",
       "5                              NaN                            NaN   \n",
       "6                              NaN                            NaN   \n",
       "7                              NaN                            NaN   \n",
       "8                              NaN                            NaN   \n",
       "9                              NaN                            NaN   \n",
       "10                             NaN                            NaN   \n",
       "11                             NaN                            NaN   \n",
       "12                             NaN                            NaN   \n",
       "13                             NaN                            NaN   \n",
       "14                             NaN                            NaN   \n",
       "15                             NaN                            NaN   \n",
       "16                             NaN                            NaN   \n",
       "17                             NaN                            NaN   \n",
       "18                             NaN                            NaN   \n",
       "19                             NaN                            NaN   \n",
       "20                             NaN                            NaN   \n",
       "21                             NaN                            NaN   \n",
       "22                             NaN                            NaN   \n",
       "23                             NaN                            NaN   \n",
       "24                             NaN                            NaN   \n",
       "25                             NaN                            NaN   \n",
       "26                             NaN                            NaN   \n",
       "27                             NaN                            NaN   \n",
       "28                             NaN                            NaN   \n",
       "29                             NaN                            NaN   \n",
       "..                             ...                            ...   \n",
       "742                            NaN                            NaN   \n",
       "743                            NaN                            NaN   \n",
       "744                            NaN                            NaN   \n",
       "745                            NaN                            NaN   \n",
       "746                            NaN                            NaN   \n",
       "747                            NaN                            NaN   \n",
       "748                            NaN                            NaN   \n",
       "749                            NaN                            NaN   \n",
       "750                            NaN                            NaN   \n",
       "751                            NaN                            NaN   \n",
       "752                            NaN                            NaN   \n",
       "753                            NaN                            NaN   \n",
       "754                            NaN                            NaN   \n",
       "755                            NaN                            NaN   \n",
       "756                            NaN                            NaN   \n",
       "757                            NaN                            NaN   \n",
       "758                            NaN                            NaN   \n",
       "759                            NaN                            NaN   \n",
       "760                            NaN                            NaN   \n",
       "761                            NaN                            NaN   \n",
       "762                            NaN                            NaN   \n",
       "763                            NaN                            NaN   \n",
       "764                            NaN                            NaN   \n",
       "765                            NaN                            NaN   \n",
       "766                            NaN                            NaN   \n",
       "767                            NaN                            NaN   \n",
       "768                            NaN                            NaN   \n",
       "769                            NaN                            NaN   \n",
       "770                            NaN                            NaN   \n",
       "771                            NaN                            NaN   \n",
       "\n",
       "    MonthlyDepartureFromNormalHeatingDD  MonthlyDepartureFromNormalCoolingDD  \n",
       "0                                   NaN                                  NaN  \n",
       "1                                   NaN                                  NaN  \n",
       "2                                   NaN                                  NaN  \n",
       "3                                   NaN                                  NaN  \n",
       "4                                   NaN                                  NaN  \n",
       "5                                   NaN                                  NaN  \n",
       "6                                   NaN                                  NaN  \n",
       "7                                   NaN                                  NaN  \n",
       "8                                   NaN                                  NaN  \n",
       "9                                   NaN                                  NaN  \n",
       "10                                  NaN                                  NaN  \n",
       "11                                  NaN                                  NaN  \n",
       "12                                  NaN                                  NaN  \n",
       "13                                  NaN                                  NaN  \n",
       "14                                  NaN                                  NaN  \n",
       "15                                  NaN                                  NaN  \n",
       "16                                  NaN                                  NaN  \n",
       "17                                  NaN                                  NaN  \n",
       "18                                  NaN                                  NaN  \n",
       "19                                  NaN                                  NaN  \n",
       "20                                  NaN                                  NaN  \n",
       "21                                  NaN                                  NaN  \n",
       "22                                  NaN                                  NaN  \n",
       "23                                  NaN                                  NaN  \n",
       "24                                  NaN                                  NaN  \n",
       "25                                  NaN                                  NaN  \n",
       "26                                  NaN                                  NaN  \n",
       "27                                  NaN                                  NaN  \n",
       "28                                  NaN                                  NaN  \n",
       "29                                  NaN                                  NaN  \n",
       "..                                  ...                                  ...  \n",
       "742                                 NaN                                  NaN  \n",
       "743                                 NaN                                  NaN  \n",
       "744                                 NaN                                  NaN  \n",
       "745                                 NaN                                  NaN  \n",
       "746                                 NaN                                  NaN  \n",
       "747                                 NaN                                  NaN  \n",
       "748                                 NaN                                  NaN  \n",
       "749                                 NaN                                  NaN  \n",
       "750                                 NaN                                  NaN  \n",
       "751                                 NaN                                  NaN  \n",
       "752                                 NaN                                  NaN  \n",
       "753                                 NaN                                  NaN  \n",
       "754                                 NaN                                  NaN  \n",
       "755                                 NaN                                  NaN  \n",
       "756                                 NaN                                  NaN  \n",
       "757                                 NaN                                  NaN  \n",
       "758                                 NaN                                  NaN  \n",
       "759                                 NaN                                  NaN  \n",
       "760                                 NaN                                  NaN  \n",
       "761                                 NaN                                  NaN  \n",
       "762                                 NaN                                  NaN  \n",
       "763                                 NaN                                  NaN  \n",
       "764                                 NaN                                  NaN  \n",
       "765                                 NaN                                  NaN  \n",
       "766                                 NaN                                  NaN  \n",
       "767                                 NaN                                  NaN  \n",
       "768                                 NaN                                  NaN  \n",
       "769                                 NaN                                  NaN  \n",
       "770                                 NaN                                  NaN  \n",
       "771                                 NaN                                  NaN  \n",
       "\n",
       "[772 rows x 86 columns]"
      ]
     },
     "execution_count": 13,
     "metadata": {},
     "output_type": "execute_result"
    }
   ],
   "source": [
    "w"
   ]
  },
  {
   "cell_type": "code",
   "execution_count": 15,
   "metadata": {
    "collapsed": true
   },
   "outputs": [],
   "source": [
    "%matplotlib inline\n",
    "import numpy as np\n",
    "from scipy import ndimage\n",
    "\n",
    "import matplotlib.pylab as pylab\n",
    "import matplotlib.pyplot as plt\n",
    "pylab.rcParams['figure.figsize'] = 8, 6"
   ]
  },
  {
   "cell_type": "code",
   "execution_count": null,
   "metadata": {
    "collapsed": false
   },
   "outputs": [],
   "source": []
  },
  {
   "cell_type": "code",
   "execution_count": 20,
   "metadata": {
    "collapsed": false
   },
   "outputs": [
    {
     "name": "stdout",
     "output_type": "stream",
     "text": [
      "0.2.1\n"
     ]
    }
   ],
   "source": [
    "import utide\n",
    "\n",
    "print(utide.__version__)"
   ]
  },
  {
   "cell_type": "code",
   "execution_count": 115,
   "metadata": {
    "collapsed": false
   },
   "outputs": [
    {
     "data": {
      "text/html": [
       "<div>\n",
       "<table border=\"1\" class=\"dataframe\">\n",
       "  <thead>\n",
       "    <tr style=\"text-align: right;\">\n",
       "      <th></th>\n",
       "      <th>elev</th>\n",
       "      <th>flag</th>\n",
       "    </tr>\n",
       "    <tr>\n",
       "      <th>datetime</th>\n",
       "      <th></th>\n",
       "      <th></th>\n",
       "    </tr>\n",
       "  </thead>\n",
       "  <tbody>\n",
       "    <tr>\n",
       "      <th>1998-01-01 00:00:00</th>\n",
       "      <td>1.20</td>\n",
       "      <td>0</td>\n",
       "    </tr>\n",
       "    <tr>\n",
       "      <th>1998-01-01 01:00:00</th>\n",
       "      <td>1.43</td>\n",
       "      <td>0</td>\n",
       "    </tr>\n",
       "    <tr>\n",
       "      <th>1998-01-01 02:00:00</th>\n",
       "      <td>1.73</td>\n",
       "      <td>0</td>\n",
       "    </tr>\n",
       "    <tr>\n",
       "      <th>1998-01-01 03:00:00</th>\n",
       "      <td>2.03</td>\n",
       "      <td>0</td>\n",
       "    </tr>\n",
       "    <tr>\n",
       "      <th>1998-01-01 04:00:00</th>\n",
       "      <td>2.38</td>\n",
       "      <td>0</td>\n",
       "    </tr>\n",
       "    <tr>\n",
       "      <th>1998-01-01 05:00:00</th>\n",
       "      <td>2.54</td>\n",
       "      <td>0</td>\n",
       "    </tr>\n",
       "  </tbody>\n",
       "</table>\n",
       "</div>"
      ],
      "text/plain": [
       "                     elev  flag\n",
       "datetime                       \n",
       "1998-01-01 00:00:00  1.20     0\n",
       "1998-01-01 01:00:00  1.43     0\n",
       "1998-01-01 02:00:00  1.73     0\n",
       "1998-01-01 03:00:00  2.03     0\n",
       "1998-01-01 04:00:00  2.38     0\n",
       "1998-01-01 05:00:00  2.54     0"
      ]
     },
     "execution_count": 115,
     "metadata": {},
     "output_type": "execute_result"
    }
   ],
   "source": [
    "from datetime import datetime\n",
    "from pandas import read_table, DataFrame\n",
    "def date_parser(year, day, month, hour):\n",
    "    year, day, month, hour = map(int, (year, day, month, hour))\n",
    "    return datetime(year, day, month, hour)\n",
    "\n",
    "parse_dates = dict(datetime=['year', 'month', 'day','hour'])\n",
    "\n",
    "names=['year', 'month', 'day', 'hour', 'elev', 'flag']\n",
    "\n",
    "obs=read_table('can1998.dtf',names=names, skipinitialspace=True,delim_whitespace=True,index_col='datetime',usecols=range(1, 7),\n",
    "                 na_values='9.990',parse_dates=parse_dates,date_parser=date_parser)\n",
    "obs.head(6)"
   ]
  },
  {
   "cell_type": "code",
   "execution_count": 122,
   "metadata": {
    "collapsed": false
   },
   "outputs": [
    {
     "data": {
      "text/html": [
       "<div>\n",
       "<table border=\"1\" class=\"dataframe\">\n",
       "  <thead>\n",
       "    <tr style=\"text-align: right;\">\n",
       "      <th></th>\n",
       "      <th>elev</th>\n",
       "      <th>flag</th>\n",
       "      <th>anomaly</th>\n",
       "    </tr>\n",
       "    <tr>\n",
       "      <th>datetime</th>\n",
       "      <th></th>\n",
       "      <th></th>\n",
       "      <th></th>\n",
       "    </tr>\n",
       "  </thead>\n",
       "  <tbody>\n",
       "    <tr>\n",
       "      <th>1998-01-01 00:00:00</th>\n",
       "      <td>1.20</td>\n",
       "      <td>0.0</td>\n",
       "      <td>-0.569914</td>\n",
       "    </tr>\n",
       "    <tr>\n",
       "      <th>1998-01-01 01:00:00</th>\n",
       "      <td>1.43</td>\n",
       "      <td>0.0</td>\n",
       "      <td>-0.339914</td>\n",
       "    </tr>\n",
       "    <tr>\n",
       "      <th>1998-01-01 02:00:00</th>\n",
       "      <td>1.73</td>\n",
       "      <td>0.0</td>\n",
       "      <td>-0.039914</td>\n",
       "    </tr>\n",
       "    <tr>\n",
       "      <th>1998-01-01 03:00:00</th>\n",
       "      <td>2.03</td>\n",
       "      <td>0.0</td>\n",
       "      <td>0.260086</td>\n",
       "    </tr>\n",
       "    <tr>\n",
       "      <th>1998-01-01 04:00:00</th>\n",
       "      <td>2.38</td>\n",
       "      <td>0.0</td>\n",
       "      <td>0.610086</td>\n",
       "    </tr>\n",
       "  </tbody>\n",
       "</table>\n",
       "</div>"
      ],
      "text/plain": [
       "                     elev  flag   anomaly\n",
       "datetime                                 \n",
       "1998-01-01 00:00:00  1.20   0.0 -0.569914\n",
       "1998-01-01 01:00:00  1.43   0.0 -0.339914\n",
       "1998-01-01 02:00:00  1.73   0.0 -0.039914\n",
       "1998-01-01 03:00:00  2.03   0.0  0.260086\n",
       "1998-01-01 04:00:00  2.38   0.0  0.610086"
      ]
     },
     "execution_count": 122,
     "metadata": {},
     "output_type": "execute_result"
    }
   ],
   "source": [
    "obs.head()"
   ]
  },
  {
   "cell_type": "code",
   "execution_count": 123,
   "metadata": {
    "collapsed": false
   },
   "outputs": [
    {
     "data": {
      "text/html": [
       "<div>\n",
       "<table border=\"1\" class=\"dataframe\">\n",
       "  <thead>\n",
       "    <tr style=\"text-align: right;\">\n",
       "      <th></th>\n",
       "      <th>elev</th>\n",
       "      <th>flag</th>\n",
       "      <th>anomaly</th>\n",
       "    </tr>\n",
       "    <tr>\n",
       "      <th>datetime</th>\n",
       "      <th></th>\n",
       "      <th></th>\n",
       "      <th></th>\n",
       "    </tr>\n",
       "  </thead>\n",
       "  <tbody>\n",
       "    <tr>\n",
       "      <th>1998-01-01 00:00:00</th>\n",
       "      <td>1.20</td>\n",
       "      <td>0.0</td>\n",
       "      <td>-0.569914</td>\n",
       "    </tr>\n",
       "    <tr>\n",
       "      <th>1998-01-01 01:00:00</th>\n",
       "      <td>1.43</td>\n",
       "      <td>0.0</td>\n",
       "      <td>-0.339914</td>\n",
       "    </tr>\n",
       "    <tr>\n",
       "      <th>1998-01-01 02:00:00</th>\n",
       "      <td>1.73</td>\n",
       "      <td>0.0</td>\n",
       "      <td>-0.039914</td>\n",
       "    </tr>\n",
       "    <tr>\n",
       "      <th>1998-01-01 03:00:00</th>\n",
       "      <td>2.03</td>\n",
       "      <td>0.0</td>\n",
       "      <td>0.260086</td>\n",
       "    </tr>\n",
       "    <tr>\n",
       "      <th>1998-01-01 04:00:00</th>\n",
       "      <td>2.38</td>\n",
       "      <td>0.0</td>\n",
       "      <td>0.610086</td>\n",
       "    </tr>\n",
       "    <tr>\n",
       "      <th>1998-01-01 05:00:00</th>\n",
       "      <td>2.54</td>\n",
       "      <td>0.0</td>\n",
       "      <td>0.770086</td>\n",
       "    </tr>\n",
       "    <tr>\n",
       "      <th>1998-01-01 06:00:00</th>\n",
       "      <td>2.46</td>\n",
       "      <td>0.0</td>\n",
       "      <td>0.690086</td>\n",
       "    </tr>\n",
       "    <tr>\n",
       "      <th>1998-01-01 07:00:00</th>\n",
       "      <td>2.27</td>\n",
       "      <td>0.0</td>\n",
       "      <td>0.500086</td>\n",
       "    </tr>\n",
       "    <tr>\n",
       "      <th>1998-01-01 08:00:00</th>\n",
       "      <td>1.98</td>\n",
       "      <td>0.0</td>\n",
       "      <td>0.210086</td>\n",
       "    </tr>\n",
       "    <tr>\n",
       "      <th>1998-01-01 09:00:00</th>\n",
       "      <td>1.67</td>\n",
       "      <td>0.0</td>\n",
       "      <td>-0.099914</td>\n",
       "    </tr>\n",
       "    <tr>\n",
       "      <th>1998-01-01 10:00:00</th>\n",
       "      <td>1.55</td>\n",
       "      <td>0.0</td>\n",
       "      <td>-0.219914</td>\n",
       "    </tr>\n",
       "    <tr>\n",
       "      <th>1998-01-01 11:00:00</th>\n",
       "      <td>1.63</td>\n",
       "      <td>0.0</td>\n",
       "      <td>-0.139914</td>\n",
       "    </tr>\n",
       "    <tr>\n",
       "      <th>1998-01-01 12:00:00</th>\n",
       "      <td>1.81</td>\n",
       "      <td>0.0</td>\n",
       "      <td>0.040086</td>\n",
       "    </tr>\n",
       "    <tr>\n",
       "      <th>1998-01-01 13:00:00</th>\n",
       "      <td>1.98</td>\n",
       "      <td>0.0</td>\n",
       "      <td>0.210086</td>\n",
       "    </tr>\n",
       "    <tr>\n",
       "      <th>1998-01-01 14:00:00</th>\n",
       "      <td>2.01</td>\n",
       "      <td>0.0</td>\n",
       "      <td>0.240086</td>\n",
       "    </tr>\n",
       "    <tr>\n",
       "      <th>1998-01-01 15:00:00</th>\n",
       "      <td>1.98</td>\n",
       "      <td>0.0</td>\n",
       "      <td>0.210086</td>\n",
       "    </tr>\n",
       "    <tr>\n",
       "      <th>1998-01-01 16:00:00</th>\n",
       "      <td>2.13</td>\n",
       "      <td>0.0</td>\n",
       "      <td>0.360086</td>\n",
       "    </tr>\n",
       "    <tr>\n",
       "      <th>1998-01-01 17:00:00</th>\n",
       "      <td>2.28</td>\n",
       "      <td>0.0</td>\n",
       "      <td>0.510086</td>\n",
       "    </tr>\n",
       "    <tr>\n",
       "      <th>1998-01-01 18:00:00</th>\n",
       "      <td>2.33</td>\n",
       "      <td>0.0</td>\n",
       "      <td>0.560086</td>\n",
       "    </tr>\n",
       "    <tr>\n",
       "      <th>1998-01-01 19:00:00</th>\n",
       "      <td>2.28</td>\n",
       "      <td>0.0</td>\n",
       "      <td>0.510086</td>\n",
       "    </tr>\n",
       "    <tr>\n",
       "      <th>1998-01-01 20:00:00</th>\n",
       "      <td>1.93</td>\n",
       "      <td>0.0</td>\n",
       "      <td>0.160086</td>\n",
       "    </tr>\n",
       "    <tr>\n",
       "      <th>1998-01-01 21:00:00</th>\n",
       "      <td>1.65</td>\n",
       "      <td>0.0</td>\n",
       "      <td>-0.119914</td>\n",
       "    </tr>\n",
       "    <tr>\n",
       "      <th>1998-01-01 22:00:00</th>\n",
       "      <td>1.38</td>\n",
       "      <td>0.0</td>\n",
       "      <td>-0.389914</td>\n",
       "    </tr>\n",
       "    <tr>\n",
       "      <th>1998-01-01 23:00:00</th>\n",
       "      <td>1.08</td>\n",
       "      <td>0.0</td>\n",
       "      <td>-0.689914</td>\n",
       "    </tr>\n",
       "    <tr>\n",
       "      <th>1998-01-02 00:00:00</th>\n",
       "      <td>1.11</td>\n",
       "      <td>0.0</td>\n",
       "      <td>-0.659914</td>\n",
       "    </tr>\n",
       "    <tr>\n",
       "      <th>1998-01-02 01:00:00</th>\n",
       "      <td>1.23</td>\n",
       "      <td>0.0</td>\n",
       "      <td>-0.539914</td>\n",
       "    </tr>\n",
       "    <tr>\n",
       "      <th>1998-01-02 02:00:00</th>\n",
       "      <td>1.43</td>\n",
       "      <td>0.0</td>\n",
       "      <td>-0.339914</td>\n",
       "    </tr>\n",
       "    <tr>\n",
       "      <th>1998-01-02 03:00:00</th>\n",
       "      <td>1.73</td>\n",
       "      <td>0.0</td>\n",
       "      <td>-0.039914</td>\n",
       "    </tr>\n",
       "    <tr>\n",
       "      <th>1998-01-02 04:00:00</th>\n",
       "      <td>2.11</td>\n",
       "      <td>0.0</td>\n",
       "      <td>0.340086</td>\n",
       "    </tr>\n",
       "    <tr>\n",
       "      <th>1998-01-02 05:00:00</th>\n",
       "      <td>2.38</td>\n",
       "      <td>0.0</td>\n",
       "      <td>0.610086</td>\n",
       "    </tr>\n",
       "    <tr>\n",
       "      <th>...</th>\n",
       "      <td>...</td>\n",
       "      <td>...</td>\n",
       "      <td>...</td>\n",
       "    </tr>\n",
       "    <tr>\n",
       "      <th>1998-12-30 18:00:00</th>\n",
       "      <td>1.63</td>\n",
       "      <td>0.0</td>\n",
       "      <td>-0.139914</td>\n",
       "    </tr>\n",
       "    <tr>\n",
       "      <th>1998-12-30 19:00:00</th>\n",
       "      <td>1.50</td>\n",
       "      <td>0.0</td>\n",
       "      <td>-0.269914</td>\n",
       "    </tr>\n",
       "    <tr>\n",
       "      <th>1998-12-30 20:00:00</th>\n",
       "      <td>1.38</td>\n",
       "      <td>0.0</td>\n",
       "      <td>-0.389914</td>\n",
       "    </tr>\n",
       "    <tr>\n",
       "      <th>1998-12-30 21:00:00</th>\n",
       "      <td>1.28</td>\n",
       "      <td>0.0</td>\n",
       "      <td>-0.489914</td>\n",
       "    </tr>\n",
       "    <tr>\n",
       "      <th>1998-12-30 22:00:00</th>\n",
       "      <td>1.38</td>\n",
       "      <td>0.0</td>\n",
       "      <td>-0.389914</td>\n",
       "    </tr>\n",
       "    <tr>\n",
       "      <th>1998-12-30 23:00:00</th>\n",
       "      <td>1.73</td>\n",
       "      <td>0.0</td>\n",
       "      <td>-0.039914</td>\n",
       "    </tr>\n",
       "    <tr>\n",
       "      <th>1998-12-31 00:00:00</th>\n",
       "      <td>2.18</td>\n",
       "      <td>1.0</td>\n",
       "      <td>0.410086</td>\n",
       "    </tr>\n",
       "    <tr>\n",
       "      <th>1998-12-31 01:00:00</th>\n",
       "      <td>2.68</td>\n",
       "      <td>1.0</td>\n",
       "      <td>0.910086</td>\n",
       "    </tr>\n",
       "    <tr>\n",
       "      <th>1998-12-31 02:00:00</th>\n",
       "      <td>2.63</td>\n",
       "      <td>0.0</td>\n",
       "      <td>0.860086</td>\n",
       "    </tr>\n",
       "    <tr>\n",
       "      <th>1998-12-31 03:00:00</th>\n",
       "      <td>2.58</td>\n",
       "      <td>0.0</td>\n",
       "      <td>0.810086</td>\n",
       "    </tr>\n",
       "    <tr>\n",
       "      <th>1998-12-31 04:00:00</th>\n",
       "      <td>2.38</td>\n",
       "      <td>1.0</td>\n",
       "      <td>0.610086</td>\n",
       "    </tr>\n",
       "    <tr>\n",
       "      <th>1998-12-31 05:00:00</th>\n",
       "      <td>2.08</td>\n",
       "      <td>0.0</td>\n",
       "      <td>0.310086</td>\n",
       "    </tr>\n",
       "    <tr>\n",
       "      <th>1998-12-31 06:00:00</th>\n",
       "      <td>1.88</td>\n",
       "      <td>0.0</td>\n",
       "      <td>0.110086</td>\n",
       "    </tr>\n",
       "    <tr>\n",
       "      <th>1998-12-31 07:00:00</th>\n",
       "      <td>1.67</td>\n",
       "      <td>0.0</td>\n",
       "      <td>-0.099914</td>\n",
       "    </tr>\n",
       "    <tr>\n",
       "      <th>1998-12-31 08:00:00</th>\n",
       "      <td>1.53</td>\n",
       "      <td>0.0</td>\n",
       "      <td>-0.239914</td>\n",
       "    </tr>\n",
       "    <tr>\n",
       "      <th>1998-12-31 09:00:00</th>\n",
       "      <td>1.51</td>\n",
       "      <td>0.0</td>\n",
       "      <td>-0.259914</td>\n",
       "    </tr>\n",
       "    <tr>\n",
       "      <th>1998-12-31 10:00:00</th>\n",
       "      <td>1.63</td>\n",
       "      <td>0.0</td>\n",
       "      <td>-0.139914</td>\n",
       "    </tr>\n",
       "    <tr>\n",
       "      <th>1998-12-31 11:00:00</th>\n",
       "      <td>1.82</td>\n",
       "      <td>0.0</td>\n",
       "      <td>0.050086</td>\n",
       "    </tr>\n",
       "    <tr>\n",
       "      <th>1998-12-31 12:00:00</th>\n",
       "      <td>2.08</td>\n",
       "      <td>0.0</td>\n",
       "      <td>0.310086</td>\n",
       "    </tr>\n",
       "    <tr>\n",
       "      <th>1998-12-31 13:00:00</th>\n",
       "      <td>2.29</td>\n",
       "      <td>0.0</td>\n",
       "      <td>0.520086</td>\n",
       "    </tr>\n",
       "    <tr>\n",
       "      <th>1998-12-31 14:00:00</th>\n",
       "      <td>2.42</td>\n",
       "      <td>0.0</td>\n",
       "      <td>0.650086</td>\n",
       "    </tr>\n",
       "    <tr>\n",
       "      <th>1998-12-31 15:00:00</th>\n",
       "      <td>2.39</td>\n",
       "      <td>0.0</td>\n",
       "      <td>0.620086</td>\n",
       "    </tr>\n",
       "    <tr>\n",
       "      <th>1998-12-31 16:00:00</th>\n",
       "      <td>2.23</td>\n",
       "      <td>0.0</td>\n",
       "      <td>0.460086</td>\n",
       "    </tr>\n",
       "    <tr>\n",
       "      <th>1998-12-31 17:00:00</th>\n",
       "      <td>2.06</td>\n",
       "      <td>0.0</td>\n",
       "      <td>0.290086</td>\n",
       "    </tr>\n",
       "    <tr>\n",
       "      <th>1998-12-31 18:00:00</th>\n",
       "      <td>1.88</td>\n",
       "      <td>0.0</td>\n",
       "      <td>0.110086</td>\n",
       "    </tr>\n",
       "    <tr>\n",
       "      <th>1998-12-31 19:00:00</th>\n",
       "      <td>1.69</td>\n",
       "      <td>0.0</td>\n",
       "      <td>-0.079914</td>\n",
       "    </tr>\n",
       "    <tr>\n",
       "      <th>1998-12-31 20:00:00</th>\n",
       "      <td>1.53</td>\n",
       "      <td>0.0</td>\n",
       "      <td>-0.239914</td>\n",
       "    </tr>\n",
       "    <tr>\n",
       "      <th>1998-12-31 21:00:00</th>\n",
       "      <td>1.41</td>\n",
       "      <td>0.0</td>\n",
       "      <td>-0.359914</td>\n",
       "    </tr>\n",
       "    <tr>\n",
       "      <th>1998-12-31 22:00:00</th>\n",
       "      <td>1.38</td>\n",
       "      <td>0.0</td>\n",
       "      <td>-0.389914</td>\n",
       "    </tr>\n",
       "    <tr>\n",
       "      <th>1998-12-31 23:00:00</th>\n",
       "      <td>1.58</td>\n",
       "      <td>0.0</td>\n",
       "      <td>-0.189914</td>\n",
       "    </tr>\n",
       "  </tbody>\n",
       "</table>\n",
       "<p>8760 rows × 3 columns</p>\n",
       "</div>"
      ],
      "text/plain": [
       "                     elev  flag   anomaly\n",
       "datetime                                 \n",
       "1998-01-01 00:00:00  1.20   0.0 -0.569914\n",
       "1998-01-01 01:00:00  1.43   0.0 -0.339914\n",
       "1998-01-01 02:00:00  1.73   0.0 -0.039914\n",
       "1998-01-01 03:00:00  2.03   0.0  0.260086\n",
       "1998-01-01 04:00:00  2.38   0.0  0.610086\n",
       "1998-01-01 05:00:00  2.54   0.0  0.770086\n",
       "1998-01-01 06:00:00  2.46   0.0  0.690086\n",
       "1998-01-01 07:00:00  2.27   0.0  0.500086\n",
       "1998-01-01 08:00:00  1.98   0.0  0.210086\n",
       "1998-01-01 09:00:00  1.67   0.0 -0.099914\n",
       "1998-01-01 10:00:00  1.55   0.0 -0.219914\n",
       "1998-01-01 11:00:00  1.63   0.0 -0.139914\n",
       "1998-01-01 12:00:00  1.81   0.0  0.040086\n",
       "1998-01-01 13:00:00  1.98   0.0  0.210086\n",
       "1998-01-01 14:00:00  2.01   0.0  0.240086\n",
       "1998-01-01 15:00:00  1.98   0.0  0.210086\n",
       "1998-01-01 16:00:00  2.13   0.0  0.360086\n",
       "1998-01-01 17:00:00  2.28   0.0  0.510086\n",
       "1998-01-01 18:00:00  2.33   0.0  0.560086\n",
       "1998-01-01 19:00:00  2.28   0.0  0.510086\n",
       "1998-01-01 20:00:00  1.93   0.0  0.160086\n",
       "1998-01-01 21:00:00  1.65   0.0 -0.119914\n",
       "1998-01-01 22:00:00  1.38   0.0 -0.389914\n",
       "1998-01-01 23:00:00  1.08   0.0 -0.689914\n",
       "1998-01-02 00:00:00  1.11   0.0 -0.659914\n",
       "1998-01-02 01:00:00  1.23   0.0 -0.539914\n",
       "1998-01-02 02:00:00  1.43   0.0 -0.339914\n",
       "1998-01-02 03:00:00  1.73   0.0 -0.039914\n",
       "1998-01-02 04:00:00  2.11   0.0  0.340086\n",
       "1998-01-02 05:00:00  2.38   0.0  0.610086\n",
       "...                   ...   ...       ...\n",
       "1998-12-30 18:00:00  1.63   0.0 -0.139914\n",
       "1998-12-30 19:00:00  1.50   0.0 -0.269914\n",
       "1998-12-30 20:00:00  1.38   0.0 -0.389914\n",
       "1998-12-30 21:00:00  1.28   0.0 -0.489914\n",
       "1998-12-30 22:00:00  1.38   0.0 -0.389914\n",
       "1998-12-30 23:00:00  1.73   0.0 -0.039914\n",
       "1998-12-31 00:00:00  2.18   1.0  0.410086\n",
       "1998-12-31 01:00:00  2.68   1.0  0.910086\n",
       "1998-12-31 02:00:00  2.63   0.0  0.860086\n",
       "1998-12-31 03:00:00  2.58   0.0  0.810086\n",
       "1998-12-31 04:00:00  2.38   1.0  0.610086\n",
       "1998-12-31 05:00:00  2.08   0.0  0.310086\n",
       "1998-12-31 06:00:00  1.88   0.0  0.110086\n",
       "1998-12-31 07:00:00  1.67   0.0 -0.099914\n",
       "1998-12-31 08:00:00  1.53   0.0 -0.239914\n",
       "1998-12-31 09:00:00  1.51   0.0 -0.259914\n",
       "1998-12-31 10:00:00  1.63   0.0 -0.139914\n",
       "1998-12-31 11:00:00  1.82   0.0  0.050086\n",
       "1998-12-31 12:00:00  2.08   0.0  0.310086\n",
       "1998-12-31 13:00:00  2.29   0.0  0.520086\n",
       "1998-12-31 14:00:00  2.42   0.0  0.650086\n",
       "1998-12-31 15:00:00  2.39   0.0  0.620086\n",
       "1998-12-31 16:00:00  2.23   0.0  0.460086\n",
       "1998-12-31 17:00:00  2.06   0.0  0.290086\n",
       "1998-12-31 18:00:00  1.88   0.0  0.110086\n",
       "1998-12-31 19:00:00  1.69   0.0 -0.079914\n",
       "1998-12-31 20:00:00  1.53   0.0 -0.239914\n",
       "1998-12-31 21:00:00  1.41   0.0 -0.359914\n",
       "1998-12-31 22:00:00  1.38   0.0 -0.389914\n",
       "1998-12-31 23:00:00  1.58   0.0 -0.189914\n",
       "\n",
       "[8760 rows x 3 columns]"
      ]
     },
     "execution_count": 123,
     "metadata": {},
     "output_type": "execute_result"
    }
   ],
   "source": [
    "obs"
   ]
  },
  {
   "cell_type": "code",
   "execution_count": 118,
   "metadata": {
    "collapsed": true
   },
   "outputs": [],
   "source": [
    "import numpy as np\n",
    "import matplotlib.pyplot as plt\n",
    "\n",
    "bad = obs['flag'] == 2\n",
    "corrected = obs['flag'] == 1\n",
    "\n",
    "obs[bad] = np.NaN\n",
    "obs['anomaly'] = obs['elev'] - obs['elev'].mean()\n",
    "obs['anomaly'] = obs['anomaly'].interpolate()\n"
   ]
  },
  {
   "cell_type": "code",
   "execution_count": 124,
   "metadata": {
    "collapsed": false
   },
   "outputs": [
    {
     "data": {
      "text/html": [
       "<div>\n",
       "<table border=\"1\" class=\"dataframe\">\n",
       "  <thead>\n",
       "    <tr style=\"text-align: right;\">\n",
       "      <th></th>\n",
       "      <th>elev</th>\n",
       "      <th>flag</th>\n",
       "      <th>anomaly</th>\n",
       "    </tr>\n",
       "    <tr>\n",
       "      <th>datetime</th>\n",
       "      <th></th>\n",
       "      <th></th>\n",
       "      <th></th>\n",
       "    </tr>\n",
       "  </thead>\n",
       "  <tbody>\n",
       "    <tr>\n",
       "      <th>1998-01-01 00:00:00</th>\n",
       "      <td>1.20</td>\n",
       "      <td>0.0</td>\n",
       "      <td>-0.569914</td>\n",
       "    </tr>\n",
       "    <tr>\n",
       "      <th>1998-01-01 01:00:00</th>\n",
       "      <td>1.43</td>\n",
       "      <td>0.0</td>\n",
       "      <td>-0.339914</td>\n",
       "    </tr>\n",
       "    <tr>\n",
       "      <th>1998-01-01 02:00:00</th>\n",
       "      <td>1.73</td>\n",
       "      <td>0.0</td>\n",
       "      <td>-0.039914</td>\n",
       "    </tr>\n",
       "    <tr>\n",
       "      <th>1998-01-01 03:00:00</th>\n",
       "      <td>2.03</td>\n",
       "      <td>0.0</td>\n",
       "      <td>0.260086</td>\n",
       "    </tr>\n",
       "    <tr>\n",
       "      <th>1998-01-01 04:00:00</th>\n",
       "      <td>2.38</td>\n",
       "      <td>0.0</td>\n",
       "      <td>0.610086</td>\n",
       "    </tr>\n",
       "  </tbody>\n",
       "</table>\n",
       "</div>"
      ],
      "text/plain": [
       "                     elev  flag   anomaly\n",
       "datetime                                 \n",
       "1998-01-01 00:00:00  1.20   0.0 -0.569914\n",
       "1998-01-01 01:00:00  1.43   0.0 -0.339914\n",
       "1998-01-01 02:00:00  1.73   0.0 -0.039914\n",
       "1998-01-01 03:00:00  2.03   0.0  0.260086\n",
       "1998-01-01 04:00:00  2.38   0.0  0.610086"
      ]
     },
     "execution_count": 124,
     "metadata": {},
     "output_type": "execute_result"
    }
   ],
   "source": [
    "obs.head()"
   ]
  },
  {
   "cell_type": "code",
   "execution_count": 142,
   "metadata": {
    "collapsed": false
   },
   "outputs": [
    {
     "data": {
      "image/png": "[encoded data removed]",
      "text/plain": [
       "<matplotlib.figure.Figure at 0x1bccd6b0>"
      ]
     },
     "metadata": {},
     "output_type": "display_data"
    }
   ],
   "source": [
    "a=obs.elev\n",
    "b=obs.anomaly\n",
    "c=obs.anomaly-obs.elev\n",
    "fig, (ax0, ax1,ax2) = plt.subplots(nrows=3, sharey=True, sharex=True, figsize=(13, 5))\n",
    "ax0.plot(a,label='elev')\n",
    "ax0.legend()\n",
    "ax1.plot(b,label='anaomly')\n",
    "ax1.legend()\n",
    "ax2.plot(c,alpha=0.5,label='prediction')\n",
    "ax2.legend()\n",
    "plt.show()"
   ]
  },
  {
   "cell_type": "code",
   "execution_count": 126,
   "metadata": {
    "collapsed": true
   },
   "outputs": [],
   "source": [
    "time = date2num(obs.index.to_pydatetime())"
   ]
  },
  {
   "cell_type": "code",
   "execution_count": 127,
   "metadata": {
    "collapsed": false
   },
   "outputs": [
    {
     "data": {
      "text/plain": [
       "array([ 729390.        ,  729390.04166667,  729390.08333333, ...,\n",
       "        729754.875     ,  729754.91666667,  729754.95833333])"
      ]
     },
     "execution_count": 127,
     "metadata": {},
     "output_type": "execute_result"
    }
   ],
   "source": [
    "time"
   ]
  },
  {
   "cell_type": "code",
   "execution_count": null,
   "metadata": {
    "collapsed": true
   },
   "outputs": [],
   "source": []
  },
  {
   "cell_type": "code",
   "execution_count": 119,
   "metadata": {
    "collapsed": false
   },
   "outputs": [
    {
     "name": "stdout",
     "output_type": "stream",
     "text": [
      "solve: matrix prep ... solution ... diagnostics ... done.\n"
     ]
    }
   ],
   "source": [
    "from utide import solve\n",
    "from matplotlib.dates import date2num\n",
    "\n",
    "time = date2num(obs.index.to_pydatetime())\n",
    "\n",
    "coef = solve(time, obs['anomaly'].values,\n",
    "             lat=-25,\n",
    "             method='ols',\n",
    "             conf_int='linear')"
   ]
  },
  {
   "cell_type": "code",
   "execution_count": 120,
   "metadata": {
    "collapsed": false
   },
   "outputs": [
    {
     "name": "stdout",
     "output_type": "stream",
     "text": [
      "prep/calcs ... done.\n"
     ]
    }
   ],
   "source": [
    "from utide import reconstruct\n",
    "\n",
    "tide = reconstruct(time, coef)"
   ]
  },
  {
   "cell_type": "code",
   "execution_count": 121,
   "metadata": {
    "collapsed": false
   },
   "outputs": [
    {
     "data": {
      "text/plain": [
       "<matplotlib.text.Text at 0x7e02c70>"
      ]
     },
     "execution_count": 121,
     "metadata": {},
     "output_type": "execute_result"
    },
    {
     "data": {
      "image/png": "[encoded data removed]",
      "text/plain": [
       "<matplotlib.figure.Figure at 0xea1b6b0>"
      ]
     },
     "metadata": {},
     "output_type": "display_data"
    }
   ],
   "source": [
    "%matplotlib inline\n",
    "import matplotlib.pyplot as plt\n",
    "from matplotlib import style\n",
    "style.use('ggplot')\n",
    "\n",
    "\n",
    "fig, (ax0, ax1, ax2) = plt.subplots(nrows=3, sharey=True, sharex=True, figsize=(13, 5))\n",
    "\n",
    "ax0.plot(obs.index, obs['anomaly'], label=u'Observations')\n",
    "ax0.legend(numpoints=1, loc='lower right')\n",
    "\n",
    "ax1.plot(obs.index, tide['h'], alpha=0.5, label=u'Prediction')\n",
    "ax1.legend(numpoints=1, loc='lower right')\n",
    "\n",
    "ax2.plot(obs.index, obs['anomaly']-tide['h'], alpha=0.5, label=u'Residue')\n",
    "_ = ax2.legend(numpoints=1, loc='lower right')\n",
    "plt.title('tide data analysis by hafez ahmad')"
   ]
  },
  {
   "cell_type": "code",
   "execution_count": 32,
   "metadata": {
    "collapsed": false
   },
   "outputs": [
    {
     "ename": "SyntaxError",
     "evalue": "invalid syntax (<ipython-input-32-e9bf4aa85e0a>, line 1)",
     "output_type": "error",
     "traceback": [
      "\u001b[0;36m  File \u001b[0;32m\"<ipython-input-32-e9bf4aa85e0a>\"\u001b[0;36m, line \u001b[0;32m1\u001b[0m\n\u001b[0;31m    mkdir LandsatData\u001b[0m\n\u001b[0m                    ^\u001b[0m\n\u001b[0;31mSyntaxError\u001b[0m\u001b[0;31m:\u001b[0m invalid syntax\n"
     ]
    }
   ],
   "source": [
    "mkdir LandsatData\n",
    "tar -zxvf LC81910182016153-SC20161208043748.tar.gz -C LandsatData/"
   ]
  },
  {
   "cell_type": "code",
   "execution_count": 81,
   "metadata": {
    "collapsed": false,
    "scrolled": true
   },
   "outputs": [],
   "source": [
    " import gdal"
   ]
  },
  {
   "cell_type": "code",
   "execution_count": 82,
   "metadata": {
    "collapsed": true
   },
   "outputs": [],
   "source": [
    "import cartopy as ccrs"
   ]
  },
  {
   "cell_type": "code",
   "execution_count": 84,
   "metadata": {
    "collapsed": false
   },
   "outputs": [],
   "source": [
    "from cmocean import cm as cmo"
   ]
  },
  {
   "cell_type": "code",
   "execution_count": null,
   "metadata": {
    "collapsed": false
   },
   "outputs": [],
   "source": [
    "from netCDF4 import Dataset, MFDataset, num2date\n",
    "import matplotlib.pylab as plt\n",
    "%matplotlib inline\n",
    "import numpy as np\n",
    "\n",
    "import cartopy.crs as ccrs\n",
    "from cmocean import cm as cmo\n",
    "\n",
    "import sys\n",
    "import os\n",
    "from cartopy.util import add_cyclic_point"
   ]
  },
  {
   "cell_type": "code",
   "execution_count": 144,
   "metadata": {
    "collapsed": false
   },
   "outputs": [],
   "source": [
    "import cmocean"
   ]
  },
  {
   "cell_type": "code",
   "execution_count": 146,
   "metadata": {
    "collapsed": false
   },
   "outputs": [
    {
     "ename": "SyntaxError",
     "evalue": "invalid syntax (<ipython-input-146-9b29ae3c261e>, line 1)",
     "output_type": "error",
     "traceback": [
      "\u001b[0;36m  File \u001b[0;32m\"<ipython-input-146-9b29ae3c261e>\"\u001b[0;36m, line \u001b[0;32m1\u001b[0m\n\u001b[0;31m    library(oce)fig = plt.figure(figsize=(8, 3))\u001b[0m\n\u001b[0m                  ^\u001b[0m\n\u001b[0;31mSyntaxError\u001b[0m\u001b[0;31m:\u001b[0m invalid syntax\n"
     ]
    }
   ],
   "source": [
    "library(oce)fig = plt.figure(figsize=(8, 3))\n",
    "ax = fig.add_subplot(1, 2, 1)\n",
    "cmocean.plots.test(cmocean.cm.tempo, ax=ax)\n",
    "ax = fig.add_subplot(1, 2, 2)\n",
    "cmocean.plots.quick_plot(cmocean.cm.tempo, ax=ax)"
   ]
  },
  {
   "cell_type": "code",
   "execution_count": 5,
   "metadata": {
    "collapsed": false
   },
   "outputs": [],
   "source": [
    "import numpy as np\n",
    "import matplotlib.pyplot as plt\n",
    "import pandas as pd"
   ]
  },
  {
   "cell_type": "code",
   "execution_count": 148,
   "metadata": {
    "collapsed": false
   },
   "outputs": [
    {
     "data": {
      "text/plain": [
       "[]"
      ]
     },
     "execution_count": 148,
     "metadata": {},
     "output_type": "execute_result"
    },
    {
     "data": {
      "image/png": "[encoded data removed]",
      "text/plain": [
       "<matplotlib.figure.Figure at 0x1be55b30>"
      ]
     },
     "metadata": {},
     "output_type": "display_data"
    }
   ],
   "source": [
    "import cmocean\n",
    "import matplotlib.pyplot as plt\n",
    "import numpy as np\n",
    "\n",
    "azimuths = np.arange(0, 361, 1)\n",
    "zeniths = np.arange(40, 70, 1)\n",
    "values = azimuths * np.ones((30, 361))\n",
    "fig, ax = plt.subplots(subplot_kw=dict(projection='polar'))\n",
    "ax.pcolormesh(azimuths*np.pi/180.0, zeniths, values, cmap=cmocean.cm.phase)\n",
    "ax.set_yticks([])"
   ]
  },
  {
   "cell_type": "code",
   "execution_count": 149,
   "metadata": {
    "collapsed": false
   },
   "outputs": [
    {
     "data": {
      "text/plain": [
       "['thermal',\n",
       " 'haline',\n",
       " 'solar',\n",
       " 'ice',\n",
       " 'gray',\n",
       " 'oxy',\n",
       " 'deep',\n",
       " 'dense',\n",
       " 'algae',\n",
       " 'matter',\n",
       " 'turbid',\n",
       " 'speed',\n",
       " 'amp',\n",
       " 'tempo',\n",
       " 'phase',\n",
       " 'balance',\n",
       " 'delta',\n",
       " 'curl']"
      ]
     },
     "execution_count": 149,
     "metadata": {},
     "output_type": "execute_result"
    }
   ],
   "source": [
    " cmocean.cm.cmapnames"
   ]
  },
  {
   "cell_type": "code",
   "execution_count": 151,
   "metadata": {
    "collapsed": false
   },
   "outputs": [
    {
     "data": {
      "text/plain": [
       "array([[[1, 1, 1],\n",
       "        [1, 1, 1],\n",
       "        [1, 1, 1]],\n",
       "\n",
       "       [[1, 1, 1],\n",
       "        [1, 1, 1],\n",
       "        [1, 1, 1]]], dtype=int16)"
      ]
     },
     "execution_count": 151,
     "metadata": {},
     "output_type": "execute_result"
    }
   ],
   "source": [
    "a=np.ones((2,3,3),dtype=np.int16)\n",
    "a"
   ]
  },
  {
   "cell_type": "code",
   "execution_count": 152,
   "metadata": {
    "collapsed": false
   },
   "outputs": [
    {
     "data": {
      "text/plain": [
       "array([[   0.   ,    0.   ],\n",
       "       [ 271.459,  263.584]])"
      ]
     },
     "execution_count": 152,
     "metadata": {},
     "output_type": "execute_result"
    }
   ],
   "source": [
    "np.empty((2,2))"
   ]
  },
  {
   "cell_type": "code",
   "execution_count": 11,
   "metadata": {
    "collapsed": false
   },
   "outputs": [
    {
     "name": "stdout",
     "output_type": "stream",
     "text": [
      "3\n",
      "4\n",
      "5\n",
      "6\n",
      "7\n",
      "8\n"
     ]
    }
   ],
   "source": [
    "for x in range(3,9):\n",
    "    print x"
   ]
  },
  {
   "cell_type": "code",
   "execution_count": 13,
   "metadata": {
    "collapsed": false
   },
   "outputs": [
    {
     "name": "stdout",
     "output_type": "stream",
     "text": [
      "2\n",
      "4\n",
      "6\n",
      "8\n"
     ]
    }
   ],
   "source": [
    "for x in range(2,10,2):\n",
    "               print x"
   ]
  },
  {
   "cell_type": "code",
   "execution_count": 18,
   "metadata": {
    "collapsed": false
   },
   "outputs": [
    {
     "data": {
      "text/plain": [
       "array([], dtype=int32)"
      ]
     },
     "execution_count": 18,
     "metadata": {},
     "output_type": "execute_result"
    }
   ],
   "source": [
    "y=np.arange(3,3,3)\n",
    "y"
   ]
  },
  {
   "cell_type": "code",
   "execution_count": 15,
   "metadata": {
    "collapsed": false
   },
   "outputs": [
    {
     "data": {
      "text/plain": [
       "array([], dtype=int32)"
      ]
     },
     "execution_count": 15,
     "metadata": {},
     "output_type": "execute_result"
    }
   ],
   "source": [
    "y"
   ]
  },
  {
   "cell_type": "code",
   "execution_count": 23,
   "metadata": {
    "collapsed": false
   },
   "outputs": [
    {
     "data": {
      "text/plain": [
       "array([[ 1.+0.j,  2.+0.j,  3.+0.j],\n",
       "       [ 4.+0.j,  5.+0.j,  6.+0.j],\n",
       "       [ 7.+0.j,  8.+0.j,  9.+0.j]])"
      ]
     },
     "execution_count": 23,
     "metadata": {},
     "output_type": "execute_result"
    }
   ],
   "source": [
    "a=np.array([[1,2,3],[4,5,6],[7,8,9]],dtype=complex)\n",
    "a"
   ]
  },
  {
   "cell_type": "code",
   "execution_count": 29,
   "metadata": {
    "collapsed": false
   },
   "outputs": [
    {
     "data": {
      "text/plain": [
       "numpy.ndarray"
      ]
     },
     "execution_count": 29,
     "metadata": {},
     "output_type": "execute_result"
    }
   ],
   "source": [
    "type(a)"
   ]
  },
  {
   "cell_type": "code",
   "execution_count": 31,
   "metadata": {
    "collapsed": false
   },
   "outputs": [
    {
     "data": {
      "text/plain": [
       "array([ 0,  1,  2,  3,  4,  5,  6,  7,  8,  9, 10, 11, 12, 13, 14, 15, 16,\n",
       "       17, 18, 19, 20, 21, 22, 23])"
      ]
     },
     "execution_count": 31,
     "metadata": {},
     "output_type": "execute_result"
    }
   ],
   "source": [
    "r=np.arange(24)\n",
    "r"
   ]
  },
  {
   "cell_type": "code",
   "execution_count": 32,
   "metadata": {
    "collapsed": false
   },
   "outputs": [
    {
     "data": {
      "text/plain": [
       "1"
      ]
     },
     "execution_count": 32,
     "metadata": {},
     "output_type": "execute_result"
    }
   ],
   "source": [
    "r.ndim"
   ]
  },
  {
   "cell_type": "code",
   "execution_count": 33,
   "metadata": {
    "collapsed": false
   },
   "outputs": [
    {
     "data": {
      "text/plain": [
       "array([[[ 0,  1,  2],\n",
       "        [ 3,  4,  5],\n",
       "        [ 6,  7,  8],\n",
       "        [ 9, 10, 11]],\n",
       "\n",
       "       [[12, 13, 14],\n",
       "        [15, 16, 17],\n",
       "        [18, 19, 20],\n",
       "        [21, 22, 23]]])"
      ]
     },
     "execution_count": 33,
     "metadata": {},
     "output_type": "execute_result"
    }
   ],
   "source": [
    "d=r.reshape(2,4,3)\n",
    "d"
   ]
  },
  {
   "cell_type": "code",
   "execution_count": 39,
   "metadata": {
    "collapsed": false
   },
   "outputs": [
    {
     "data": {
      "text/plain": [
       "array([[[ 0.,  0.,  0.,  0.,  0.],\n",
       "        [ 0.,  0.,  0.,  0.,  0.],\n",
       "        [ 0.,  0.,  0.,  0.,  0.],\n",
       "        [ 0.,  0.,  0.,  0.,  0.],\n",
       "        [ 0.,  0.,  0.,  0.,  0.]],\n",
       "\n",
       "       [[ 0.,  0.,  0.,  0.,  0.],\n",
       "        [ 0.,  0.,  0.,  0.,  0.],\n",
       "        [ 0.,  0.,  0.,  0.,  0.],\n",
       "        [ 0.,  0.,  0.,  0.,  0.],\n",
       "        [ 0.,  0.,  0.,  0.,  0.]],\n",
       "\n",
       "       [[ 0.,  0.,  0.,  0.,  0.],\n",
       "        [ 0.,  0.,  0.,  0.,  0.],\n",
       "        [ 0.,  0.,  0.,  0.,  0.],\n",
       "        [ 0.,  0.,  0.,  0.,  0.],\n",
       "        [ 0.,  0.,  0.,  0.,  0.]],\n",
       "\n",
       "       [[ 0.,  0.,  0.,  0.,  0.],\n",
       "        [ 0.,  0.,  0.,  0.,  0.],\n",
       "        [ 0.,  0.,  0.,  0.,  0.],\n",
       "        [ 0.,  0.,  0.,  0.,  0.],\n",
       "        [ 0.,  0.,  0.,  0.,  0.]],\n",
       "\n",
       "       [[ 0.,  0.,  0.,  0.,  0.],\n",
       "        [ 0.,  0.,  0.,  0.,  0.],\n",
       "        [ 0.,  0.,  0.,  0.,  0.],\n",
       "        [ 0.,  0.,  0.,  0.,  0.],\n",
       "        [ 0.,  0.,  0.,  0.,  0.]]])"
      ]
     },
     "execution_count": 39,
     "metadata": {},
     "output_type": "execute_result"
    }
   ],
   "source": [
    "f=np.zeros((5,5,5))\n",
    "f"
   ]
  },
  {
   "cell_type": "code",
   "execution_count": 40,
   "metadata": {
    "collapsed": false
   },
   "outputs": [
    {
     "data": {
      "text/plain": [
       "array([[[ 0,  1,  2],\n",
       "        [ 3,  4,  5],\n",
       "        [ 6,  7,  8],\n",
       "        [ 9, 10, 11]],\n",
       "\n",
       "       [[12, 13, 14],\n",
       "        [15, 16, 17],\n",
       "        [18, 19, 20],\n",
       "        [21, 22, 23]]])"
      ]
     },
     "execution_count": 40,
     "metadata": {},
     "output_type": "execute_result"
    }
   ],
   "source": [
    "d"
   ]
  },
  {
   "cell_type": "code",
   "execution_count": 45,
   "metadata": {
    "collapsed": false
   },
   "outputs": [
    {
     "data": {
      "text/plain": [
       "array([], shape=(0, 4, 3), dtype=int32)"
      ]
     },
     "execution_count": 45,
     "metadata": {},
     "output_type": "execute_result"
    }
   ],
   "source": [
    "d[1:1]"
   ]
  },
  {
   "cell_type": "code",
   "execution_count": 42,
   "metadata": {
    "collapsed": false
   },
   "outputs": [
    {
     "data": {
      "text/plain": [
       "array([[ 0,  1,  2],\n",
       "       [ 3,  4,  5],\n",
       "       [ 6,  7,  8],\n",
       "       [ 9, 10, 11]])"
      ]
     },
     "execution_count": 42,
     "metadata": {},
     "output_type": "execute_result"
    }
   ],
   "source": [
    "d[0]"
   ]
  },
  {
   "cell_type": "code",
   "execution_count": 46,
   "metadata": {
    "collapsed": false
   },
   "outputs": [
    {
     "data": {
      "text/plain": [
       "array([[ 1.+0.j,  2.+0.j,  3.+0.j],\n",
       "       [ 4.+0.j,  5.+0.j,  6.+0.j],\n",
       "       [ 7.+0.j,  8.+0.j,  9.+0.j]])"
      ]
     },
     "execution_count": 46,
     "metadata": {},
     "output_type": "execute_result"
    }
   ],
   "source": [
    "a"
   ]
  },
  {
   "cell_type": "code",
   "execution_count": 48,
   "metadata": {
    "collapsed": false
   },
   "outputs": [
    {
     "data": {
      "text/plain": [
       "array([0, 1, 2, 3, 4, 5, 6, 7, 8, 9])"
      ]
     },
     "execution_count": 48,
     "metadata": {},
     "output_type": "execute_result"
    }
   ],
   "source": [
    "a=np.arange(10)\n",
    "a"
   ]
  },
  {
   "cell_type": "code",
   "execution_count": 49,
   "metadata": {
    "collapsed": false
   },
   "outputs": [
    {
     "data": {
      "text/plain": [
       "slice(2, 7, 2)"
      ]
     },
     "execution_count": 49,
     "metadata": {},
     "output_type": "execute_result"
    }
   ],
   "source": [
    "s=slice(2,7,2)\n",
    "s"
   ]
  },
  {
   "cell_type": "code",
   "execution_count": 50,
   "metadata": {
    "collapsed": false
   },
   "outputs": [
    {
     "data": {
      "text/plain": [
       "array([2, 4, 6])"
      ]
     },
     "execution_count": 50,
     "metadata": {},
     "output_type": "execute_result"
    }
   ],
   "source": [
    "a[s]"
   ]
  },
  {
   "cell_type": "code",
   "execution_count": 51,
   "metadata": {
    "collapsed": false
   },
   "outputs": [
    {
     "data": {
      "text/plain": [
       "array([2])"
      ]
     },
     "execution_count": 51,
     "metadata": {},
     "output_type": "execute_result"
    }
   ],
   "source": [
    "s=slice(2,3,4)\n",
    "a[s]"
   ]
  },
  {
   "cell_type": "code",
   "execution_count": 52,
   "metadata": {
    "collapsed": false
   },
   "outputs": [
    {
     "data": {
      "text/plain": [
       "slice(2, 4, None)"
      ]
     },
     "execution_count": 52,
     "metadata": {},
     "output_type": "execute_result"
    }
   ],
   "source": [
    "s=slice(2,4)\n",
    "s"
   ]
  },
  {
   "cell_type": "code",
   "execution_count": 53,
   "metadata": {
    "collapsed": false
   },
   "outputs": [
    {
     "data": {
      "text/plain": [
       "array([0, 1, 2, 3, 4, 5, 6, 7, 8, 9])"
      ]
     },
     "execution_count": 53,
     "metadata": {},
     "output_type": "execute_result"
    }
   ],
   "source": [
    "a"
   ]
  },
  {
   "cell_type": "code",
   "execution_count": 54,
   "metadata": {
    "collapsed": false
   },
   "outputs": [
    {
     "data": {
      "text/plain": [
       "5"
      ]
     },
     "execution_count": 54,
     "metadata": {},
     "output_type": "execute_result"
    }
   ],
   "source": [
    "a[5]"
   ]
  },
  {
   "cell_type": "code",
   "execution_count": 55,
   "metadata": {
    "collapsed": false
   },
   "outputs": [
    {
     "data": {
      "text/plain": [
       "array([0, 1])"
      ]
     },
     "execution_count": 55,
     "metadata": {},
     "output_type": "execute_result"
    }
   ],
   "source": [
    "a[:2]"
   ]
  },
  {
   "cell_type": "code",
   "execution_count": 56,
   "metadata": {
    "collapsed": false
   },
   "outputs": [
    {
     "data": {
      "text/plain": [
       "array([2, 3, 4, 5, 6, 7, 8, 9])"
      ]
     },
     "execution_count": 56,
     "metadata": {},
     "output_type": "execute_result"
    }
   ],
   "source": [
    "a[2:]\n"
   ]
  },
  {
   "cell_type": "code",
   "execution_count": 57,
   "metadata": {
    "collapsed": false
   },
   "outputs": [
    {
     "data": {
      "text/plain": [
       "array([1])"
      ]
     },
     "execution_count": 57,
     "metadata": {},
     "output_type": "execute_result"
    }
   ],
   "source": [
    "a[1:2]"
   ]
  },
  {
   "cell_type": "code",
   "execution_count": 58,
   "metadata": {
    "collapsed": false
   },
   "outputs": [
    {
     "data": {
      "text/plain": [
       "array([0, 1, 2, 3, 4, 5, 6, 7, 8, 9])"
      ]
     },
     "execution_count": 58,
     "metadata": {},
     "output_type": "execute_result"
    }
   ],
   "source": [
    "a"
   ]
  },
  {
   "cell_type": "code",
   "execution_count": 59,
   "metadata": {
    "collapsed": false
   },
   "outputs": [
    {
     "data": {
      "text/plain": [
       "array([1, 2, 3])"
      ]
     },
     "execution_count": 59,
     "metadata": {},
     "output_type": "execute_result"
    }
   ],
   "source": [
    "a[1:4]\n"
   ]
  },
  {
   "cell_type": "code",
   "execution_count": 66,
   "metadata": {
    "collapsed": false
   },
   "outputs": [
    {
     "data": {
      "text/plain": [
       "array([[1, 2, 3],\n",
       "       [4, 5, 6],\n",
       "       [7, 8, 9]])"
      ]
     },
     "execution_count": 66,
     "metadata": {},
     "output_type": "execute_result"
    }
   ],
   "source": [
    "d=np.array([[1,2,3],[4,5,6],[7,8,9]])\n",
    "d"
   ]
  },
  {
   "cell_type": "raw",
   "metadata": {},
   "source": [
    "d[2]"
   ]
  },
  {
   "cell_type": "code",
   "execution_count": 70,
   "metadata": {
    "collapsed": false
   },
   "outputs": [
    {
     "name": "stdout",
     "output_type": "stream",
     "text": [
      " array\n",
      "[[1 2 3]\n",
      " [4 5 6]\n",
      " [7 8 9]]\n",
      "\n",
      "\n",
      "items in second column\n",
      "1\n",
      "\n",
      "\n",
      " 1 onward\n",
      "[1 2 3 4 5 6 7 8 9]\n",
      "\n",
      "\n",
      " 2 rows\n",
      "1\n"
     ]
    }
   ],
   "source": [
    "print (' array')\n",
    "print d \n",
    "print '\\n'\n",
    "print ('items in second column')\n",
    "print a[...,1]\n",
    "print '\\n'\n",
    "print (' 1 onward')\n",
    "print a[1:]\n",
    "print '\\n'\n",
    "print (' 2 rows')\n",
    "print a[1,...]\n"
   ]
  },
  {
   "cell_type": "code",
   "execution_count": 71,
   "metadata": {
    "collapsed": false
   },
   "outputs": [
    {
     "data": {
      "text/plain": [
       "array([[1, 2, 3],\n",
       "       [4, 5, 6],\n",
       "       [7, 8, 9]])"
      ]
     },
     "execution_count": 71,
     "metadata": {},
     "output_type": "execute_result"
    }
   ],
   "source": [
    "d"
   ]
  },
  {
   "cell_type": "code",
   "execution_count": 75,
   "metadata": {
    "collapsed": false
   },
   "outputs": [
    {
     "data": {
      "text/plain": [
       "array([[4, 5, 6]])"
      ]
     },
     "execution_count": 75,
     "metadata": {},
     "output_type": "execute_result"
    }
   ],
   "source": [
    "d[1:2]"
   ]
  },
  {
   "cell_type": "code",
   "execution_count": 79,
   "metadata": {
    "collapsed": false
   },
   "outputs": [
    {
     "data": {
      "text/plain": [
       "array([[4]])"
      ]
     },
     "execution_count": 79,
     "metadata": {},
     "output_type": "execute_result"
    }
   ],
   "source": [
    "d[1:2,0:1]"
   ]
  },
  {
   "cell_type": "code",
   "execution_count": 80,
   "metadata": {
    "collapsed": false
   },
   "outputs": [
    {
     "data": {
      "text/plain": [
       "array([3, 4, 5, 6, 7, 8, 9])"
      ]
     },
     "execution_count": 80,
     "metadata": {},
     "output_type": "execute_result"
    }
   ],
   "source": [
    "d[d>2]"
   ]
  },
  {
   "cell_type": "code",
   "execution_count": 85,
   "metadata": {
    "collapsed": false
   },
   "outputs": [
    {
     "data": {
      "text/html": [
       "<div>\n",
       "<table border=\"1\" class=\"dataframe\">\n",
       "  <thead>\n",
       "    <tr style=\"text-align: right;\">\n",
       "      <th></th>\n",
       "      <th>id</th>\n",
       "      <th>fare</th>\n",
       "      <th>ride_duration</th>\n",
       "      <th>ride_distance</th>\n",
       "      <th>rating</th>\n",
       "    </tr>\n",
       "  </thead>\n",
       "  <tbody>\n",
       "    <tr>\n",
       "      <th>0</th>\n",
       "      <td>4542544</td>\n",
       "      <td>140</td>\n",
       "      <td>2402</td>\n",
       "      <td>15684</td>\n",
       "      <td>5</td>\n",
       "    </tr>\n",
       "    <tr>\n",
       "      <th>1</th>\n",
       "      <td>4445115</td>\n",
       "      <td>143</td>\n",
       "      <td>3180</td>\n",
       "      <td>15536</td>\n",
       "      <td>5</td>\n",
       "    </tr>\n",
       "    <tr>\n",
       "      <th>2</th>\n",
       "      <td>4341383</td>\n",
       "      <td>167</td>\n",
       "      <td>3067</td>\n",
       "      <td>15704</td>\n",
       "      <td>5</td>\n",
       "    </tr>\n",
       "    <tr>\n",
       "      <th>3</th>\n",
       "      <td>4153972</td>\n",
       "      <td>163</td>\n",
       "      <td>2383</td>\n",
       "      <td>15692</td>\n",
       "      <td>5</td>\n",
       "    </tr>\n",
       "    <tr>\n",
       "      <th>4</th>\n",
       "      <td>4052253</td>\n",
       "      <td>167</td>\n",
       "      <td>3055</td>\n",
       "      <td>15703</td>\n",
       "      <td>5</td>\n",
       "    </tr>\n",
       "  </tbody>\n",
       "</table>\n",
       "</div>"
      ],
      "text/plain": [
       "        id  fare  ride_duration  ride_distance  rating\n",
       "0  4542544   140           2402          15684       5\n",
       "1  4445115   143           3180          15536       5\n",
       "2  4341383   167           3067          15704       5\n",
       "3  4153972   163           2383          15692       5\n",
       "4  4052253   167           3055          15703       5"
      ]
     },
     "execution_count": 85,
     "metadata": {},
     "output_type": "execute_result"
    }
   ],
   "source": [
    "df=pd.read_csv('RD.csv')\n",
    "df.head()"
   ]
  },
  {
   "cell_type": "code",
   "execution_count": 102,
   "metadata": {
    "collapsed": false
   },
   "outputs": [
    {
     "name": "stdout",
     "output_type": "stream",
     "text": [
      "(15141.0, 'mean ride distance ')\n",
      "\n",
      "\n",
      "(16165, 'maximum')\n",
      "\n",
      "\n",
      "(11583, 'minimum')\n",
      "\n",
      "\n"
     ]
    }
   ],
   "source": [
    "d=df.ride_distance\n",
    "print (d.mean(),'mean ride distance ')\n",
    "print '\\n'\n",
    "print (d.max(),'maximum')\n",
    "print '\\n'\n",
    "print (d.min(),'minimum')\n",
    "print '\\n'"
   ]
  },
  {
   "cell_type": "code",
   "execution_count": 103,
   "metadata": {
    "collapsed": false
   },
   "outputs": [
    {
     "data": {
      "text/html": [
       "<div>\n",
       "<table border=\"1\" class=\"dataframe\">\n",
       "  <thead>\n",
       "    <tr style=\"text-align: right;\">\n",
       "      <th></th>\n",
       "      <th>id</th>\n",
       "      <th>fare</th>\n",
       "      <th>ride_duration</th>\n",
       "      <th>ride_distance</th>\n",
       "      <th>rating</th>\n",
       "    </tr>\n",
       "  </thead>\n",
       "  <tbody>\n",
       "    <tr>\n",
       "      <th>0</th>\n",
       "      <td>4542544</td>\n",
       "      <td>140</td>\n",
       "      <td>2402</td>\n",
       "      <td>15684</td>\n",
       "      <td>5</td>\n",
       "    </tr>\n",
       "    <tr>\n",
       "      <th>1</th>\n",
       "      <td>4445115</td>\n",
       "      <td>143</td>\n",
       "      <td>3180</td>\n",
       "      <td>15536</td>\n",
       "      <td>5</td>\n",
       "    </tr>\n",
       "    <tr>\n",
       "      <th>2</th>\n",
       "      <td>4341383</td>\n",
       "      <td>167</td>\n",
       "      <td>3067</td>\n",
       "      <td>15704</td>\n",
       "      <td>5</td>\n",
       "    </tr>\n",
       "    <tr>\n",
       "      <th>3</th>\n",
       "      <td>4153972</td>\n",
       "      <td>163</td>\n",
       "      <td>2383</td>\n",
       "      <td>15692</td>\n",
       "      <td>5</td>\n",
       "    </tr>\n",
       "    <tr>\n",
       "      <th>4</th>\n",
       "      <td>4052253</td>\n",
       "      <td>167</td>\n",
       "      <td>3055</td>\n",
       "      <td>15703</td>\n",
       "      <td>5</td>\n",
       "    </tr>\n",
       "  </tbody>\n",
       "</table>\n",
       "</div>"
      ],
      "text/plain": [
       "        id  fare  ride_duration  ride_distance  rating\n",
       "0  4542544   140           2402          15684       5\n",
       "1  4445115   143           3180          15536       5\n",
       "2  4341383   167           3067          15704       5\n",
       "3  4153972   163           2383          15692       5\n",
       "4  4052253   167           3055          15703       5"
      ]
     },
     "execution_count": 103,
     "metadata": {},
     "output_type": "execute_result"
    }
   ],
   "source": [
    "df.head()"
   ]
  },
  {
   "cell_type": "code",
   "execution_count": 106,
   "metadata": {
    "collapsed": false
   },
   "outputs": [
    {
     "data": {
      "text/plain": [
       "[<matplotlib.lines.Line2D at 0x7c696d0>]"
      ]
     },
     "execution_count": 106,
     "metadata": {},
     "output_type": "execute_result"
    }
   ],
   "source": [
    "plt.plot(df.ride_distance)"
   ]
  },
  {
   "cell_type": "code",
   "execution_count": 107,
   "metadata": {
    "collapsed": false
   },
   "outputs": [
    {
     "data": {
      "image/png": "[encoded data removed]",
      "text/plain": [
       "<matplotlib.figure.Figure at 0x7cc11f0>"
      ]
     },
     "metadata": {},
     "output_type": "display_data"
    }
   ],
   "source": [
    "plt.show()"
   ]
  },
  {
   "cell_type": "code",
   "execution_count": 112,
   "metadata": {
    "collapsed": false
   },
   "outputs": [
    {
     "data": {
      "text/plain": [
       "0    5\n",
       "1    5\n",
       "2    5\n",
       "3    5\n",
       "4    5\n",
       "Name: rating, dtype: int64"
      ]
     },
     "execution_count": 112,
     "metadata": {},
     "output_type": "execute_result"
    }
   ],
   "source": [
    "a=df.rating\n",
    "a[0:5]"
   ]
  },
  {
   "cell_type": "code",
   "execution_count": 153,
   "metadata": {
    "collapsed": false
   },
   "outputs": [
    {
     "data": {
      "text/plain": [
       "array([[[  0,   0,   0],\n",
       "        [255,   0,   0],\n",
       "        [  0, 255,   0],\n",
       "        [  0,   0,   0]],\n",
       "\n",
       "       [[  0,   0,   0],\n",
       "        [  0,   0, 255],\n",
       "        [255, 255, 255],\n",
       "        [  0,   0,   0]]])"
      ]
     },
     "execution_count": 153,
     "metadata": {},
     "output_type": "execute_result"
    }
   ],
   "source": [
    "a=np.array([[0,0,0],[255,0,0],[0,255,0],[0,0,255],[255,255,255]])\n",
    "im=np.array([[0,1,2,0],[0,3,4,0]])\n",
    "a[im]"
   ]
  },
  {
   "cell_type": "code",
   "execution_count": 165,
   "metadata": {
    "collapsed": false
   },
   "outputs": [
    {
     "data": {
      "text/plain": [
       "[<matplotlib.lines.Line2D at 0x1d443f10>]"
      ]
     },
     "execution_count": 165,
     "metadata": {},
     "output_type": "execute_result"
    },
    {
     "data": {
      "image/png": "[encoded data removed]",
      "text/plain": [
       "<matplotlib.figure.Figure at 0x1d3f1b50>"
      ]
     },
     "metadata": {},
     "output_type": "display_data"
    }
   ],
   "source": [
    "plt.plot(np.random.normal(1,2,100))"
   ]
  },
  {
   "cell_type": "code",
   "execution_count": 167,
   "metadata": {
    "collapsed": false
   },
   "outputs": [],
   "source": [
    "a=np.arange(1,10,1)"
   ]
  },
  {
   "cell_type": "code",
   "execution_count": 168,
   "metadata": {
    "collapsed": false
   },
   "outputs": [
    {
     "data": {
      "text/plain": [
       "array([1, 2, 3, 4, 5, 6, 7, 8, 9])"
      ]
     },
     "execution_count": 168,
     "metadata": {},
     "output_type": "execute_result"
    }
   ],
   "source": [
    "a\n"
   ]
  },
  {
   "cell_type": "code",
   "execution_count": 169,
   "metadata": {
    "collapsed": false
   },
   "outputs": [
    {
     "data": {
      "text/plain": [
       "1"
      ]
     },
     "execution_count": 169,
     "metadata": {},
     "output_type": "execute_result"
    }
   ],
   "source": [
    "np.min(a)"
   ]
  },
  {
   "cell_type": "code",
   "execution_count": 170,
   "metadata": {
    "collapsed": false
   },
   "outputs": [
    {
     "data": {
      "text/plain": [
       "9"
      ]
     },
     "execution_count": 170,
     "metadata": {},
     "output_type": "execute_result"
    }
   ],
   "source": [
    "np.max(a)"
   ]
  },
  {
   "cell_type": "code",
   "execution_count": 171,
   "metadata": {
    "collapsed": false
   },
   "outputs": [
    {
     "data": {
      "text/plain": [
       "array([1, 2, 3, 4, 5, 6, 7, 8, 9])"
      ]
     },
     "execution_count": 171,
     "metadata": {},
     "output_type": "execute_result"
    }
   ],
   "source": [
    "np.abs(a)"
   ]
  },
  {
   "cell_type": "code",
   "execution_count": 174,
   "metadata": {
    "collapsed": false
   },
   "outputs": [
    {
     "data": {
      "text/plain": [
       "9"
      ]
     },
     "execution_count": 174,
     "metadata": {},
     "output_type": "execute_result"
    }
   ],
   "source": [
    "np.amax(a)"
   ]
  },
  {
   "cell_type": "code",
   "execution_count": 175,
   "metadata": {
    "collapsed": false
   },
   "outputs": [
    {
     "data": {
      "text/plain": [
       "5.0"
      ]
     },
     "execution_count": 175,
     "metadata": {},
     "output_type": "execute_result"
    }
   ],
   "source": [
    "np.median(a)"
   ]
  },
  {
   "cell_type": "code",
   "execution_count": 177,
   "metadata": {
    "collapsed": false
   },
   "outputs": [
    {
     "data": {
      "text/plain": [
       "5.0"
      ]
     },
     "execution_count": 177,
     "metadata": {},
     "output_type": "execute_result"
    }
   ],
   "source": [
    "np.average(a)"
   ]
  },
  {
   "cell_type": "code",
   "execution_count": 179,
   "metadata": {
    "collapsed": false
   },
   "outputs": [
    {
     "data": {
      "text/plain": [
       "array([[0, 1, 2],\n",
       "       [3, 4, 5]])"
      ]
     },
     "execution_count": 179,
     "metadata": {},
     "output_type": "execute_result"
    }
   ],
   "source": [
    "data = np.arange(6).reshape((2,3))\n",
    "data"
   ]
  },
  {
   "cell_type": "code",
   "execution_count": 189,
   "metadata": {
    "collapsed": false
   },
   "outputs": [
    {
     "data": {
      "text/plain": [
       "array([ 1.,  4.])"
      ]
     },
     "execution_count": 189,
     "metadata": {},
     "output_type": "execute_result"
    }
   ],
   "source": [
    "np.average(data, axis=1)"
   ]
  },
  {
   "cell_type": "code",
   "execution_count": 190,
   "metadata": {
    "collapsed": false
   },
   "outputs": [
    {
     "data": {
      "text/plain": [
       "2.5"
      ]
     },
     "execution_count": 190,
     "metadata": {},
     "output_type": "execute_result"
    }
   ],
   "source": [
    "np.mean(data)"
   ]
  },
  {
   "cell_type": "markdown",
   "metadata": {},
   "source": [
    "np."
   ]
  }
 ],
 "metadata": {
  "kernelspec": {
   "display_name": "Python 2",
   "language": "python",
   "name": "python2"
  },
  "language_info": {
   "codemirror_mode": {
    "name": "ipython",
    "version": 2
   },
   "file_extension": ".py",
   "mimetype": "text/x-python",
   "name": "python",
   "nbconvert_exporter": "python",
   "pygments_lexer": "ipython2",
   "version": "2.7.13"
  }
 },
 "nbformat": 4,
 "nbformat_minor": 2
}
