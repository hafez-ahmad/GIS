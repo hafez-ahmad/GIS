{
  "nbformat": 4,
  "nbformat_minor": 0,
  "metadata": {
    "colab": {
      "name": "geospatial_analysis_with_Python.ipynb",
      "version": "0.3.2",
      "provenance": []
    },
    "kernelspec": {
      "display_name": "Python 2",
      "language": "python",
      "name": "python2"
    }
  },
  "cells": [
    {
      "metadata": {
        "id": "-0SpXYEGVG_P",
        "colab_type": "code",
        "colab": {}
      },
      "cell_type": "code",
      "source": [
        "import osgeo.ogr"
      ],
      "execution_count": 0,
      "outputs": []
    },
    {
      "metadata": {
        "id": "g9EYqw8gVG_g",
        "colab_type": "code",
        "colab": {}
      },
      "cell_type": "code",
      "source": [
        "shapefile=osgeo.ogr.Open(\"D:/TM_WORLD_BORDERS/TM_WORLD_BORDERS-0.3.shp\")"
      ],
      "execution_count": 0,
      "outputs": []
    },
    {
      "metadata": {
        "id": "xiI_kBycVG_s",
        "colab_type": "code",
        "colab": {}
      },
      "cell_type": "code",
      "source": [
        "layer=shapefile.GetLayer(0)"
      ],
      "execution_count": 0,
      "outputs": []
    },
    {
      "metadata": {
        "id": "wcn1k-3mVG_3",
        "colab_type": "code",
        "colab": {},
        "outputId": "2abba7d7-002f-4a71-bdcc-d67f1c9d4129"
      },
      "cell_type": "code",
      "source": [
        "layer"
      ],
      "execution_count": 0,
      "outputs": [
        {
          "output_type": "execute_result",
          "data": {
            "text/plain": [
              "<osgeo.ogr.Layer; proxy of <Swig Object of type 'OGRLayerShadow *' at 0x0277EE90> >"
            ]
          },
          "metadata": {
            "tags": []
          },
          "execution_count": 4
        }
      ]
    },
    {
      "metadata": {
        "id": "uhbzupBvVHAM",
        "colab_type": "code",
        "colab": {},
        "outputId": "ef377f94-050e-4075-88ea-8dc003b2e06c"
      },
      "cell_type": "code",
      "source": [
        "layer.GetFeatureCount()"
      ],
      "execution_count": 0,
      "outputs": [
        {
          "output_type": "execute_result",
          "data": {
            "text/plain": [
              "246"
            ]
          },
          "metadata": {
            "tags": []
          },
          "execution_count": 5
        }
      ]
    },
    {
      "metadata": {
        "id": "FBAVRteXVHAd",
        "colab_type": "code",
        "colab": {}
      },
      "cell_type": "code",
      "source": [
        "for i in range(layer.GetFeatureCount()):\n",
        "    feature=layer.GetFeature(i)"
      ],
      "execution_count": 0,
      "outputs": []
    },
    {
      "metadata": {
        "id": "JCnTxSm4VHAn",
        "colab_type": "code",
        "colab": {},
        "outputId": "99232135-abe5-44fa-9d2b-bde8606fe126"
      },
      "cell_type": "code",
      "source": [
        "feature"
      ],
      "execution_count": 0,
      "outputs": [
        {
          "output_type": "execute_result",
          "data": {
            "text/plain": [
              "<osgeo.ogr.Feature; proxy of <Swig Object of type 'OGRFeatureShadow *' at 0x03CA5B60> >"
            ]
          },
          "metadata": {
            "tags": []
          },
          "execution_count": 8
        }
      ]
    },
    {
      "metadata": {
        "id": "7b8cyENUVHA2",
        "colab_type": "code",
        "colab": {},
        "outputId": "f8d49fdf-95a5-4f22-e821-880f02f0124d"
      },
      "cell_type": "code",
      "source": [
        "feature_name=feature.GetField(\"NAME\")\n",
        "feature_name"
      ],
      "execution_count": 0,
      "outputs": [
        {
          "output_type": "execute_result",
          "data": {
            "text/plain": [
              "'Taiwan'"
            ]
          },
          "metadata": {
            "tags": []
          },
          "execution_count": 9
        }
      ]
    },
    {
      "metadata": {
        "id": "Q3Vc1MonVHBF",
        "colab_type": "code",
        "colab": {},
        "outputId": "5f42bd03-31f3-4fe0-c23e-6bb4e740b51d"
      },
      "cell_type": "code",
      "source": [
        "geometry=feature.GetGeometryRef()\n",
        "geometry"
      ],
      "execution_count": 0,
      "outputs": [
        {
          "output_type": "execute_result",
          "data": {
            "text/plain": [
              "<osgeo.ogr.Geometry; proxy of <Swig Object of type 'OGRGeometryShadow *' at 0x03CA5BD8> >"
            ]
          },
          "metadata": {
            "tags": []
          },
          "execution_count": 10
        }
      ]
    },
    {
      "metadata": {
        "id": "xPmbt5QzVHBW",
        "colab_type": "code",
        "colab": {}
      },
      "cell_type": "code",
      "source": [
        "geometry_type=geometry.GetGeometryName()"
      ],
      "execution_count": 0,
      "outputs": []
    },
    {
      "metadata": {
        "id": "E8j-UzSoVHBh",
        "colab_type": "code",
        "colab": {},
        "outputId": "5a1cace7-8bc9-4790-c067-d811c8d00b2b"
      },
      "cell_type": "code",
      "source": [
        "geometry_type"
      ],
      "execution_count": 0,
      "outputs": [
        {
          "output_type": "execute_result",
          "data": {
            "text/plain": [
              "'MULTIPOLYGON'"
            ]
          },
          "metadata": {
            "tags": []
          },
          "execution_count": 12
        }
      ]
    },
    {
      "metadata": {
        "id": "VZZwGeNFVHB0",
        "colab_type": "code",
        "colab": {},
        "outputId": "6f47cf2e-056b-4f64-a1e3-48ad915fe40f"
      },
      "cell_type": "code",
      "source": [
        "print(i , feature_name,geometry_type)"
      ],
      "execution_count": 0,
      "outputs": [
        {
          "output_type": "stream",
          "text": [
            "(245, 'Taiwan', 'MULTIPOLYGON')\n"
          ],
          "name": "stdout"
        }
      ]
    },
    {
      "metadata": {
        "scrolled": true,
        "id": "TfaRgIl9VHCD",
        "colab_type": "code",
        "colab": {},
        "outputId": "f6af91f8-0fc5-4064-c3a1-9216b97aa42d"
      },
      "cell_type": "code",
      "source": [
        "import osgeo.ogr\n",
        "shapefile = osgeo.ogr.Open(\"D:/TM_WORLD_BORDERS/TM_WORLD_BORDERS-0.3.shp\")\n",
        "layer = shapefile.GetLayer(0)\n",
        "for i in range(layer.GetFeatureCount()):\n",
        "    feature = layer.GetFeature(i)\n",
        "    feature_name = feature.GetField(\"NAME\")\n",
        "    geometry = feature.GetGeometryRef()\n",
        "    geometry_type = geometry.GetGeometryName()\n",
        "    print i, feature_name, geometry_type"
      ],
      "execution_count": 0,
      "outputs": [
        {
          "output_type": "stream",
          "text": [
            "0 Antigua and Barbuda MULTIPOLYGON\n",
            "1 Algeria POLYGON\n",
            "2 Azerbaijan MULTIPOLYGON\n",
            "3 Albania POLYGON\n",
            "4 Armenia MULTIPOLYGON\n",
            "5 Angola MULTIPOLYGON\n",
            "6 American Samoa MULTIPOLYGON\n",
            "7 Argentina MULTIPOLYGON\n",
            "8 Australia MULTIPOLYGON\n",
            "9 Bahrain MULTIPOLYGON\n",
            "10 Barbados POLYGON\n",
            "11 Bermuda MULTIPOLYGON\n",
            "12 Bahamas MULTIPOLYGON\n",
            "13 Bangladesh MULTIPOLYGON\n",
            "14 Belize MULTIPOLYGON\n",
            "15 Bosnia and Herzegovina POLYGON\n",
            "16 Bolivia POLYGON\n",
            "17 Burma MULTIPOLYGON\n",
            "18 Benin POLYGON\n",
            "19 Solomon Islands MULTIPOLYGON\n",
            "20 Brazil MULTIPOLYGON\n",
            "21 Bulgaria POLYGON\n",
            "22 Brunei Darussalam MULTIPOLYGON\n",
            "23 Canada MULTIPOLYGON\n",
            "24 Cambodia MULTIPOLYGON\n",
            "25 Sri Lanka MULTIPOLYGON\n",
            "26 Congo POLYGON\n",
            "27 Democratic Republic of the Congo MULTIPOLYGON\n",
            "28 Burundi POLYGON\n",
            "29 China MULTIPOLYGON\n",
            "30 Afghanistan POLYGON\n",
            "31 Bhutan POLYGON\n",
            "32 Chile MULTIPOLYGON\n",
            "33 Cayman Islands MULTIPOLYGON\n",
            "34 Cameroon MULTIPOLYGON\n",
            "35 Chad POLYGON\n",
            "36 Comoros MULTIPOLYGON\n",
            "37 Colombia MULTIPOLYGON\n",
            "38 Costa Rica MULTIPOLYGON\n",
            "39 Central African Republic POLYGON\n",
            "40 Cuba MULTIPOLYGON\n",
            "41 Cape Verde MULTIPOLYGON\n",
            "42 Cook Islands MULTIPOLYGON\n",
            "43 Cyprus POLYGON\n",
            "44 Denmark MULTIPOLYGON\n",
            "45 Djibouti POLYGON\n",
            "46 Dominica POLYGON\n",
            "47 Dominican Republic MULTIPOLYGON\n",
            "48 Ecuador MULTIPOLYGON\n",
            "49 Egypt MULTIPOLYGON\n",
            "50 Ireland MULTIPOLYGON\n",
            "51 Equatorial Guinea MULTIPOLYGON\n",
            "52 Estonia MULTIPOLYGON\n",
            "53 Eritrea MULTIPOLYGON\n",
            "54 El Salvador MULTIPOLYGON\n",
            "55 Ethiopia POLYGON\n",
            "56 Austria POLYGON\n",
            "57 Czech Republic POLYGON\n",
            "58 French Guiana POLYGON\n",
            "59 Finland MULTIPOLYGON\n",
            "60 Fiji MULTIPOLYGON\n",
            "61 Falkland Islands (Malvinas) MULTIPOLYGON\n",
            "62 Micronesia, Federated States of MULTIPOLYGON\n",
            "63 French Polynesia MULTIPOLYGON\n",
            "64 France MULTIPOLYGON\n",
            "65 Gambia POLYGON\n",
            "66 Gabon MULTIPOLYGON\n",
            "67 Georgia POLYGON\n",
            "68 Ghana POLYGON\n",
            "69 Grenada MULTIPOLYGON\n",
            "70 Greenland MULTIPOLYGON\n",
            "71 Germany MULTIPOLYGON\n",
            "72 Guam POLYGON\n",
            "73 Greece MULTIPOLYGON\n",
            "74 Guatemala POLYGON\n",
            "75 Guinea POLYGON\n",
            "76 Guyana MULTIPOLYGON\n",
            "77 Haiti MULTIPOLYGON\n",
            "78 Honduras MULTIPOLYGON\n",
            "79 Croatia MULTIPOLYGON\n",
            "80 Hungary POLYGON\n",
            "81 Iceland POLYGON\n",
            "82 India MULTIPOLYGON\n",
            "83 Iran (Islamic Republic of) MULTIPOLYGON\n",
            "84 Israel MULTIPOLYGON\n",
            "85 Italy MULTIPOLYGON\n",
            "86 Cote d'Ivoire MULTIPOLYGON\n",
            "87 Iraq POLYGON\n",
            "88 Japan MULTIPOLYGON\n",
            "89 Jamaica POLYGON\n",
            "90 Jordan POLYGON\n",
            "91 Kenya MULTIPOLYGON\n",
            "92 Kyrgyzstan POLYGON\n",
            "93 Korea, Democratic People's Republic of MULTIPOLYGON\n",
            "94 Kiribati MULTIPOLYGON\n",
            "95 Korea, Republic of MULTIPOLYGON\n",
            "96 Kuwait MULTIPOLYGON\n",
            "97 Kazakhstan MULTIPOLYGON\n",
            "98 Lao People's Democratic Republic POLYGON\n",
            "99 Lebanon POLYGON\n",
            "100 Latvia POLYGON\n",
            "101 Belarus POLYGON\n",
            "102 Lithuania MULTIPOLYGON\n",
            "103 Liberia POLYGON\n",
            "104 Slovakia POLYGON\n",
            "105 Liechtenstein POLYGON\n",
            "106 Libyan Arab Jamahiriya POLYGON\n",
            "107 Madagascar MULTIPOLYGON\n",
            "108 Martinique POLYGON\n",
            "109 Mongolia POLYGON\n",
            "110 Montserrat POLYGON\n",
            "111 The former Yugoslav Republic of Macedonia POLYGON\n",
            "112 Mali POLYGON\n",
            "113 Morocco POLYGON\n",
            "114 Mauritius MULTIPOLYGON\n",
            "115 Mauritania MULTIPOLYGON\n",
            "116 Malta MULTIPOLYGON\n",
            "117 Oman MULTIPOLYGON\n",
            "118 Maldives MULTIPOLYGON\n",
            "119 Mexico MULTIPOLYGON\n",
            "120 Malaysia MULTIPOLYGON\n",
            "121 Mozambique MULTIPOLYGON\n",
            "122 Malawi MULTIPOLYGON\n",
            "123 New Caledonia MULTIPOLYGON\n",
            "124 Niue POLYGON\n",
            "125 Niger POLYGON\n",
            "126 Aruba POLYGON\n",
            "127 Anguilla POLYGON\n",
            "128 Belgium POLYGON\n",
            "129 Hong Kong MULTIPOLYGON\n",
            "130 Northern Mariana Islands MULTIPOLYGON\n",
            "131 Faroe Islands MULTIPOLYGON\n",
            "132 Andorra POLYGON\n",
            "133 Gibraltar POLYGON\n",
            "134 Isle of Man POLYGON\n",
            "135 Luxembourg POLYGON\n",
            "136 Macau POLYGON\n",
            "137 Monaco POLYGON\n",
            "138 Palestine MULTIPOLYGON\n",
            "139 Montenegro POLYGON\n",
            "140 Mayotte MULTIPOLYGON\n",
            "141 Åland Islands MULTIPOLYGON\n",
            "142 Norfolk Island POLYGON\n",
            "143 Cocos (Keeling) Islands MULTIPOLYGON\n",
            "144 Antarctica MULTIPOLYGON\n",
            "145 Bouvet Island POLYGON\n",
            "146 French Southern and Antarctic Lands MULTIPOLYGON\n",
            "147 Heard Island and McDonald Islands POLYGON\n",
            "148 British Indian Ocean Territory MULTIPOLYGON\n",
            "149 Christmas Island POLYGON\n",
            "150 United States Minor Outlying Islands MULTIPOLYGON\n",
            "151 Vanuatu MULTIPOLYGON\n",
            "152 Nigeria MULTIPOLYGON\n",
            "153 Netherlands MULTIPOLYGON\n",
            "154 Norway MULTIPOLYGON\n",
            "155 Nepal POLYGON\n",
            "156 Nauru POLYGON\n",
            "157 Suriname POLYGON\n",
            "158 Nicaragua MULTIPOLYGON\n",
            "159 New Zealand MULTIPOLYGON\n",
            "160 Paraguay POLYGON\n",
            "161 Peru POLYGON\n",
            "162 Pakistan MULTIPOLYGON\n",
            "163 Poland POLYGON\n",
            "164 Panama MULTIPOLYGON\n",
            "165 Portugal MULTIPOLYGON\n",
            "166 Papua New Guinea MULTIPOLYGON\n",
            "167 Guinea-Bissau MULTIPOLYGON\n",
            "168 Qatar POLYGON\n",
            "169 Reunion POLYGON\n",
            "170 Romania POLYGON\n",
            "171 Republic of Moldova POLYGON\n",
            "172 Philippines MULTIPOLYGON\n",
            "173 Puerto Rico MULTIPOLYGON\n",
            "174 Russia MULTIPOLYGON\n",
            "175 Rwanda POLYGON\n",
            "176 Saudi Arabia MULTIPOLYGON\n",
            "177 Saint Kitts and Nevis MULTIPOLYGON\n",
            "178 Seychelles MULTIPOLYGON\n",
            "179 South Africa MULTIPOLYGON\n",
            "180 Lesotho POLYGON\n",
            "181 Botswana POLYGON\n",
            "182 Senegal POLYGON\n",
            "183 Slovenia POLYGON\n",
            "184 Sierra Leone MULTIPOLYGON\n",
            "185 Singapore POLYGON\n",
            "186 Somalia POLYGON\n",
            "187 Spain MULTIPOLYGON\n",
            "188 Saint Lucia POLYGON\n",
            "189 Sudan MULTIPOLYGON\n",
            "190 Sweden MULTIPOLYGON\n",
            "191 Syrian Arab Republic POLYGON\n",
            "192 Switzerland POLYGON\n",
            "193 Trinidad and Tobago MULTIPOLYGON\n",
            "194 Thailand MULTIPOLYGON\n",
            "195 Tajikistan POLYGON\n",
            "196 Tokelau MULTIPOLYGON\n",
            "197 Tonga MULTIPOLYGON\n",
            "198 Togo POLYGON\n",
            "199 Sao Tome and Principe MULTIPOLYGON\n",
            "200 Tunisia MULTIPOLYGON\n",
            "201 Turkey MULTIPOLYGON\n",
            "202 Tuvalu MULTIPOLYGON\n",
            "203 Turkmenistan MULTIPOLYGON\n",
            "204 United Republic of Tanzania MULTIPOLYGON\n",
            "205 Uganda POLYGON\n",
            "206 United Kingdom MULTIPOLYGON\n",
            "207 Ukraine MULTIPOLYGON\n",
            "208 United States MULTIPOLYGON\n",
            "209 Burkina Faso POLYGON\n",
            "210 Uruguay POLYGON\n",
            "211 Uzbekistan POLYGON\n",
            "212 Saint Vincent and the Grenadines MULTIPOLYGON\n",
            "213 Venezuela MULTIPOLYGON\n",
            "214 British Virgin Islands MULTIPOLYGON\n",
            "215 Viet Nam MULTIPOLYGON\n",
            "216 United States Virgin Islands MULTIPOLYGON\n",
            "217 Namibia POLYGON\n",
            "218 Wallis and Futuna Islands MULTIPOLYGON\n",
            "219 Samoa MULTIPOLYGON\n",
            "220 Swaziland POLYGON\n",
            "221 Yemen MULTIPOLYGON\n",
            "222 Zambia POLYGON\n",
            "223 Zimbabwe POLYGON\n",
            "224 Indonesia MULTIPOLYGON\n",
            "225 Guadeloupe MULTIPOLYGON\n",
            "226 Netherlands Antilles MULTIPOLYGON\n",
            "227 United Arab Emirates MULTIPOLYGON\n",
            "228 Timor-Leste MULTIPOLYGON\n",
            "229 Pitcairn Islands MULTIPOLYGON\n",
            "230 Palau MULTIPOLYGON\n",
            "231 Marshall Islands MULTIPOLYGON\n",
            "232 Saint Pierre and Miquelon MULTIPOLYGON\n",
            "233 Saint Helena MULTIPOLYGON\n",
            "234 San Marino POLYGON\n",
            "235 Turks and Caicos Islands MULTIPOLYGON\n",
            "236 Western Sahara POLYGON\n",
            "237 Serbia POLYGON\n",
            "238 Holy See (Vatican City) POLYGON\n",
            "239 Svalbard MULTIPOLYGON\n",
            "240 Saint Martin POLYGON\n",
            "241 Saint Barthelemy POLYGON\n",
            "242 Guernsey POLYGON\n",
            "243 Jersey POLYGON\n",
            "244 South Georgia South Sandwich Islands MULTIPOLYGON\n",
            "245 Taiwan MULTIPOLYGON\n"
          ],
          "name": "stdout"
        }
      ]
    },
    {
      "metadata": {
        "id": "5xkCtb9jVHCR",
        "colab_type": "code",
        "colab": {}
      },
      "cell_type": "code",
      "source": [
        "import shapely.wkt"
      ],
      "execution_count": 0,
      "outputs": []
    },
    {
      "metadata": {
        "id": "Y2aff7rTVHCe",
        "colab_type": "code",
        "colab": {}
      },
      "cell_type": "code",
      "source": [
        "feature=layer.GetFeature(0)"
      ],
      "execution_count": 0,
      "outputs": []
    },
    {
      "metadata": {
        "id": "H_v4ymZBVHCp",
        "colab_type": "code",
        "colab": {}
      },
      "cell_type": "code",
      "source": [
        "geometry=feature.GetGeometryRef()"
      ],
      "execution_count": 0,
      "outputs": []
    },
    {
      "metadata": {
        "id": "sD-6AO6kVHC0",
        "colab_type": "code",
        "colab": {}
      },
      "cell_type": "code",
      "source": [
        "wkt=geometry.ExportToWkt()"
      ],
      "execution_count": 0,
      "outputs": []
    },
    {
      "metadata": {
        "id": "9eMK1TTVVHC_",
        "colab_type": "code",
        "colab": {}
      },
      "cell_type": "code",
      "source": [
        "outline=shapely.wkt.loads(wkt)"
      ],
      "execution_count": 0,
      "outputs": []
    },
    {
      "metadata": {
        "id": "AewoLTRlVHDJ",
        "colab_type": "code",
        "colab": {},
        "outputId": "088b6b0c-2456-4c84-c754-581f6957cb85"
      },
      "cell_type": "code",
      "source": [
        "outline"
      ],
      "execution_count": 0,
      "outputs": [
        {
          "output_type": "execute_result",
          "data": {
            "image/svg+xml": "<svg xmlns=\"http://www.w3.org/2000/svg\" xmlns:xlink=\"http://www.w3.org/1999/xlink\" width=\"100.0\" height=\"100.0\" viewBox=\"-61.92052416 16.96030784 0.28354632 0.79410132\" preserveAspectRatio=\"xMinYMin meet\"><g transform=\"matrix(1,0,0,-1,0,34.714717)\"><g><path fill-rule=\"evenodd\" fill=\"#66cc99\" stroke=\"#555555\" stroke-width=\"0.0158820264\" opacity=\"0.6\" d=\"M -61.686668,17.024441 L -61.73806,16.989719 L -61.82917,16.996944 L -61.876114,17.016941 L -61.880562,17.019722 L -61.883614,17.023609 L -61.885834,17.028053 L -61.887222,17.033054 L -61.891113,17.094166 L -61.887222,17.105274 L -61.884171,17.109722 L -61.832779,17.163887 L -61.826393,17.167221 L -61.794449,17.16333 L -61.784172,17.158333 L -61.744171,17.137218 L -61.674171,17.093609 L -61.67028,17.090275 L -61.668892,17.084999 L -61.666389,17.04583 L -61.667503,17.040554 L -61.682503,17.027496 L -61.686668,17.024441 z\" /><path fill-rule=\"evenodd\" fill=\"#66cc99\" stroke=\"#555555\" stroke-width=\"0.0158820264\" opacity=\"0.6\" d=\"M -61.729172,17.608608 L -61.731117,17.547222 L -61.73278,17.541111 L -61.738892,17.540554 L -61.751945,17.549442 L -61.815559,17.583885 L -61.834724,17.588608 L -61.839447,17.586666 L -61.842781,17.582775 L -61.847504,17.58083 L -61.853058,17.583054 L -61.856674,17.592499 L -61.873894,17.688889 L -61.875282,17.698608 L -61.873062,17.703888 L -61.850281,17.722775 L -61.845558,17.724998 L -61.839172,17.72472 L -61.787224,17.700554 L -61.783615,17.69722 L -61.74334,17.653053 L -61.74028,17.649166 L -61.73806,17.644722 L -61.731674,17.624996 L -61.729172,17.608608 z\" /></g></g></svg>",
            "text/plain": [
              "<shapely.geometry.multipolygon.MultiPolygon at 0x41b8450>"
            ]
          },
          "metadata": {
            "tags": []
          },
          "execution_count": 21
        }
      ]
    },
    {
      "metadata": {
        "id": "0hY4Ou45VHDY",
        "colab_type": "code",
        "colab": {},
        "outputId": "7555b903-33a0-4f1e-ecfc-54542ab7e273"
      },
      "cell_type": "code",
      "source": [
        "print(outline.centroid.x,outline.centroid.y)"
      ],
      "execution_count": 0,
      "outputs": [
        {
          "output_type": "stream",
          "text": [
            "(-61.79112751703739, 17.28013658681315)\n"
          ],
          "name": "stdout"
        }
      ]
    },
    {
      "metadata": {
        "id": "8DRB_ubtVHDk",
        "colab_type": "code",
        "colab": {},
        "outputId": "c04f7a5b-d3ee-49d5-8404-7750a8a45aaa"
      },
      "cell_type": "code",
      "source": [
        "outline.bounds"
      ],
      "execution_count": 0,
      "outputs": [
        {
          "output_type": "execute_result",
          "data": {
            "text/plain": [
              "(-61.891113, 16.989719, -61.666389, 17.724998)"
            ]
          },
          "metadata": {
            "tags": []
          },
          "execution_count": 24
        }
      ]
    },
    {
      "metadata": {
        "id": "VM2hBwraVHD2",
        "colab_type": "code",
        "colab": {}
      },
      "cell_type": "code",
      "source": [
        "import osgeo.ogr\n",
        "import shapely.wkt\n",
        "\n",
        "def main():\n",
        "    shapefile=osgeo.ogr.Open(\"D:/TM_WORLD_BORDERS/TM_WORLD_BORDERS-0.3.shp\")\n",
        "    layer=shapefile.GetLayer(0)\n",
        "    countries={}\n",
        "    for i in range(layer.GetFeatureCount()):\n",
        "        feature=layer.GetFeature(i)\n",
        "        country=feature.GetField(\"NAME\")\n",
        "        outline=shapely.wkt.loads(feature.GetGeometryRef().ExportToWkt())\n",
        "        countries[country]=outline\n",
        "        #print \"Loaded %d countries\" % len(countries)\n",
        "        for country in sorted(countries.keys()):\n",
        "            outline = countries[country]\n",
        "        for other_country in sorted(countries.keys()):\n",
        "            if country == other_country: continue\n",
        "        other_outline = countries[other_country]\n",
        "        if outline.touches(other_outline):\n",
        "            print \"%s borders %s\" % (country, other_country)"
      ],
      "execution_count": 0,
      "outputs": []
    },
    {
      "metadata": {
        "id": "NpKOdajOVHD_",
        "colab_type": "code",
        "colab": {}
      },
      "cell_type": "code",
      "source": [
        "import pysal"
      ],
      "execution_count": 0,
      "outputs": []
    },
    {
      "metadata": {
        "id": "08n5jHoUVHEH",
        "colab_type": "code",
        "colab": {}
      },
      "cell_type": "code",
      "source": [
        "f = pysal.open(pysal.examples.get_path(\"stl_hom.txt\"))"
      ],
      "execution_count": 0,
      "outputs": []
    },
    {
      "metadata": {
        "id": "4syIDyT7VHES",
        "colab_type": "code",
        "colab": {},
        "outputId": "0a919f42-f689-440d-8db6-ca7ed03512c9"
      },
      "cell_type": "code",
      "source": [
        "f"
      ],
      "execution_count": 0,
      "outputs": [
        {
          "output_type": "execute_result",
          "data": {
            "text/plain": [
              "DataTable: C:\\Anaconda2\\envs\\ocean\\lib\\site-packages\\pysal\\examples\\stl\\stl_hom.txt"
            ]
          },
          "metadata": {
            "tags": []
          },
          "execution_count": 53
        }
      ]
    },
    {
      "metadata": {
        "id": "J7Uext0PVHEe",
        "colab_type": "code",
        "colab": {},
        "outputId": "766f2ac7-60bf-4f83-88a0-fcca804b0612"
      },
      "cell_type": "code",
      "source": [
        "import numpy as np\n",
        "y = np.array(f.by_col['HR8893'])\n",
        "y"
      ],
      "execution_count": 0,
      "outputs": [
        {
          "output_type": "execute_result",
          "data": {
            "text/plain": [
              "array([  1.624458,   2.255492,   1.46789 ,   2.484256,   0.      ,\n",
              "         9.048673,   6.029489,   1.800385,   4.581251,   3.790607,\n",
              "         1.447436,   1.191966,   0.      ,   1.608017,   1.949812,\n",
              "         0.74509 ,   4.173318,   3.783252,   2.085136,   2.176302,\n",
              "         6.309347,  10.855743,   4.211354,   0.80481 ,   3.215331,\n",
              "         2.833664,   1.59204 ,   1.571158,   3.12759 ,   4.416896,\n",
              "         3.017486,   9.924245,   7.973957,   5.005464,   2.463891,\n",
              "         0.      ,   7.377974,   1.003875,   3.190047,  45.905406,\n",
              "         2.447597,   1.294958,   5.933098,   4.133997,   4.298311,\n",
              "        27.483827,   0.969791,   0.      ,   2.934466,   4.456427,\n",
              "         4.629264,   4.941533,   3.990041,   2.064324,   3.040253,\n",
              "         3.905411,   4.332839,   3.894111,   6.828794,   3.263947,\n",
              "         3.282163,   3.295762,   7.249679,   3.041846,   1.618018,\n",
              "         4.910801,   1.991457,   3.146192,   7.26665 ,   3.110904,\n",
              "         2.980271,   3.866767,   1.868408,  12.577034,   7.803599,\n",
              "         3.47149 ,   4.334822,   8.451537])"
            ]
          },
          "metadata": {
            "tags": []
          },
          "execution_count": 79
        }
      ]
    },
    {
      "metadata": {
        "id": "KVdfeBAKVHEs",
        "colab_type": "code",
        "colab": {},
        "outputId": "bd70ad71-88df-42e9-d57b-8bdb5537bc49"
      },
      "cell_type": "code",
      "source": [
        "w = pysal.open(pysal.examples.get_path(\"stl.gal\")).read()\n",
        "w"
      ],
      "execution_count": 0,
      "outputs": [
        {
          "output_type": "execute_result",
          "data": {
            "text/plain": [
              "<pysal.weights.weights.W at 0xed063f0>"
            ]
          },
          "metadata": {
            "tags": []
          },
          "execution_count": 80
        }
      ]
    },
    {
      "metadata": {
        "id": "VsC1dpaSVHE4",
        "colab_type": "code",
        "colab": {},
        "outputId": "e6c0b353-7f16-4e45-bc46-eb9710f4f184"
      },
      "cell_type": "code",
      "source": [
        " mi = pysal.Moran(y, w, two_tailed=False)\n",
        "print('Observed I:', mi.I, '\\nExpected I:', mi.EI, '\\n   p-value:', mi.p_norm)\n"
      ],
      "execution_count": 0,
      "outputs": [
        {
          "output_type": "stream",
          "text": [
            "('Observed I:', 0.24365582621771695, '\\nExpected I:', -0.012987012987012988, '\\n   p-value:', 0.00013573931385468807)\n"
          ],
          "name": "stdout"
        }
      ]
    },
    {
      "metadata": {
        "id": "do_URaVZVHFH",
        "colab_type": "code",
        "colab": {},
        "outputId": "9c9acbc1-bb43-431e-dcf3-6c823e7f5acb"
      },
      "cell_type": "code",
      "source": [
        "help(mi)"
      ],
      "execution_count": 0,
      "outputs": [
        {
          "output_type": "stream",
          "text": [
            "Help on Moran in module pysal.esda.moran object:\n",
            "\n",
            "class Moran(__builtin__.object)\n",
            " |  Moran's I Global Autocorrelation Statistic\n",
            " |  \n",
            " |  Parameters\n",
            " |  ----------\n",
            " |  \n",
            " |  y               : array\n",
            " |                    variable measured across n spatial units\n",
            " |  w               : W\n",
            " |                    spatial weights instance\n",
            " |  transformation  : string\n",
            " |                    weights transformation,  default is row-standardized \"r\".\n",
            " |                    Other options include \"B\": binary,  \"D\":\n",
            " |                    doubly-standardized,  \"U\": untransformed\n",
            " |                    (general weights), \"V\": variance-stabilizing.\n",
            " |  permutations    : int\n",
            " |                    number of random permutations for calculation of\n",
            " |                    pseudo-p_values\n",
            " |  two_tailed      : boolean\n",
            " |                    If True (default) analytical p-values for Moran are two\n",
            " |                    tailed, otherwise if False, they are one-tailed.\n",
            " |  \n",
            " |  Attributes\n",
            " |  ----------\n",
            " |  y            : array\n",
            " |                 original variable\n",
            " |  w            : W\n",
            " |                 original w object\n",
            " |  permutations : int\n",
            " |                 number of permutations\n",
            " |  I            : float\n",
            " |                 value of Moran's I\n",
            " |  EI           : float\n",
            " |                 expected value under normality assumption\n",
            " |  VI_norm      : float\n",
            " |                 variance of I under normality assumption\n",
            " |  seI_norm     : float\n",
            " |                 standard deviation of I under normality assumption\n",
            " |  z_norm       : float\n",
            " |                 z-value of I under normality assumption\n",
            " |  p_norm       : float\n",
            " |                 p-value of I under normality assumption\n",
            " |  VI_rand      : float\n",
            " |                 variance of I under randomization assumption\n",
            " |  seI_rand     : float\n",
            " |                 standard deviation of I under randomization assumption\n",
            " |  z_rand       : float\n",
            " |                 z-value of I under randomization assumption\n",
            " |  p_rand       : float\n",
            " |                 p-value of I under randomization assumption\n",
            " |  two_tailed   : boolean\n",
            " |                 If True p_norm and p_rand are two-tailed, otherwise they\n",
            " |                 are one-tailed.\n",
            " |  sim          : array\n",
            " |                 (if permutations>0)\n",
            " |                 vector of I values for permuted samples\n",
            " |  p_sim        : array\n",
            " |                 (if permutations>0)\n",
            " |                 p-value based on permutations (one-tailed)\n",
            " |                 null: spatial randomness\n",
            " |                 alternative: the observed I is extreme if\n",
            " |                 it is either extremely greater or extremely lower\n",
            " |                 than the values obtained based on permutations\n",
            " |  EI_sim       : float\n",
            " |                 (if permutations>0)\n",
            " |                 average value of I from permutations\n",
            " |  VI_sim       : float\n",
            " |                 (if permutations>0)\n",
            " |                 variance of I from permutations\n",
            " |  seI_sim      : float\n",
            " |                 (if permutations>0)\n",
            " |                 standard deviation of I under permutations.\n",
            " |  z_sim        : float\n",
            " |                 (if permutations>0)\n",
            " |                 standardized I based on permutations\n",
            " |  p_z_sim      : float\n",
            " |                 (if permutations>0)\n",
            " |                 p-value based on standard normal approximation from\n",
            " |                 permutations\n",
            " |  \n",
            " |  Examples\n",
            " |  --------\n",
            " |  >>> import pysal\n",
            " |  >>> w = pysal.open(pysal.examples.get_path(\"stl.gal\")).read()\n",
            " |  >>> f = pysal.open(pysal.examples.get_path(\"stl_hom.txt\"))\n",
            " |  >>> y = np.array(f.by_col['HR8893'])\n",
            " |  >>> mi = pysal.Moran(y,  w)\n",
            " |  >>> \"%7.5f\" % mi.I\n",
            " |  '0.24366'\n",
            " |  >>> mi.EI\n",
            " |  -0.012987012987012988\n",
            " |  >>> mi.p_norm\n",
            " |  0.00027147862770937614\n",
            " |  \n",
            " |  SIDS example replicating OpenGeoda\n",
            " |  \n",
            " |  >>> w = pysal.open(pysal.examples.get_path(\"sids2.gal\")).read()\n",
            " |  >>> f = pysal.open(pysal.examples.get_path(\"sids2.dbf\"))\n",
            " |  >>> import numpy as np\n",
            " |  >>> SIDR = np.array(f.by_col(\"SIDR74\"))\n",
            " |  >>> mi = pysal.Moran(SIDR,  w)\n",
            " |  >>> \"%6.4f\" % mi.I\n",
            " |  '0.2477'\n",
            " |  >>> mi.p_norm\n",
            " |  0.0001158330781489969\n",
            " |  \n",
            " |  One-tailed\n",
            " |  \n",
            " |  >>> mi_1 = pysal.Moran(SIDR,  w, two_tailed=False)\n",
            " |  >>> \"%6.4f\" % mi_1.I\n",
            " |  '0.2477'\n",
            " |  >>> mi_1.p_norm\n",
            " |  5.7916539074498452e-05\n",
            " |  \n",
            " |  Example from http://www.lpc.uottawa.ca/publications/moransi/moran.htm\n",
            " |  \n",
            " |  >>> w = pysal.lat2W(3, 3)\n",
            " |  >>> y = np.arange(1, 10)\n",
            " |  >>> mi = pysal.Moran(y, w, transformation='B')\n",
            " |  >>> mi.VI_rand\n",
            " |  0.059687500000000004\n",
            " |  >>> mi.VI_norm\n",
            " |  0.053125000000000006\n",
            " |  \n",
            " |  Methods defined here:\n",
            " |  \n",
            " |  __init__(self, y, w, transformation='r', permutations=999, two_tailed=True)\n",
            " |  \n",
            " |  ----------------------------------------------------------------------\n",
            " |  Class methods defined here:\n",
            " |  \n",
            " |  by_col(cls, df, cols, w=None, inplace=False, pvalue='sim', outvals=None, **stat_kws) from __builtin__.type\n",
            " |      Function to compute a Moran statistic on a dataframe\n",
            " |      \n",
            " |      Arguments\n",
            " |      ---------\n",
            " |      df          :   pandas.DataFrame\n",
            " |                      a pandas dataframe with a geometry column\n",
            " |      cols        :   string or list of string\n",
            " |                      name or list of names of columns to use to compute the statistic\n",
            " |      w           :   pysal weights object\n",
            " |                      a weights object aligned with the dataframe. If not provided, this\n",
            " |                      is searched for in the dataframe's metadata\n",
            " |      inplace     :   bool\n",
            " |                      a boolean denoting whether to operate on the dataframe inplace or to\n",
            " |                      return a series contaning the results of the computation. If\n",
            " |                      operating inplace, the derived columns will be named\n",
            " |                      'column_moran'\n",
            " |      pvalue      :   string\n",
            " |                      a string denoting which pvalue should be returned. Refer to the\n",
            " |                      the Moran statistic's documentation for available p-values\n",
            " |      outvals     :   list of strings\n",
            " |                      list of arbitrary attributes to return as columns from the \n",
            " |                      Moran statistic\n",
            " |      **stat_kws  :   keyword arguments\n",
            " |                      options to pass to the underlying statistic. For this, see the\n",
            " |                      documentation for the Moran statistic.\n",
            " |      \n",
            " |      Returns\n",
            " |      --------\n",
            " |      If inplace, None, and operation is conducted on dataframe in memory. Otherwise,\n",
            " |      returns a copy of the dataframe with the relevant columns attached.\n",
            " |      \n",
            " |      See Also\n",
            " |      ---------\n",
            " |      For further documentation, refer to the Moran class in pysal.esda\n",
            " |  \n",
            " |  ----------------------------------------------------------------------\n",
            " |  Data descriptors defined here:\n",
            " |  \n",
            " |  __dict__\n",
            " |      dictionary for instance variables (if defined)\n",
            " |  \n",
            " |  __weakref__\n",
            " |      list of weak references to the object (if defined)\n",
            "\n"
          ],
          "name": "stdout"
        }
      ]
    },
    {
      "metadata": {
        "id": "nznGZZPPVHFV",
        "colab_type": "code",
        "colab": {}
      },
      "cell_type": "code",
      "source": [
        "import pysal as ps\n",
        "import pandas as pd"
      ],
      "execution_count": 0,
      "outputs": []
    },
    {
      "metadata": {
        "id": "fZpCCsSMVHFp",
        "colab_type": "code",
        "colab": {}
      },
      "cell_type": "code",
      "source": [
        "f=ps.open(\"E:/gds_scipy16/content/data/texas.shp\")"
      ],
      "execution_count": 0,
      "outputs": []
    },
    {
      "metadata": {
        "id": "_xEqEvPNVHF4",
        "colab_type": "code",
        "colab": {},
        "outputId": "064bbbf6-6933-47f2-b890-fac395d86dae"
      },
      "cell_type": "code",
      "source": [
        "f.header"
      ],
      "execution_count": 0,
      "outputs": [
        {
          "output_type": "execute_result",
          "data": {
            "text/plain": [
              "{'BBOX Mmax': 0.0,\n",
              " 'BBOX Mmin': 0.0,\n",
              " 'BBOX Xmax': -93.50721740722656,\n",
              " 'BBOX Xmin': -106.6495132446289,\n",
              " 'BBOX Ymax': 36.49387741088867,\n",
              " 'BBOX Ymin': 25.845197677612305,\n",
              " 'BBOX Zmax': 0.0,\n",
              " 'BBOX Zmin': 0.0,\n",
              " 'File Code': 9994,\n",
              " 'File Length': 49902,\n",
              " 'Shape Type': 5,\n",
              " 'Unused0': 0,\n",
              " 'Unused1': 0,\n",
              " 'Unused2': 0,\n",
              " 'Unused3': 0,\n",
              " 'Unused4': 0,\n",
              " 'Version': 1000}"
            ]
          },
          "metadata": {
            "tags": []
          },
          "execution_count": 63
        }
      ]
    },
    {
      "metadata": {
        "id": "P5Gd46oQVHGE",
        "colab_type": "code",
        "colab": {}
      },
      "cell_type": "code",
      "source": [
        "from pysal.spreg import ols\n",
        "from pysal.spreg import ml_error\n",
        "from pysal.spreg import ml_lag"
      ],
      "execution_count": 0,
      "outputs": []
    },
    {
      "metadata": {
        "id": "KadBfgtoVHGM",
        "colab_type": "code",
        "colab": {}
      },
      "cell_type": "code",
      "source": [
        "f = pysal.open(pysal.examples.get_path(\"columbus.dbf\"),'r')\n",
        "y = np.array(f.by_col['HOVAL'])\n",
        "y.shape = (len(y),1)\n",
        "X= []\n",
        "X.append(f.by_col['INC'])\n",
        "X.append(f.by_col['CRIME'])\n",
        "X = np.array(X).T\n"
      ],
      "execution_count": 0,
      "outputs": []
    },
    {
      "metadata": {
        "id": "Gl0ZtxCMVHGU",
        "colab_type": "code",
        "colab": {},
        "outputId": "76f9734a-1d07-456b-c0a5-4f4b029f96bc"
      },
      "cell_type": "code",
      "source": [
        "'''depend y for home value\n",
        "x = income and crime independend\n",
        "'''\n",
        "ls = ols.OLS(y, X, name_y = 'home val', name_x = ['Income', 'Crime'], name_ds = 'Columbus')\n",
        "print(ls.summary)\n"
      ],
      "execution_count": 0,
      "outputs": [
        {
          "output_type": "stream",
          "text": [
            "REGRESSION\n",
            "----------\n",
            "SUMMARY OF OUTPUT: ORDINARY LEAST SQUARES\n",
            "-----------------------------------------\n",
            "Data set            :    Columbus\n",
            "Weights matrix      :        None\n",
            "Dependent Variable  :    home val                Number of Observations:          49\n",
            "Mean dependent var  :     38.4362                Number of Variables   :           3\n",
            "S.D. dependent var  :     18.4661                Degrees of Freedom    :          46\n",
            "R-squared           :      0.3495\n",
            "Adjusted R-squared  :      0.3212\n",
            "Sum squared residual:   10647.015                F-statistic           :     12.3582\n",
            "Sigma-square        :     231.457                Prob(F-statistic)     :   5.064e-05\n",
            "S.E. of regression  :      15.214                Log likelihood        :    -201.368\n",
            "Sigma-square ML     :     217.286                Akaike info criterion :     408.735\n",
            "S.E of regression ML:     14.7406                Schwarz criterion     :     414.411\n",
            "\n",
            "------------------------------------------------------------------------------------\n",
            "            Variable     Coefficient       Std.Error     t-Statistic     Probability\n",
            "------------------------------------------------------------------------------------\n",
            "            CONSTANT      46.4281827      13.1917570       3.5194844       0.0009867\n",
            "              Income       0.6289840       0.5359104       1.1736736       0.2465669\n",
            "               Crime      -0.4848885       0.1826729      -2.6544086       0.0108745\n",
            "------------------------------------------------------------------------------------\n",
            "\n",
            "REGRESSION DIAGNOSTICS\n",
            "MULTICOLLINEARITY CONDITION NUMBER           12.538\n",
            "\n",
            "TEST ON NORMALITY OF ERRORS\n",
            "TEST                             DF        VALUE           PROB\n",
            "Jarque-Bera                       2          39.706           0.0000\n",
            "\n",
            "DIAGNOSTICS FOR HETEROSKEDASTICITY\n",
            "RANDOM COEFFICIENTS\n",
            "TEST                             DF        VALUE           PROB\n",
            "Breusch-Pagan test                2           5.767           0.0559\n",
            "Koenker-Bassett test              2           2.270           0.3214\n",
            "================================ END OF REPORT =====================================\n"
          ],
          "name": "stdout"
        }
      ]
    },
    {
      "metadata": {
        "id": "uS1OlMkwVHGn",
        "colab_type": "code",
        "colab": {}
      },
      "cell_type": "code",
      "source": [
        "w = pysal.open(pysal.examples.get_path(\"columbus.gal\")).read()\n"
      ],
      "execution_count": 0,
      "outputs": []
    },
    {
      "metadata": {
        "id": "yBM3aCg_VHG0",
        "colab_type": "code",
        "colab": {},
        "outputId": "0c5fa846-d870-42f8-eb9e-cbb4d618b9cd"
      },
      "cell_type": "code",
      "source": [
        "mi = pysal.Moran(ls.u, w, two_tailed=False)\n",
        "print('Observed I:', mi.I, '\\nExpected I:', mi.EI, '\\n   p-value:', mi.p_norm)\n"
      ],
      "execution_count": 0,
      "outputs": [
        {
          "output_type": "stream",
          "text": [
            "('Observed I:', 0.17131015816921427, '\\nExpected I:', -0.020833333333333332, '\\n   p-value:', 0.01893042752120222)\n"
          ],
          "name": "stdout"
        }
      ]
    },
    {
      "metadata": {
        "id": "6jjHVguMVHHA",
        "colab_type": "code",
        "colab": {},
        "outputId": "0ad1ab96-02b8-4e95-b5b3-afb74fe89887"
      },
      "cell_type": "code",
      "source": [
        "spat_err = ml_error.ML_Error(y, X, w, \n",
        "                             name_y='home value', name_x=['income','crime'], \n",
        "                             name_w='columbus.gal', name_ds='columbus')\n",
        "print(spat_err.summary)\n"
      ],
      "execution_count": 0,
      "outputs": [
        {
          "output_type": "stream",
          "text": [
            "C:\\Anaconda2\\envs\\ocean\\lib\\site-packages\\scipy\\optimize\\_minimize.py:643: RuntimeWarning: Method 'bounded' does not support relative tolerance in x; defaulting to absolute tolerance.\n",
            "  \"defaulting to absolute tolerance.\", RuntimeWarning)\n"
          ],
          "name": "stderr"
        },
        {
          "output_type": "stream",
          "text": [
            "REGRESSION\n",
            "----------\n",
            "SUMMARY OF OUTPUT: MAXIMUM LIKELIHOOD SPATIAL ERROR (METHOD = FULL)\n",
            "-------------------------------------------------------------------\n",
            "Data set            :    columbus\n",
            "Weights matrix      :columbus.gal\n",
            "Dependent Variable  :  home value                Number of Observations:          49\n",
            "Mean dependent var  :     38.4362                Number of Variables   :           3\n",
            "S.D. dependent var  :     18.4661                Degrees of Freedom    :          46\n",
            "Pseudo R-squared    :      0.3495\n",
            "Sigma-square ML     :     197.314                Log likelihood        :    -199.769\n",
            "S.E of regression   :      14.047                Akaike info criterion :     405.537\n",
            "                                                 Schwarz criterion     :     411.213\n",
            "\n",
            "------------------------------------------------------------------------------------\n",
            "            Variable     Coefficient       Std.Error     z-Statistic     Probability\n",
            "------------------------------------------------------------------------------------\n",
            "            CONSTANT      47.8090727      12.3906790       3.8584708       0.0001141\n",
            "              income       0.7213778       0.5029284       1.4343549       0.1514710\n",
            "               crime      -0.5576102       0.1788127      -3.1184037       0.0018183\n",
            "              lambda       0.3578233       0.1705868       2.0976020       0.0359403\n",
            "------------------------------------------------------------------------------------\n",
            "================================ END OF REPORT =====================================\n"
          ],
          "name": "stdout"
        }
      ]
    },
    {
      "metadata": {
        "id": "dAJTN60sVHHZ",
        "colab_type": "code",
        "colab": {}
      },
      "cell_type": "code",
      "source": [
        "import matplotlib\n",
        "import numpy as np\n",
        "import matplotlib.pyplot as plt\n",
        "from matplotlib.colors import ListedColormap\n",
        "from matplotlib import colors\n",
        "%matplotlib inline\n",
        "matplotlib.rcParams['figure.figsize'] = (10.0, 8.0)"
      ],
      "execution_count": 0,
      "outputs": []
    },
    {
      "metadata": {
        "id": "7uKn6JuxVHHi",
        "colab_type": "code",
        "colab": {}
      },
      "cell_type": "code",
      "source": [
        "filename = 'Shasta-30m-DEM.tif'\n",
        "\n",
        "# instantiate a processor object\n",
        "processor = DEMProcessor(filename)\n",
        "\n",
        "# get magnitude of slope and aspect\n",
        "mag, aspect = processor.calc_slopes_directions()"
      ],
      "execution_count": 0,
      "outputs": []
    },
    {
      "metadata": {
        "id": "t70_kzV-VHHr",
        "colab_type": "code",
        "colab": {}
      },
      "cell_type": "code",
      "source": [
        "import rasterio"
      ],
      "execution_count": 0,
      "outputs": []
    },
    {
      "metadata": {
        "id": "LUG27f8lVHH2",
        "colab_type": "code",
        "colab": {}
      },
      "cell_type": "code",
      "source": [
        "from shapely.geometry import Polygon"
      ],
      "execution_count": 0,
      "outputs": []
    },
    {
      "metadata": {
        "id": "jqFFXlhzVHH-",
        "colab_type": "code",
        "colab": {}
      },
      "cell_type": "code",
      "source": [
        "p1=Polygon(((11,12),(100,100),(200,90),(40,9),(60),(11,12)))"
      ],
      "execution_count": 0,
      "outputs": []
    },
    {
      "metadata": {
        "id": "K_OitEviVHIM",
        "colab_type": "code",
        "colab": {},
        "outputId": "eca73fdf-763f-498f-e623-1081e60fe15c"
      },
      "cell_type": "code",
      "source": [
        "p1"
      ],
      "execution_count": 0,
      "outputs": [
        {
          "output_type": "execute_result",
          "data": {
            "image/svg+xml": "<svg xmlns=\"http://www.w3.org/2000/svg\" xmlns:xlink=\"http://www.w3.org/1999/xlink\" width=\"204.12\" height=\"106.12\" viewBox=\"3.44 1.44 204.12 106.12\" preserveAspectRatio=\"xMinYMin meet\"><g transform=\"matrix(1,0,0,-1,0,109.0)\"><path fill-rule=\"evenodd\" fill=\"#66cc99\" stroke=\"#555555\" stroke-width=\"2.0\" opacity=\"0.6\" d=\"M 11.0,12.0 L 100.0,100.0 L 200.0,90.0 L 40.0,9.0 L 11.0,12.0 z\" /></g></svg>",
            "text/plain": [
              "<shapely.geometry.polygon.Polygon at 0x404e090>"
            ]
          },
          "metadata": {
            "tags": []
          },
          "execution_count": 10
        }
      ]
    },
    {
      "metadata": {
        "id": "WpFQTvYDVHIY",
        "colab_type": "code",
        "colab": {}
      },
      "cell_type": "code",
      "source": [
        "p2 = Polygon(((6,6), (7,6), (10,4), (11,8), (6,6)))"
      ],
      "execution_count": 0,
      "outputs": []
    },
    {
      "metadata": {
        "id": "IR7wKUF0VHIo",
        "colab_type": "code",
        "colab": {},
        "outputId": "3ef556bb-6da0-460c-8814-058cfda37248"
      },
      "cell_type": "code",
      "source": [
        "p2"
      ],
      "execution_count": 0,
      "outputs": [
        {
          "output_type": "execute_result",
          "data": {
            "image/svg+xml": "<svg xmlns=\"http://www.w3.org/2000/svg\" xmlns:xlink=\"http://www.w3.org/1999/xlink\" width=\"100.0\" height=\"100.0\" viewBox=\"5.8 3.8 5.4 4.4\" preserveAspectRatio=\"xMinYMin meet\"><g transform=\"matrix(1,0,0,-1,0,12.0)\"><path fill-rule=\"evenodd\" fill=\"#66cc99\" stroke=\"#555555\" stroke-width=\"0.108\" opacity=\"0.6\" d=\"M 6.0,6.0 L 7.0,6.0 L 10.0,4.0 L 11.0,8.0 L 6.0,6.0 z\" /></g></svg>",
            "text/plain": [
              "<shapely.geometry.polygon.Polygon at 0x40e20d0>"
            ]
          },
          "metadata": {
            "tags": []
          },
          "execution_count": 13
        }
      ]
    },
    {
      "metadata": {
        "id": "77Mj-9icVHIy",
        "colab_type": "code",
        "colab": {}
      },
      "cell_type": "code",
      "source": [
        "from shapely.geometry import Point"
      ],
      "execution_count": 0,
      "outputs": []
    },
    {
      "metadata": {
        "id": "qeU8XmGVVHJA",
        "colab_type": "code",
        "colab": {},
        "outputId": "faebc817-4122-4360-c0da-63eeb4573c0c"
      },
      "cell_type": "code",
      "source": [
        "point=Point(2,2)\n",
        "point"
      ],
      "execution_count": 0,
      "outputs": [
        {
          "output_type": "execute_result",
          "data": {
            "image/svg+xml": "<svg xmlns=\"http://www.w3.org/2000/svg\" xmlns:xlink=\"http://www.w3.org/1999/xlink\" width=\"100.0\" height=\"100.0\" viewBox=\"1.0 1.0 2.0 2.0\" preserveAspectRatio=\"xMinYMin meet\"><g transform=\"matrix(1,0,0,-1,0,4.0)\"><circle cx=\"2.0\" cy=\"2.0\" r=\"0.06\" stroke=\"#555555\" stroke-width=\"0.02\" fill=\"#66cc99\" opacity=\"0.6\" /></g></svg>",
            "text/plain": [
              "<shapely.geometry.point.Point at 0x3a4ef70>"
            ]
          },
          "metadata": {
            "tags": []
          },
          "execution_count": 15
        }
      ]
    },
    {
      "metadata": {
        "id": "uT-GVJWrVHJI",
        "colab_type": "code",
        "colab": {}
      },
      "cell_type": "code",
      "source": [
        "from shapely.geometry import LineString"
      ],
      "execution_count": 0,
      "outputs": []
    },
    {
      "metadata": {
        "id": "aZcdINbuVHJT",
        "colab_type": "code",
        "colab": {},
        "outputId": "68643a79-e594-49ab-9daf-7a344dedb65f"
      },
      "cell_type": "code",
      "source": [
        "line=LineString([(12,0),(10,10)])\n",
        "line"
      ],
      "execution_count": 0,
      "outputs": [
        {
          "output_type": "execute_result",
          "data": {
            "image/svg+xml": "<svg xmlns=\"http://www.w3.org/2000/svg\" xmlns:xlink=\"http://www.w3.org/1999/xlink\" width=\"100.0\" height=\"100.0\" viewBox=\"9.6 -0.4 2.8 10.8\" preserveAspectRatio=\"xMinYMin meet\"><g transform=\"matrix(1,0,0,-1,0,10.0)\"><polyline fill=\"none\" stroke=\"#66cc99\" stroke-width=\"0.216\" points=\"12.0,0.0 10.0,10.0\" opacity=\"0.8\" /></g></svg>",
            "text/plain": [
              "<shapely.geometry.linestring.LineString at 0x411c930>"
            ]
          },
          "metadata": {
            "tags": []
          },
          "execution_count": 44
        }
      ]
    },
    {
      "metadata": {
        "id": "nS5vAl8pVHJd",
        "colab_type": "code",
        "colab": {}
      },
      "cell_type": "code",
      "source": [
        "from shapely.geometry.polygon import LinearRing"
      ],
      "execution_count": 0,
      "outputs": []
    },
    {
      "metadata": {
        "id": "fO53W-zHVHJk",
        "colab_type": "code",
        "colab": {},
        "outputId": "f0084643-39c6-4fe3-cd81-7a5bad4f5b97"
      },
      "cell_type": "code",
      "source": [
        "ring=LinearRing([(0,0),(3,3),(3,0)])\n",
        "ring"
      ],
      "execution_count": 0,
      "outputs": [
        {
          "output_type": "execute_result",
          "data": {
            "image/svg+xml": "<svg xmlns=\"http://www.w3.org/2000/svg\" xmlns:xlink=\"http://www.w3.org/1999/xlink\" width=\"100.0\" height=\"100.0\" viewBox=\"-0.12 -0.12 3.24 3.24\" preserveAspectRatio=\"xMinYMin meet\"><g transform=\"matrix(1,0,0,-1,0,3.0)\"><polyline fill=\"none\" stroke=\"#66cc99\" stroke-width=\"0.0648\" points=\"0.0,0.0 3.0,3.0 3.0,0.0 0.0,0.0\" opacity=\"0.8\" /></g></svg>",
            "text/plain": [
              "<shapely.geometry.polygon.LinearRing at 0x40e23d0>"
            ]
          },
          "metadata": {
            "tags": []
          },
          "execution_count": 23
        }
      ]
    },
    {
      "metadata": {
        "id": "Ru6fLUwHVHJt",
        "colab_type": "code",
        "colab": {},
        "outputId": "ec2ba05e-e669-4247-e4b2-3183c65050ee"
      },
      "cell_type": "code",
      "source": [
        "from shapely.geometry import MultiPoint\n",
        "points = MultiPoint([(0.0, 0.0), (2,5),(3.0, 3.0)])\n",
        "points"
      ],
      "execution_count": 0,
      "outputs": [
        {
          "output_type": "execute_result",
          "data": {
            "image/svg+xml": "<svg xmlns=\"http://www.w3.org/2000/svg\" xmlns:xlink=\"http://www.w3.org/1999/xlink\" width=\"100.0\" height=\"100.0\" viewBox=\"-0.2 -0.2 3.4 5.4\" preserveAspectRatio=\"xMinYMin meet\"><g transform=\"matrix(1,0,0,-1,0,5.0)\"><g><circle cx=\"0.0\" cy=\"0.0\" r=\"0.162\" stroke=\"#555555\" stroke-width=\"0.054\" fill=\"#66cc99\" opacity=\"0.6\" /><circle cx=\"2.0\" cy=\"5.0\" r=\"0.162\" stroke=\"#555555\" stroke-width=\"0.054\" fill=\"#66cc99\" opacity=\"0.6\" /><circle cx=\"3.0\" cy=\"3.0\" r=\"0.162\" stroke=\"#555555\" stroke-width=\"0.054\" fill=\"#66cc99\" opacity=\"0.6\" /></g></g></svg>",
            "text/plain": [
              "<shapely.geometry.multipoint.MultiPoint at 0x411c730>"
            ]
          },
          "metadata": {
            "tags": []
          },
          "execution_count": 45
        }
      ]
    },
    {
      "metadata": {
        "id": "-xV6ulK9VHJ8",
        "colab_type": "code",
        "colab": {},
        "outputId": "cfb92e32-bcfa-4969-eece-6b1f7722f22e"
      },
      "cell_type": "code",
      "source": [
        "from shapely.geometry import MultiLineString\n",
        "coords = [((0, 0), (1, 1)), ((-1, 0), (1, 0))]\n",
        "coords"
      ],
      "execution_count": 0,
      "outputs": [
        {
          "output_type": "execute_result",
          "data": {
            "text/plain": [
              "[((0, 0), (1, 1)), ((-1, 0), (1, 0))]"
            ]
          },
          "metadata": {
            "tags": []
          },
          "execution_count": 25
        }
      ]
    },
    {
      "metadata": {
        "id": "AnflpDUrVHKG",
        "colab_type": "code",
        "colab": {},
        "outputId": "5445d083-ab01-44fd-8c62-ac6bd7e85115"
      },
      "cell_type": "code",
      "source": [
        "from shapely.geometry import MultiPolygon\n",
        "polygons = MultiPolygon([p1, p2,])\n",
        "polygons"
      ],
      "execution_count": 0,
      "outputs": [
        {
          "output_type": "execute_result",
          "data": {
            "image/svg+xml": "<svg xmlns=\"http://www.w3.org/2000/svg\" xmlns:xlink=\"http://www.w3.org/1999/xlink\" width=\"100.0\" height=\"100.0\" viewBox=\"3.6 2.6 37.8 10.8\" preserveAspectRatio=\"xMinYMin meet\"><g transform=\"matrix(1,0,0,-1,0,16.0)\"><g><path fill-rule=\"evenodd\" fill=\"#ff3333\" stroke=\"#555555\" stroke-width=\"0.756\" opacity=\"0.6\" d=\"M 11.0,12.0 L 5.0,7.0 L 20.0,9.0 L 40.0,9.0 L 11.0,12.0 z\" /><path fill-rule=\"evenodd\" fill=\"#ff3333\" stroke=\"#555555\" stroke-width=\"0.756\" opacity=\"0.6\" d=\"M 6.0,6.0 L 7.0,6.0 L 10.0,4.0 L 11.0,8.0 L 6.0,6.0 z\" /></g></g></svg>",
            "text/plain": [
              "<shapely.geometry.multipolygon.MultiPolygon at 0x411c8f0>"
            ]
          },
          "metadata": {
            "tags": []
          },
          "execution_count": 46
        }
      ]
    },
    {
      "metadata": {
        "id": "43hkIWfTVHKT",
        "colab_type": "code",
        "colab": {},
        "outputId": "b52a4d82-813e-47de-f162-bb3a44991b22"
      },
      "cell_type": "code",
      "source": [
        "p1.area"
      ],
      "execution_count": 0,
      "outputs": [
        {
          "output_type": "execute_result",
          "data": {
            "text/plain": [
              "2.0"
            ]
          },
          "metadata": {
            "tags": []
          },
          "execution_count": 27
        }
      ]
    },
    {
      "metadata": {
        "id": "gCztEB1OVHKd",
        "colab_type": "code",
        "colab": {},
        "outputId": "fb228d07-c108-4b1c-820f-9721892ee9ab"
      },
      "cell_type": "code",
      "source": [
        "p1.bounds"
      ],
      "execution_count": 0,
      "outputs": [
        {
          "output_type": "execute_result",
          "data": {
            "text/plain": [
              "(1.0, 2.0, 7.0, 9.0)"
            ]
          },
          "metadata": {
            "tags": []
          },
          "execution_count": 28
        }
      ]
    },
    {
      "metadata": {
        "id": "MNIw2SwRVHKm",
        "colab_type": "code",
        "colab": {},
        "outputId": "8ca166ed-282f-42f7-acb5-c0db814d2dee"
      },
      "cell_type": "code",
      "source": [
        "p1.length"
      ],
      "execution_count": 0,
      "outputs": [
        {
          "output_type": "execute_result",
          "data": {
            "text/plain": [
              "18.858736672225525"
            ]
          },
          "metadata": {
            "tags": []
          },
          "execution_count": 29
        }
      ]
    },
    {
      "metadata": {
        "id": "CTPh_H1RVHKz",
        "colab_type": "code",
        "colab": {},
        "outputId": "79b84479-078f-48fe-b776-e5ab6086296d"
      },
      "cell_type": "code",
      "source": [
        "p1.geom_type"
      ],
      "execution_count": 0,
      "outputs": [
        {
          "output_type": "execute_result",
          "data": {
            "text/plain": [
              "'Polygon'"
            ]
          },
          "metadata": {
            "tags": []
          },
          "execution_count": 30
        }
      ]
    },
    {
      "metadata": {
        "id": "BF-We23dVHK9",
        "colab_type": "code",
        "colab": {}
      },
      "cell_type": "code",
      "source": [
        "import fiona"
      ],
      "execution_count": 0,
      "outputs": []
    },
    {
      "metadata": {
        "id": "SEvOT75dVHLI",
        "colab_type": "code",
        "colab": {}
      },
      "cell_type": "code",
      "source": [
        "shp=fiona.open(\"F:/qgis data/Natural_Earth_quick_start/packages/Natural_Earth_quick_start/110m_cultural/ne_110m_admin_1_states_provinces_shp.shp\")"
      ],
      "execution_count": 0,
      "outputs": []
    },
    {
      "metadata": {
        "id": "ykYaQcaVVHLQ",
        "colab_type": "code",
        "colab": {},
        "outputId": "885aff87-a95e-495b-e0a5-e0c7a9c9fd32"
      },
      "cell_type": "code",
      "source": [
        "shp"
      ],
      "execution_count": 0,
      "outputs": [
        {
          "output_type": "execute_result",
          "data": {
            "text/plain": [
              "<open Collection 'F:/qgis data/Natural_Earth_quick_start/packages/Natural_Earth_quick_start/110m_cultural/ne_110m_admin_1_states_provinces_shp.shp:ne_110m_admin_1_states_provinces_shp', mode 'r' at 0x411c650>"
            ]
          },
          "metadata": {
            "tags": []
          },
          "execution_count": 35
        }
      ]
    },
    {
      "metadata": {
        "id": "TrXxFDAlVHLY",
        "colab_type": "code",
        "colab": {},
        "outputId": "6ecb7286-b88e-44ee-8560-92684437fa39"
      },
      "cell_type": "code",
      "source": [
        "rec=next(iter(shp))\n",
        "rec"
      ],
      "execution_count": 0,
      "outputs": [
        {
          "output_type": "execute_result",
          "data": {
            "text/plain": [
              "{'geometry': {'coordinates': [[(-89.59940914585667, 48.01027395282483),\n",
              "    (-89.48888455722101, 48.01343887860651),\n",
              "    (-89.52269548211933, 47.96053538674391),\n",
              "    (-89.61369767938538, 47.81925202085796),\n",
              "    (-89.72800594761503, 47.641976019880644),\n",
              "    (-89.84283098016755, 47.464725857119504),\n",
              "    (-89.95765601272012, 47.28690725360326),\n",
              "    (-90.13175391311142, 47.29274669045219),\n",
              "    (-90.30585181350267, 47.29801768654602),\n",
              "    (-90.47994971389409, 47.30385712339489),\n",
              "    (-90.65404761428533, 47.30912811948872),\n",
              "    (-90.85778194859608, 47.21282908791278),\n",
              "    (-91.06097368036774, 47.11704682065988),\n",
              "    (-91.26470801467849, 47.02126455340681),\n",
              "    (-91.46844234898913, 46.92496552183104),\n",
              "    (-91.59225908076053, 46.876260484395914),\n",
              "    (-91.71661841507085, 46.827607123393136),\n",
              "    (-91.8409777493813, 46.778385321635085),\n",
              "    (-91.96479448115258, 46.72970612241613),\n",
              "    (-92.01189754918664, 46.71172272397854),\n",
              "    (-92.27487891311995, 46.65614472104869),\n",
              "    (-92.26482784703921, 46.095222886736394),\n",
              "    (-92.29658301468254, 46.09628225359836),\n",
              "    (-92.5436997139023, 45.98569468849382),\n",
              "    (-92.7569683499708, 45.88991242124092),\n",
              "    (-92.89982784704182, 45.705763454768714),\n",
              "    (-92.68922054723623, 45.518436387710665),\n",
              "    (-92.76541744665064, 45.26708222104298),\n",
              "    (-92.76647681351261, 44.9961426865367),\n",
              "    (-92.79665584997099, 44.776026923189534),\n",
              "    (-92.50507158076414, 44.58391978614452),\n",
              "    (-92.38549231644072, 44.574928086925695),\n",
              "    (-92.06215287959043, 44.432585354177775),\n",
              "    (-91.949989183301, 44.36483755144309),\n",
              "    (-91.87960588251946, 44.25742808692439),\n",
              "    (-91.62770911331273, 44.08544892025708),\n",
              "    (-91.28959021682704, 43.93729258887629),\n",
              "    (-91.25729244664456, 43.85473948829008),\n",
              "    (-91.2546569485977, 43.61397899024206),\n",
              "    (-91.2281986152642, 43.50124685319736),\n",
              "    (-92.54000484899342, 43.51977285417405),\n",
              "    (-94.00102678096545, 43.51341665300225),\n",
              "    (-95.35993608272867, 43.50018748633539),\n",
              "    (-96.45266008175645, 43.50178945573646),\n",
              "    (-96.43943091508982, 44.43576345476367),\n",
              "    (-96.56061214881424, 45.39301768653837),\n",
              "    (-96.73576941606751, 45.47081655535385),\n",
              "    (-96.83470394569031, 45.62532908790644),\n",
              "    (-96.78072791216141, 45.760798855159635),\n",
              "    (-96.55689144568913, 45.872445787126196),\n",
              "    (-96.53945064979075, 46.017966620460186),\n",
              "    (-96.53890804725165, 46.199480088885366),\n",
              "    (-96.60135901567634, 46.35135712339115),\n",
              "    (-96.6854882474475, 46.51328522397773),\n",
              "    (-96.73365068234358, 46.71647695574927),\n",
              "    (-96.7458204821483, 46.9445250514533),\n",
              "    (-96.77969438351562, 46.99904368752135),\n",
              "    (-96.82041541216165, 47.29220408791309),\n",
              "    (-96.82465287960952, 47.42661448830438),\n",
              "    (-96.84423824744817, 47.546193752627744),\n",
              "    (-96.8939768135291, 47.748868720076416),\n",
              "    (-97.01515804725352, 47.95420502378812),\n",
              "    (-97.131042446668, 48.137294623398304),\n",
              "    (-97.14850908078273, 48.31878225360731),\n",
              "    (-97.1612214831265, 48.51458425556132),\n",
              "    (-97.12734758175912, 48.64212169045754),\n",
              "    (-97.12047461626435, 48.75852285419501),\n",
              "    (-97.21413814979343, 48.90244171812793),\n",
              "    (-97.22894344764501, 49.000885321643864),\n",
              "    (-95.15883724646483, 48.9998259547819),\n",
              "    (-95.15620174841791, 49.38401439065592),\n",
              "    (-94.81754024939323, 49.38928538674975),\n",
              "    (-94.64026424841592, 48.84001658791925),\n",
              "    (-94.32912044958647, 48.670672919298795),\n",
              "    (-93.63061011429733, 48.60928131773602),\n",
              "    (-92.60984554723586, 48.45001455341253),\n",
              "    (-91.63987891311746, 48.13993012144516),\n",
              "    (-90.83026424840062, 48.27010305438836),\n",
              "    (-89.59995174839577, 48.01027395282483),\n",
              "    (-89.59940914585667, 48.01027395282483)]],\n",
              "  'type': 'Polygon'},\n",
              " 'id': '0',\n",
              " 'properties': OrderedDict([(u'scalerank', 2L),\n",
              "              (u'featurecla', u'Admin-1 scale rank'),\n",
              "              (u'adm1_code', u'USA-3514'),\n",
              "              (u'diss_me', 3514L),\n",
              "              (u'adm1_cod_1', u'USA-3514'),\n",
              "              (u'iso_3166_2', u'US-MN'),\n",
              "              (u'wikipedia', u'http://en.wikipedia.org/wiki/Minnesota'),\n",
              "              (u'sr_sov_a3', u'US1'),\n",
              "              (u'sr_adm0_a3', u'USA'),\n",
              "              (u'iso_a2', u'US'),\n",
              "              (u'adm0_sr', 1L),\n",
              "              (u'admin0_lab', 2L),\n",
              "              (u'name', u'Minnesota'),\n",
              "              (u'name_alt', u'MN|Minn.'),\n",
              "              (u'name_local', None),\n",
              "              (u'type', u'State'),\n",
              "              (u'type_en', u'State'),\n",
              "              (u'code_local', u'US32'),\n",
              "              (u'code_hasc', u'US.MN'),\n",
              "              (u'note', None),\n",
              "              (u'hasc_maybe', None),\n",
              "              (u'region', u'Midwest'),\n",
              "              (u'region_cod', None),\n",
              "              (u'region_big', u'West North Central'),\n",
              "              (u'big_code', None),\n",
              "              (u'provnum_ne', 0L),\n",
              "              (u'gadm_level', 1L),\n",
              "              (u'check_me', 10L),\n",
              "              (u'scaleran_1', 2L),\n",
              "              (u'datarank', 1L),\n",
              "              (u'abbrev', u'Minn.'),\n",
              "              (u'postal', u'MN'),\n",
              "              (u'area_sqkm', 0.0),\n",
              "              (u'sameascity', -99L),\n",
              "              (u'labelrank', 0L),\n",
              "              (u'featurec_1', u'Admin-1 scale rank'),\n",
              "              (u'admin', u'United States of America'),\n",
              "              (u'name_len', 9L),\n",
              "              (u'mapcolor9', 1L),\n",
              "              (u'mapcolor13', 1L)]),\n",
              " 'type': 'Feature'}"
            ]
          },
          "metadata": {
            "tags": []
          },
          "execution_count": 36
        }
      ]
    },
    {
      "metadata": {
        "id": "Bq5_ToGdVHLg",
        "colab_type": "code",
        "colab": {},
        "outputId": "450bdad9-64f3-4ad6-f4ac-d18b6dd4811a"
      },
      "cell_type": "code",
      "source": [
        "rec.keys()"
      ],
      "execution_count": 0,
      "outputs": [
        {
          "output_type": "execute_result",
          "data": {
            "text/plain": [
              "['geometry', 'type', 'id', 'properties']"
            ]
          },
          "metadata": {
            "tags": []
          },
          "execution_count": 37
        }
      ]
    },
    {
      "metadata": {
        "id": "L0lW1ibOVHLo",
        "colab_type": "code",
        "colab": {}
      },
      "cell_type": "code",
      "source": [
        "import  pprint"
      ],
      "execution_count": 0,
      "outputs": []
    },
    {
      "metadata": {
        "id": "fvFvsK5-VHLv",
        "colab_type": "code",
        "colab": {},
        "outputId": "1c8b5d30-be57-472d-c756-92a1211f2e28"
      },
      "cell_type": "code",
      "source": [
        "pprint.pprint(rec['type'])"
      ],
      "execution_count": 0,
      "outputs": [
        {
          "output_type": "stream",
          "text": [
            "'Feature'\n"
          ],
          "name": "stdout"
        }
      ]
    },
    {
      "metadata": {
        "id": "EX9g0lcXVHL3",
        "colab_type": "code",
        "colab": {},
        "outputId": "7627f0d2-7cf9-40e0-8c0a-0a1d2015027d"
      },
      "cell_type": "code",
      "source": [
        "print(pprint.pprint(rec['properties']))"
      ],
      "execution_count": 0,
      "outputs": [
        {
          "output_type": "stream",
          "text": [
            "OrderedDict([(u'scalerank', 2L), (u'featurecla', u'Admin-1 scale rank'), (u'adm1_code', u'USA-3514'), (u'diss_me', 3514L), (u'adm1_cod_1', u'USA-3514'), (u'iso_3166_2', u'US-MN'), (u'wikipedia', u'http://en.wikipedia.org/wiki/Minnesota'), (u'sr_sov_a3', u'US1'), (u'sr_adm0_a3', u'USA'), (u'iso_a2', u'US'), (u'adm0_sr', 1L), (u'admin0_lab', 2L), (u'name', u'Minnesota'), (u'name_alt', u'MN|Minn.'), (u'name_local', None), (u'type', u'State'), (u'type_en', u'State'), (u'code_local', u'US32'), (u'code_hasc', u'US.MN'), (u'note', None), (u'hasc_maybe', None), (u'region', u'Midwest'), (u'region_cod', None), (u'region_big', u'West North Central'), (u'big_code', None), (u'provnum_ne', 0L), (u'gadm_level', 1L), (u'check_me', 10L), (u'scaleran_1', 2L), (u'datarank', 1L), (u'abbrev', u'Minn.'), (u'postal', u'MN'), (u'area_sqkm', 0.0), (u'sameascity', -99L), (u'labelrank', 0L), (u'featurec_1', u'Admin-1 scale rank'), (u'admin', u'United States of America'), (u'name_len', 9L), (u'mapcolor9', 1L), (u'mapcolor13', 1L)])\n",
            "None\n"
          ],
          "name": "stdout"
        }
      ]
    },
    {
      "metadata": {
        "id": "rtPUgZhLVHMB",
        "colab_type": "code",
        "colab": {},
        "outputId": "e0042879-36af-4198-bf94-28b25fb876cc"
      },
      "cell_type": "code",
      "source": [
        "shp.driver"
      ],
      "execution_count": 0,
      "outputs": [
        {
          "output_type": "execute_result",
          "data": {
            "text/plain": [
              "u'ESRI Shapefile'"
            ]
          },
          "metadata": {
            "tags": []
          },
          "execution_count": 52
        }
      ]
    },
    {
      "metadata": {
        "id": "II9O31WUVHMN",
        "colab_type": "code",
        "colab": {},
        "outputId": "65505eb8-33fa-4478-c937-517d812c9152"
      },
      "cell_type": "code",
      "source": [
        "print(shp.crs)\n",
        "\n",
        "print(shp.schema)"
      ],
      "execution_count": 0,
      "outputs": [
        {
          "output_type": "stream",
          "text": [
            "{'init': u'epsg:4326'}\n",
            "{'geometry': 'Polygon', 'properties': OrderedDict([(u'scalerank', 'int:10'), (u'featurecla', 'str:32'), (u'adm1_code', 'str:10'), (u'diss_me', 'int:9'), (u'adm1_cod_1', 'str:10'), (u'iso_3166_2', 'str:10'), (u'wikipedia', 'str:254'), (u'sr_sov_a3', 'str:3'), (u'sr_adm0_a3', 'str:3'), (u'iso_a2', 'str:2'), (u'adm0_sr', 'int:4'), (u'admin0_lab', 'int:4'), (u'name', 'str:100'), (u'name_alt', 'str:200'), (u'name_local', 'str:200'), (u'type', 'str:100'), (u'type_en', 'str:100'), (u'code_local', 'str:50'), (u'code_hasc', 'str:10'), (u'note', 'str:254'), (u'hasc_maybe', 'str:50'), (u'region', 'str:100'), (u'region_cod', 'str:50'), (u'region_big', 'str:200'), (u'big_code', 'str:50'), (u'provnum_ne', 'int:9'), (u'gadm_level', 'int:4'), (u'check_me', 'int:4'), (u'scaleran_1', 'int:4'), (u'datarank', 'int:4'), (u'abbrev', 'str:10'), (u'postal', 'str:10'), (u'area_sqkm', 'float:13.11'), (u'sameascity', 'int:4'), (u'labelrank', 'int:4'), (u'featurec_1', 'str:50'), (u'admin', 'str:200'), (u'name_len', 'int:9'), (u'mapcolor9', 'int:4'), (u'mapcolor13', 'int:4')])}\n"
          ],
          "name": "stdout"
        }
      ]
    },
    {
      "metadata": {
        "id": "-wsP7i1kVHMb",
        "colab_type": "code",
        "colab": {}
      },
      "cell_type": "code",
      "source": [
        "from shapely.geometry import shape\n",
        "minnesota={'type':'Polygon','coordinates':[[(-89.61369767938538, 47.81925202085796), (-89.72800594761503,\n",
        "47.641976019880644), (-89.84283098016755, 47.464725857119504),\n",
        "(-89.95765601272012, 47.286907253603175),]]}"
      ],
      "execution_count": 0,
      "outputs": []
    },
    {
      "metadata": {
        "id": "QIyrGMruVHMh",
        "colab_type": "code",
        "colab": {},
        "outputId": "e7ac99c7-7660-4ad9-ffd6-b485e5e5eed9"
      },
      "cell_type": "code",
      "source": [
        "geom=shape(minnesota)\n",
        "geom"
      ],
      "execution_count": 0,
      "outputs": [
        {
          "output_type": "execute_result",
          "data": {
            "image/svg+xml": "<svg xmlns=\"http://www.w3.org/2000/svg\" xmlns:xlink=\"http://www.w3.org/1999/xlink\" width=\"100.0\" height=\"100.0\" viewBox=\"-89.9789498034 47.2656134629 0.386545914715 0.574932348635\" preserveAspectRatio=\"xMinYMin meet\"><g transform=\"matrix(1,0,0,-1,0,95.1061592745)\"><path fill-rule=\"evenodd\" fill=\"#ff3333\" stroke=\"#555555\" stroke-width=\"0.0114986469727\" opacity=\"0.6\" d=\"M -89.6136976794,47.8192520209 L -89.7280059476,47.6419760199 L -89.8428309802,47.4647258571 L -89.9576560127,47.2869072536 L -89.6136976794,47.8192520209 z\" /></g></svg>",
            "text/plain": [
              "<shapely.geometry.polygon.Polygon at 0x412a390>"
            ]
          },
          "metadata": {
            "tags": []
          },
          "execution_count": 59
        }
      ]
    },
    {
      "metadata": {
        "id": "hMNvxfHaVHMp",
        "colab_type": "code",
        "colab": {},
        "outputId": "f9ba7091-4612-4276-9484-2f63c26eab8c"
      },
      "cell_type": "code",
      "source": [
        "\n",
        "line = LineString([(0, 0), (1, 1), (0, 2), (2, 2), (3, 1), (1, 0)])\n",
        "shape(line)"
      ],
      "execution_count": 0,
      "outputs": [
        {
          "output_type": "execute_result",
          "data": {
            "image/svg+xml": "<svg xmlns=\"http://www.w3.org/2000/svg\" xmlns:xlink=\"http://www.w3.org/1999/xlink\" width=\"100.0\" height=\"100.0\" viewBox=\"-0.12 -0.12 3.24 2.24\" preserveAspectRatio=\"xMinYMin meet\"><g transform=\"matrix(1,0,0,-1,0,2.0)\"><polyline fill=\"none\" stroke=\"#66cc99\" stroke-width=\"0.0648\" points=\"0.0,0.0 1.0,1.0 0.0,2.0 2.0,2.0 3.0,1.0 1.0,0.0\" opacity=\"0.8\" /></g></svg>",
            "text/plain": [
              "<shapely.geometry.linestring.LineString at 0x412a2f0>"
            ]
          },
          "metadata": {
            "tags": []
          },
          "execution_count": 65
        }
      ]
    },
    {
      "metadata": {
        "id": "_5DVf9OGVHM1",
        "colab_type": "code",
        "colab": {},
        "outputId": "9d8660b7-9b9c-425e-ff01-0c08250efafd"
      },
      "cell_type": "code",
      "source": [
        "dilated=line.buffer(0.5)\n",
        "shape(dilated)\n"
      ],
      "execution_count": 0,
      "outputs": [
        {
          "output_type": "execute_result",
          "data": {
            "image/svg+xml": "<svg xmlns=\"http://www.w3.org/2000/svg\" xmlns:xlink=\"http://www.w3.org/1999/xlink\" width=\"100.0\" height=\"100.0\" viewBox=\"-0.659998685854 -0.659998685854 4.31996451807 3.31999737171\" preserveAspectRatio=\"xMinYMin meet\"><g transform=\"matrix(1,0,0,-1,0,2.0)\"><path fill-rule=\"evenodd\" fill=\"#66cc99\" stroke=\"#555555\" stroke-width=\"0.0863992903614\" opacity=\"0.6\" d=\"M 0.292893218813,1.0 L -0.353553390593,1.64644660941 L -0.386505226681,1.68280335792 L -0.415734806151,1.72221488349 L -0.440960632174,1.76430163159 L -0.461939766256,1.80865828382 L -0.478470167866,1.85485766137 L -0.490392640202,1.90245483899 L -0.497592363336,1.95099142984 L -0.5,2.0 L -0.497592363336,2.04900857016 L -0.490392640202,2.09754516101 L -0.478470167866,2.14514233863 L -0.461939766256,2.19134171618 L -0.440960632174,2.23569836841 L -0.415734806151,2.27778511651 L -0.386505226681,2.31719664208 L -0.353553390593,2.35355339059 L -0.317196642082,2.38650522668 L -0.27778511651,2.41573480615 L -0.235698368413,2.44096063217 L -0.191341716183,2.46193976626 L -0.145142338627,2.47847016787 L -0.0975451610081,2.4903926402 L -0.0490085701648,2.49759236334 L -4.13473039871e-16,2.5 L 2.0,2.5 L 2.04900857016,2.49759236334 L 2.09754516101,2.4903926402 L 2.14514233863,2.47847016787 L 2.19134171618,2.46193976626 L 2.23569836841,2.44096063217 L 2.27778511651,2.41573480615 L 2.31719664208,2.38650522668 L 2.35355339059,2.35355339059 L 3.35355339059,1.35355339059 L 3.38695935986,1.31664247002 L 3.41652920776,1.27659251452 L 3.44196979362,1.2338005593 L 3.46302891222,1.18869082239 L 3.47949779399,1.14171049913 L 3.49121317468,1.09332532892 L 3.49805891388,1.04401497813 L 3.49996714636,0.994268284884 L 3.49691895485,0.94457841299 L 3.4889445576,0.895437962963 L 3.47612300879,0.847334088623 L 3.45858141484,0.800743667699 L 3.43649367432,0.756128574297 L 3.41007875405,0.713931100118 L 3.3795985183,0.674569569796 L 3.34535513289,0.638434193836 L 3.30768806959,0.605883200264 L 3.2669707408,0.577239283335 L 3.22360679775,0.5527864045 L 1.22360679775,-0.4472135955 L 1.17869547215,-0.466977438675 L 1.13206321148,-0.482244033841 L 1.08415910988,-0.492866355338 L 1.03544451005,-0.498742104406 L 0.986388560206,-0.499814694369 L 0.937463695972,-0.496073795598 L 0.889141090532,-0.487555434993 L 0.841886116992,-0.474341649025 L 0.796153866579,-0.456559693676 L 0.752384765864,-0.434380818895 L 0.711000335214,-0.408018619371 L 0.67239912932,-0.377726977498 L 0.636952898895,-0.343797618344 L 0.605003010515,-0.306557300187 L 0.576857159072,-0.266364667648 L 0.5527864045,-0.22360679775 L 0.533022561325,-0.178695472153 L 0.531885252388,-0.175221528799 L 0.353553390593,-0.353553390593 L 0.317196642082,-0.386505226681 L 0.27778511651,-0.415734806151 L 0.235698368413,-0.440960632174 L 0.191341716183,-0.461939766256 L 0.145142338627,-0.478470167866 L 0.0975451610081,-0.490392640202 L 0.0490085701648,-0.497592363336 L -3.02450737409e-16,-0.5 L -0.0490085701648,-0.497592363336 L -0.0975451610081,-0.490392640202 L -0.145142338627,-0.478470167866 L -0.191341716183,-0.461939766256 L -0.235698368413,-0.440960632174 L -0.27778511651,-0.415734806151 L -0.317196642082,-0.386505226681 L -0.353553390593,-0.353553390593 L -0.386505226681,-0.317196642082 L -0.415734806151,-0.27778511651 L -0.440960632174,-0.235698368413 L -0.461939766256,-0.191341716183 L -0.478470167866,-0.145142338627 L -0.490392640202,-0.0975451610081 L -0.497592363336,-0.0490085701648 L -0.5,-9.49410759657e-16 L -0.497592363336,0.0490085701648 L -0.490392640202,0.0975451610081 L -0.478470167866,0.145142338627 L -0.461939766256,0.191341716183 L -0.440960632174,0.235698368413 L -0.415734806151,0.27778511651 L -0.386505226681,0.317196642082 L -0.353553390593,0.353553390593 L 0.292893218813,1.0 z M 1.4503736709,0.784203829827 L 2.15591748296,1.13697573585 L 1.79289321881,1.5 L 1.20710678119,1.5 L 1.35355339059,1.35355339059 L 1.38650522668,1.31719664208 L 1.41573480615,1.27778511651 L 1.44096063217,1.23569836841 L 1.46193976626,1.19134171618 L 1.47847016787,1.14514233863 L 1.4903926402,1.09754516101 L 1.49759236334,1.04900857016 L 1.5,1.0 L 1.49759236334,0.950991429835 L 1.4903926402,0.902454838992 L 1.47847016787,0.854857661373 L 1.46193976626,0.808658283817 L 1.4503736709,0.784203829827 z\" /></g></svg>",
            "text/plain": [
              "<shapely.geometry.polygon.Polygon at 0x412a2b0>"
            ]
          },
          "metadata": {
            "tags": []
          },
          "execution_count": 70
        }
      ]
    },
    {
      "metadata": {
        "id": "y9KruBWHVHNK",
        "colab_type": "code",
        "colab": {},
        "outputId": "bae59559-727d-4b91-e3af-88a649e88265"
      },
      "cell_type": "code",
      "source": [
        "eroded=dilated.buffer(-0.2)\n",
        "eroded"
      ],
      "execution_count": 0,
      "outputs": [
        {
          "output_type": "execute_result",
          "data": {
            "image/svg+xml": "<svg xmlns=\"http://www.w3.org/2000/svg\" xmlns:xlink=\"http://www.w3.org/1999/xlink\" width=\"100.0\" height=\"100.0\" viewBox=\"-0.443738432935 -0.443738432935 3.88745007018 2.88771806516\" preserveAspectRatio=\"xMinYMin meet\"><g transform=\"matrix(1,0,0,-1,0,2.00024119929)\"><path fill-rule=\"evenodd\" fill=\"#66cc99\" stroke=\"#555555\" stroke-width=\"0.0777490014037\" opacity=\"0.6\" d=\"M 0.434314575051,0.858578643763 L 0.447495309486,0.873121343167 L 0.459187141274,0.888885953396 L 0.469277471683,0.905720652635 L 0.477669125316,0.923463313527 L 0.48428128596,0.941943064549 L 0.489050274894,0.960981935597 L 0.491930164148,0.980396571934 L 0.492893218813,1.0 L 0.491930164148,1.01960342807 L 0.489050274894,1.0390180644 L 0.48428128596,1.05805693545 L 0.477669125316,1.07653668647 L 0.469277471683,1.09427934737 L 0.459187141274,1.1111140466 L 0.447495309486,1.12687865683 L 0.434314575051,1.14142135624 L -0.208660334924,1.78439626621 L -0.231716686433,1.80983502996 L -0.249240333807,1.83346293324 L -0.264363660518,1.85869467951 L -0.276941020662,1.88528727326 L -0.286851287386,1.91298461328 L -0.293999019404,1.94151995904 L -0.298315380148,1.97061849957 L -0.299758800706,2.0 L -0.298315380148,2.02938150043 L -0.293999019404,2.05848004096 L -0.286851287386,2.08701538672 L -0.276941020662,2.11471272674 L -0.264363660518,2.14130532049 L -0.249240333807,2.16653706676 L -0.231716686433,2.19016497004 L -0.2119614807,2.2119614807 L -0.190164970037,2.23171668643 L -0.166537066758,2.24924033381 L -0.141305320488,2.26436366052 L -0.114712726736,2.27694102066 L -0.0870153867171,2.28685128739 L -0.0584800409569,2.2939990194 L -0.0293815004338,2.29831538015 L 0.00490972442178,2.3 L 1.99509027558,2.3 L 2.02938150043,2.29831538015 L 2.05848004096,2.2939990194 L 2.08701538672,2.28685128739 L 2.11471272674,2.27694102066 L 2.14130532049,2.26436366052 L 2.16653706676,2.24924033381 L 2.19016497004,2.23171668643 L 2.21560373379,2.20866033492 L 3.20860964115,1.21565442756 L 3.23198345258,1.18982823792 L 3.24971067699,1.16581815336 L 3.26496239476,1.14016423064 L 3.27758740799,1.1131207899 L 3.28746055864,1.08495592629 L 3.29448396922,1.05594885216 L 3.29858801316,1.02638712912 L 3.29973200502,0.99656381729 L 3.29790460384,0.966774570056 L 3.29312392556,0.9373147031 L 3.28543736344,0.908476266795 L 3.27492111819,0.88054515096 L 3.26167944261,0.853798250696 L 3.24584360805,0.828500721379 L 3.22757060303,0.804903350052 L 3.20704157699,0.78324006924 L 3.1844600444,0.763725637862 L 3.16004986729,0.746553512223 L 3.12970856451,0.729444085632 L 1.13855546967,-0.266132461788 L 1.10713108085,-0.279961193948 L 1.07917421978,-0.289113786463 L 1.05045486769,-0.295482055169 L 1.02124960765,-0.299004670157 L 0.991839702263,-0.299647706718 L 0.962508385008,-0.29740497206 L 0.933538132501,-0.292298064943 L 0.905207944109,-0.284376167673 L 0.877790655034,-0.273715572454 L 0.851550308758,-0.260418946643 L 0.826739614159,-0.244614344017 L 0.803597511789,-0.226453971538 L 0.782346872746,-0.206112723521 L 0.763192352299,-0.183786497304 L 0.746318418952,-0.159690306649 L 0.731887577907,-0.134056211046 L 0.717605718541,-0.101602136684 L 0.715027723141,-0.0948546487649 L 0.706370362647,-0.077472123185 L 0.696068034675,-0.0610111352247 L 0.68421786496,-0.0456268717067 L 0.670931571595,-0.0314643685777 L 0.656334411803,-0.0186571435745 L 0.640564001071,-0.00732593747886 L 0.623769015766,0.00242242417272 L 0.60610779149,0.0104960381924 L 0.587746830356,0.0168187901628 L 0.568859231281,0.02133107201 L 0.549623058092,0.0239903439617 L 0.530219660815,0.0247715355926 L 0.510831965989,0.023667282178 L 0.491642752119,0.0206879941246 L 0.472832926519,0.0158617588259 L 0.454579819801,0.00923407586678 L 0.437055514081,0.000867428074136 L 0.420425220664,-0.00915930754363 L 0.40484572251,-0.0207516034135 L 0.39046389615,-0.0338001725616 L 0.215603733788,-0.208660334924 L 0.190164970037,-0.231716686433 L 0.166537066758,-0.249240333807 L 0.141305320488,-0.264363660518 L 0.114712726736,-0.276941020662 L 0.0870153867171,-0.286851287386 L 0.0584800409569,-0.293999019404 L 0.0293815004338,-0.298315380148 L -6.43158725179e-16,-0.299758800706 L -0.0293815004338,-0.298315380148 L -0.0584800409569,-0.293999019404 L -0.0870153867171,-0.286851287386 L -0.114712726736,-0.276941020662 L -0.141305320488,-0.264363660518 L -0.166537066758,-0.249240333807 L -0.190164970037,-0.231716686433 L -0.2119614807,-0.2119614807 L -0.231716686433,-0.190164970037 L -0.249240333807,-0.166537066758 L -0.264363660518,-0.141305320488 L -0.276941020662,-0.114712726736 L -0.286851287386,-0.0870153867171 L -0.293999019404,-0.0584800409569 L -0.298315380148,-0.0293815004338 L -0.299758800706,-6.07398591203e-16 L -0.298315380148,0.0293815004338 L -0.293999019404,0.0584800409569 L -0.286851287386,0.0870153867171 L -0.276941020662,0.114712726736 L -0.264363660518,0.141305320488 L -0.249240333807,0.166537066758 L -0.231716686433,0.190164970037 L -0.208660334924,0.215603733788 L 0.434314575051,0.858578643763 z M 1.26957581228,0.869714848513 L 1.2620060115,0.851417108937 L 1.25628272782,0.832460495806 L 1.25246206504,0.813030835658 L 1.25058147609,0.793318592185 L 1.25065939588,0.773516999168 L 1.25269506056,0.753820166256 L 1.25666851508,0.734421176161 L 1.26254080873,0.715510191926 L 1.27025437702,0.697272592803 L 1.27973360592,0.679887157033 L 1.29088557313,0.66352430933 L 1.30360095892,0.648344450255 L 1.31775511783,0.634496383851 L 1.33320930047,0.62211585896 L 1.34981201367,0.611324238511 L 1.36740050553,0.602227309835 L 1.38580236085,0.594914247658 L 1.40483719122,0.589456739945 L 1.42431840335,0.585908285166 L 1.44405502821,0.58430366786 L 1.46385359301,0.584658617657 L 1.48352001779,0.586969655079 L 1.50286151791,0.591214125654 L 1.5216884939,0.597350421987 L 1.53981639,0.605318391627 L 2.24536020206,0.958090297654 L 2.26270577928,0.967871449188 L 2.27899271079,0.97932901596 L 2.29405953611,0.992349413389 L 2.30775689028,1.00680356377 L 2.31994898458,1.0225481759 L 2.33051495269,1.03942716557 L 2.3393500489,1.05727320293 L 2.34636668648,1.0759093713 L 2.351495306,1.09515092104 L 2.3546850649,1.11480710105 L 2.3559043415,1.13468304981 L 2.35514104851,1.15458172711 L 2.35240275283,1.17430586742 L 2.34771660055,1.1936599355 L 2.34112904785,1.21245206481 L 2.33270540041,1.23049595957 L 2.32252916606,1.24761274166 L 2.3107012269,1.26363272386 L 2.2973388392,1.27839709209 L 1.93431457505,1.64142135624 L 1.91977187565,1.65460209067 L 1.90400726542,1.66629392246 L 1.88717256618,1.67638425287 L 1.86942990529,1.6847759065 L 1.85095015426,1.69138806715 L 1.83191128322,1.69615705608 L 1.81249664688,1.69903694533 L 1.79289321881,1.7 L 1.20710678119,1.7 L 1.18750335312,1.69903694533 L 1.16808871678,1.69615705608 L 1.14904984574,1.69138806715 L 1.13057009471,1.6847759065 L 1.11282743382,1.67638425287 L 1.09599273458,1.66629392246 L 1.08022812435,1.65460209067 L 1.06568542495,1.64142135624 L 1.05250469051,1.62687865683 L 1.04081285873,1.6111140466 L 1.03072252832,1.59427934737 L 1.02233087468,1.57653668647 L 1.01571871404,1.55805693545 L 1.01094972511,1.5390180644 L 1.00806983585,1.51960342807 L 1.00710678119,1.5 L 1.00806983585,1.48039657193 L 1.01094972511,1.4609819356 L 1.01571871404,1.44194306455 L 1.02233087468,1.42346331353 L 1.03072252832,1.40572065263 L 1.04081285873,1.3888859534 L 1.05250469051,1.37312134317 L 1.06568542495,1.35857864376 L 1.20866033492,1.21560373379 L 1.23171668643,1.19016497004 L 1.24924033381,1.16653706676 L 1.26436366052,1.14130532049 L 1.27694102066,1.11471272674 L 1.28685128739,1.08701538672 L 1.2939990194,1.05848004096 L 1.29831538015,1.02938150043 L 1.29975880071,1.0 L 1.29831538015,0.970618499566 L 1.2939990194,0.941519959043 L 1.28685128739,0.912984613283 L 1.27694102066,0.885287273264 L 1.26957581228,0.869714848513 z\" /></g></svg>",
            "text/plain": [
              "<shapely.geometry.polygon.Polygon at 0x412a950>"
            ]
          },
          "metadata": {
            "tags": []
          },
          "execution_count": 66
        }
      ]
    },
    {
      "metadata": {
        "id": "Oq_IxOfOVHNl",
        "colab_type": "code",
        "colab": {},
        "outputId": "ed314121-944e-456e-a3f3-8fb86ea64d67"
      },
      "cell_type": "code",
      "source": [
        "shp"
      ],
      "execution_count": 0,
      "outputs": [
        {
          "output_type": "execute_result",
          "data": {
            "text/plain": [
              "<open Collection 'F:/qgis data/Natural_Earth_quick_start/packages/Natural_Earth_quick_start/110m_cultural/ne_110m_admin_1_states_provinces_shp.shp:ne_110m_admin_1_states_provinces_shp', mode 'r' at 0xab69ad0>"
            ]
          },
          "metadata": {
            "tags": []
          },
          "execution_count": 6
        }
      ]
    },
    {
      "metadata": {
        "id": "zvdouMZLVHNs",
        "colab_type": "code",
        "colab": {},
        "outputId": "9a519049-32a7-4e98-d9c4-75eb2a454a26"
      },
      "cell_type": "code",
      "source": [
        "type(shp)"
      ],
      "execution_count": 0,
      "outputs": [
        {
          "output_type": "execute_result",
          "data": {
            "text/plain": [
              "fiona.collection.Collection"
            ]
          },
          "metadata": {
            "tags": []
          },
          "execution_count": 7
        }
      ]
    },
    {
      "metadata": {
        "id": "6kfizJyVVHN4",
        "colab_type": "code",
        "colab": {}
      },
      "cell_type": "code",
      "source": [
        ""
      ],
      "execution_count": 0,
      "outputs": []
    }
  ]
}