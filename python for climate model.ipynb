{
 "cells": [
  {
   "cell_type": "code",
   "execution_count": 1,
   "metadata": {
    "collapsed": true
   },
   "outputs": [],
   "source": [
    "import numpy as np"
   ]
  },
  {
   "cell_type": "code",
   "execution_count": 2,
   "metadata": {
    "collapsed": true
   },
   "outputs": [],
   "source": [
    "from mpl_toolkits.basemap import Basemap"
   ]
  },
  {
   "cell_type": "code",
   "execution_count": 3,
   "metadata": {
    "collapsed": true
   },
   "outputs": [],
   "source": [
    "lat=np.arange(-90,90,5)\n",
    "lon=np.arange(-180,180,5)\n",
    "latmg,lonmg=np.meshgrid(lat,lon)"
   ]
  },
  {
   "cell_type": "code",
   "execution_count": 4,
   "metadata": {
    "collapsed": false
   },
   "outputs": [
    {
     "data": {
      "text/plain": [
       "array([[-90, -85, -80, ...,  75,  80,  85],\n",
       "       [-90, -85, -80, ...,  75,  80,  85],\n",
       "       [-90, -85, -80, ...,  75,  80,  85],\n",
       "       ..., \n",
       "       [-90, -85, -80, ...,  75,  80,  85],\n",
       "       [-90, -85, -80, ...,  75,  80,  85],\n",
       "       [-90, -85, -80, ...,  75,  80,  85]])"
      ]
     },
     "execution_count": 4,
     "metadata": {},
     "output_type": "execute_result"
    }
   ],
   "source": [
    "latmg"
   ]
  },
  {
   "cell_type": "code",
   "execution_count": 5,
   "metadata": {
    "collapsed": false
   },
   "outputs": [
    {
     "data": {
      "text/plain": [
       "array([[-180, -180, -180, ..., -180, -180, -180],\n",
       "       [-175, -175, -175, ..., -175, -175, -175],\n",
       "       [-170, -170, -170, ..., -170, -170, -170],\n",
       "       ..., \n",
       "       [ 165,  165,  165, ...,  165,  165,  165],\n",
       "       [ 170,  170,  170, ...,  170,  170,  170],\n",
       "       [ 175,  175,  175, ...,  175,  175,  175]])"
      ]
     },
     "execution_count": 5,
     "metadata": {},
     "output_type": "execute_result"
    }
   ],
   "source": [
    "lonmg"
   ]
  },
  {
   "cell_type": "code",
   "execution_count": null,
   "metadata": {
    "collapsed": true
   },
   "outputs": [],
   "source": []
  }
 ],
 "metadata": {
  "kernelspec": {
   "display_name": "Python 2",
   "language": "python",
   "name": "python2"
  },
  "language_info": {
   "codemirror_mode": {
    "name": "ipython",
    "version": 2
   },
   "file_extension": ".py",
   "mimetype": "text/x-python",
   "name": "python",
   "nbconvert_exporter": "python",
   "pygments_lexer": "ipython2",
   "version": "2.7.13"
  }
 },
 "nbformat": 4,
 "nbformat_minor": 2
}
